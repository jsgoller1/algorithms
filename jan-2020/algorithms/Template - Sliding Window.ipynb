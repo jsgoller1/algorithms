{
 "cells": [
  {
   "cell_type": "markdown",
   "metadata": {},
   "source": [
    "# Template - Sliding Window\n",
    "\n",
    "Some problems call for finding a subarray within an array input. \"Sliding window\" refers to a technique using two pointers and moving them left-to-right to find the correct subarray (i.e. it's a `window` in the array, and it `slides`. This technique is tricky to get right, so here's a useful template:"
   ]
  },
  {
   "cell_type": "markdown",
   "metadata": {},
   "source": [
    "```\n",
    "def sliding_window(arr):\n",
    "    left = 0\n",
    "    for right, val in enumerate(arr):\n",
    "        condition()\n",
    "        while !condition and left < len(arr):\n",
    "            left += 1\n",
    "    return answer\n",
    "```    \n",
    "This `right-for-loop, condition(), left-while-loop` technique can cleanly handle several problems.\n",
    "- `condition()` may occur before, during, or after the `while()`.\n",
    "- `left == right` should mean a single element array; the entire length of the subarray should be `right-left+1`. \n",
    "- This technique works well for problems finding a single contiguous subarray but not for finding \"all possible subarrays\". "
   ]
  },
  {
   "cell_type": "markdown",
   "metadata": {},
   "source": [
    "## Example: Longest continuous subarray with sum = K\n",
    "\n",
    "Given an array of non-negative integers “nums” and an integer “target”, return the length of longest continuous subarray whose sum is equal to target.\n",
    "\n",
    "Example 1:\n",
    "```\n",
    "Input: nums = [10, 10, 30, 20, 10, 5, 5, 10, 40, 10], target = 50\n",
    "Output: 5\n",
    "```\n",
    "Example 2:\n",
    "```\n",
    "Input: nums = [10, 10, 30, 20, 10, 5, 5, 10, 40, 10], target = 11\n",
    "Output: 0\n",
    "```\n",
    "Example 3:\n",
    "```\n",
    "Input: nums = [10, 10, 30, 20, 10, 5, 5, 10, 40, 10], target = 10\n",
    "Output: 2\n",
    "```\n",
    "\n",
    "Constraints:\n",
    "- 1 <= nums.length <= 2 * 10^4\n",
    "- 0 <= nums[i] <= 1000\n",
    "- 0 <= target <= 10^7 \n",
    "- may not be solution (return 0)\n"
   ]
  },
  {
   "cell_type": "code",
   "execution_count": 69,
   "metadata": {},
   "outputs": [],
   "source": [
    "def max_subarr_eq_target(arr, target): \n",
    "    best = csum = left = 0\n",
    "    for right, val in enumerate(arr):\n",
    "        csum += val\n",
    "        while csum > target and left < len(arr):\n",
    "            csum -= arr[left]\n",
    "            left += 1 \n",
    "        best = max(right-left+1, best) if csum == target else best\n",
    "    return best\n",
    "\n",
    "cases = [\n",
    "    ([1], 50, 0),\n",
    "    ([50], 50, 1),\n",
    "    ([10, 50], 50, 1),\n",
    "    ([1,1,1,1], 50, 0),\n",
    "    ([100,100,100], 1, 0),\n",
    "    ([0, 25, 25, 0], 50, 4),\n",
    "    ([100,100,100,50,0,0], 50, 3),\n",
    "    ([10, 10, 30, 20, 10, 5, 5, 10, 40, 10], 50, 5)\n",
    "]\n",
    "for arr, target, expected in cases:\n",
    "    actual = max_subarr_eq_target(arr, target)\n",
    "    assert actual == expected, f\"{arr,target}; {expected} != {actual}\""
   ]
  },
  {
   "cell_type": "markdown",
   "metadata": {},
   "source": [
    "## Example: [Longest Substring Without Repeating Characters](https://leetcode.com/problems/longest-substring-without-repeating-characters/)"
   ]
  },
  {
   "cell_type": "code",
   "execution_count": 70,
   "metadata": {},
   "outputs": [],
   "source": [
    "from collections import Counter\n",
    "\n",
    "def longest_substr_no_repeats(string):\n",
    "    longest = left = 0\n",
    "    counts = Counter()\n",
    "    no_repeats = lambda: counts.most_common(1)[0][1] == 1\n",
    "    \n",
    "    for right, char in enumerate(string):\n",
    "        counts[char] += 1\n",
    "        while not no_repeats() and left < len(string):\n",
    "            left_char = string[left]\n",
    "            counts[left_char] = counts[left_char]-1 if counts[left_char] > 0 else 0\n",
    "            left += 1\n",
    "        longest = max(longest, right-left+1) if no_repeats() else longest\n",
    "    return longest\n",
    "\n",
    "cases = [\n",
    "    (\"abcabcbb\", 3),\n",
    "    (\"bbbbb\", 1),\n",
    "    (\"pwwkew\", 3),\n",
    "    (\"\", 0),\n",
    "]\n",
    "for s, expected in cases:\n",
    "    actual = longest_substr_no_repeats(s)\n",
    "    assert actual == expected, f\"{s}; {expected} != {actual}\""
   ]
  },
  {
   "cell_type": "markdown",
   "metadata": {},
   "source": [
    "## Example: [Subarray product less than K](https://leetcode.com/problems/subarray-product-less-than-k/)\n",
    "\n",
    "The key insight here is that if an array has `n` elements and the total product is less than `k`, then there are `n + n-1 + n-2 + ... + 1` valid subarrays whose total product is also less than `k`. With the sliding window approach, there may be overlap: for `k = 100, nums = [10,5,1,2,6]`, the two valid windows are `[10,5,1]` and `[5,1,2,6]`, so we can't count `[5], [1], [5,1]` twice. However, after some playing with it, I found that the differences of the indexes worked, i.e.`ans += r-l+1 if prod < k`"
   ]
  },
  {
   "cell_type": "code",
   "execution_count": 86,
   "metadata": {},
   "outputs": [],
   "source": [
    "class Solution:\n",
    "    def numSubarrayProductLessThanK(self, nums: List[int], k: int) -> int:\n",
    "        l = ans = 0\n",
    "        prod = 1\n",
    "        for r, val in enumerate(nums):\n",
    "            prod *= val\n",
    "            while prod >= k and l < len(nums):\n",
    "                prod /= nums[l]\n",
    "                l+= 1 \n",
    "            ans += r-l+1 if prod < k else 0\n",
    "        return ans \n",
    "\n",
    "s = Solution()\n",
    "cases = [\n",
    "    ([10,5,2,6],100,8),\n",
    "    ([10,5,1,2,6],100,13),\n",
    "    ([1,2,3],0,0)\n",
    "]\n",
    "for arr, target, expected in cases:\n",
    "    actual = s.numSubarrayProductLessThanK(arr, target)\n",
    "    assert actual == expected, f\"{arr,target}; {expected} != {actual}\""
   ]
  },
  {
   "cell_type": "code",
   "execution_count": 85,
   "metadata": {},
   "outputs": [
    {
     "data": {
      "text/plain": [
       "1"
      ]
     },
     "execution_count": 85,
     "metadata": {},
     "output_type": "execute_result"
    }
   ],
   "source": [
    "x = 1\n",
    "x += 1 if False else 0\n",
    "x"
   ]
  },
  {
   "cell_type": "code",
   "execution_count": null,
   "metadata": {},
   "outputs": [],
   "source": []
  }
 ],
 "metadata": {
  "kernelspec": {
   "display_name": "Python 3",
   "language": "python",
   "name": "python3"
  },
  "language_info": {
   "codemirror_mode": {
    "name": "ipython",
    "version": 3
   },
   "file_extension": ".py",
   "mimetype": "text/x-python",
   "name": "python",
   "nbconvert_exporter": "python",
   "pygments_lexer": "ipython3",
   "version": "3.8.5"
  }
 },
 "nbformat": 4,
 "nbformat_minor": 4
}
