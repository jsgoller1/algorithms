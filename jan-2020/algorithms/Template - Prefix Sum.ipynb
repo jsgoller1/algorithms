{
 "cells": [
  {
   "cell_type": "markdown",
   "metadata": {},
   "source": [
    "# Template - Prefix Sums\n",
    "\n",
    "Prefix sums are a technique for obtaining cumulative sums of arrays. Given an array `A`, the prefix sum array `P` may store the following at `P[i]`:\n",
    "- Cumulative sum in `A` from `A[0]` to `A[i]`\n",
    "- Cumulative sum in `A` of all values left of `i`; `P[0] = 0` and `P[i] = A[0] + A[1] + ... + A[i-1]`. \n",
    "- Any of the above, but from the right, e.g. the sum from `A[i]` to `A[-1]`\n",
    "- Any of the above, but `P` stores a cumulative product or some other operation.\n",
    "\n",
    "Prefix sums are often useful in situations asking for a count of particular types of subarrays. Problems solvable with prefix sums can frequently also be solved with dynamic programming or sliding windows. \n",
    "\n",
    "A useful template for leveraging prefix sums is:\n",
    "```\n",
    "1. Generate required prefix sum array/s\n",
    "2. Traverse arrays and count instances of complements wrt the requested value\n",
    "\n",
    "```"
   ]
  },
  {
   "cell_type": "markdown",
   "metadata": {},
   "source": [
    "## Example: [Subarray sum equals K](https://leetcode.com/problems/subarray-sum-equals-k/), [Binary subarrays with sum](https://leetcode.com/problems/binary-subarrays-with-sum/)\n",
    "\n",
    "These two problems are identical; using binary subarrays causes a subset of possible cases. To solve them, we can imagine a prefix sum array with `sum of values left of i`:\n",
    "\n",
    "```\n",
    "arr  = [4,-1, 1, 2, 3]\n",
    "pref = [0, 4, 3, 4, 6, 7]\n",
    "```\n",
    "To solve this, we need to find all indexes `i,j` with `i<j` where `arr[j] - arr[i] == k` or `arr[j] == arr[i] + k`. Each `pref[n]` can be a value of `j` if we've seen `pref[n]-k` previously in `pref`, and it can otherwise be a possible value for `i`. In the solution below, we compress some operations and don't keep an explicit prefixes array (rather a default dict). "
   ]
  },
  {
   "cell_type": "code",
   "execution_count": 10,
   "metadata": {},
   "outputs": [],
   "source": [
    "from typing import List\n",
    "from collections import defaultdict\n",
    "\n",
    "class Solution:\n",
    "    def subarraySum(self, nums: List[int], k: int) -> int:\n",
    "        subarrays = csum = 0\n",
    "        prefixes = defaultdict(int)\n",
    "        prefixes[csum+k] += 1\n",
    "        for val in nums:\n",
    "            csum += val \n",
    "            subarrays = subarrays + prefixes[csum]           \n",
    "            prefixes[csum+k] += 1\n",
    "        return subarrays\n",
    "\n",
    "s = Solution()\n",
    "cases = [\n",
    "    ([1,1,1], 2, 2),\n",
    "    ([1,2,3], 3, 2),\n",
    "    ([4,-1,1,2,3], 3, 3)\n",
    "]\n",
    "for arr, val, expected in cases:\n",
    "    actual = s.subarraySum(arr, val)\n",
    "    assert expected == actual, f\"{arr,val}: {expected} != {actual}\""
   ]
  },
  {
   "cell_type": "markdown",
   "metadata": {},
   "source": [
    "## Example: [Product of Array Except Self](https://leetcode.com/problems/product-of-array-except-self/)\n",
    "\n",
    "This `O(n)` solution uses left and right prefix products and no division. `solution[i] =  left_prefix[i-1] * right_prefix[i+1]`."
   ]
  },
  {
   "cell_type": "code",
   "execution_count": null,
   "metadata": {},
   "outputs": [],
   "source": [
    "from collections import deque\n",
    "from typing import List\n",
    "\n",
    "class Solution:\n",
    "    def productExceptSelf(self, nums: List[int]) -> List[int]:\n",
    "        r_prefix = deque([])\n",
    "        l_prefix = deque([])\n",
    "        l_prod = r_prod = 1\n",
    "        for i, val in enumerate(nums):\n",
    "            r_prod *= val\n",
    "            r_prefix.append(r_prod)\n",
    "            l_prod *= nums[len(nums)-1-i]\n",
    "            l_prefix.appendleft(l_prod)\n",
    "        \n",
    "        solution = []\n",
    "        for i, _ in enumerate(nums):\n",
    "            r = r_prefix[i-1] if i > 0 else 1\n",
    "            l = l_prefix[i+1] if i < len(nums)-1 else 1\n",
    "            solution.append(r*l)\n",
    "        return solution\n",
    "\n",
    "s = Solution()\n",
    "assert s.productExceptSelf([1,2,3,4]) == [24, 12, 8, 6]\n",
    "assert s.productExceptSelf([0,1,2,4]) == [8, 0, 0, 0]\n",
    "assert s.productExceptSelf([0,1,2,0]) == [0, 0, 0, 0]\n",
    "assert s.productExceptSelf([1,2]) == [2,1]\n"
   ]
  },
  {
   "cell_type": "markdown",
   "metadata": {},
   "source": [
    "## Example: [Two sum](https://leetcode.com/problems/two-sum/)"
   ]
  },
  {
   "cell_type": "markdown",
   "metadata": {},
   "source": [
    "We don't need prefix sums here, but we can leverage `complementary elements` by computing a list of complements with regard to the target and then scanning it for the correct complement also in the list.\n",
    "```\n",
    "tgt = 9\n",
    "A: [2, 7, 11, 15]\n",
    "C: [7, 2, -2, -6] # C[i] = 9 - A[i]\n",
    "    ^  ^\n",
    "```\n",
    "However, we can compress this down to one pass storing the required complement for each `A[i]`; if `9 = a,b` for `a,b` in `C`, then by the time we find `b`, we will already know `a`:"
   ]
  },
  {
   "cell_type": "code",
   "execution_count": null,
   "metadata": {},
   "outputs": [],
   "source": [
    "class Solution:\n",
    "    def twoSum(self, nums: List[int], target: int) -> List[int]:\n",
    "        comps = {}\n",
    "        for i, val in enumerate(nums):\n",
    "            if val in comps and i != comps[val]:\n",
    "                return [i, comps[val]]\n",
    "            comps[target - val] = i\n",
    "\n",
    "s = Solution()\n",
    "cases = [\n",
    "    ([2, 7, 11, 15], 9, [0,1]),\n",
    "    ([-1,-2,-3,-4,-5], -8, [2,4])\n",
    "]\n",
    "for arr, target, expected in cases:\n",
    "    actual = s.twoSum(arr, target)\n",
    "    assert sorted(expected) == sorted(actual), f\"arr,target: {expected} != {actual}\"\n"
   ]
  }
 ],
 "metadata": {
  "kernelspec": {
   "display_name": "Python 3",
   "language": "python",
   "name": "python3"
  },
  "language_info": {
   "codemirror_mode": {
    "name": "ipython",
    "version": 3
   },
   "file_extension": ".py",
   "mimetype": "text/x-python",
   "name": "python",
   "nbconvert_exporter": "python",
   "pygments_lexer": "ipython3",
   "version": "3.8.5"
  }
 },
 "nbformat": 4,
 "nbformat_minor": 4
}
