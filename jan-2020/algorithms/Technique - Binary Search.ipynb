{
 "cells": [
  {
   "cell_type": "markdown",
   "metadata": {},
   "source": [
    "# Technique - Binary Search\n",
    "\n",
    "Binary search is a powerful array searching algorithm, but it's [notoriously tough to implement correctly](https://en.wikipedia.org/wiki/Binary_search_algorithm#Implementation_issues). I've tried a couple different approaches for this, but the best is just to memorize the one presented below (from [Wikipedia](https://en.wikipedia.org/wiki/Binary_search_algorithm#Procedure)). \n",
    "\n",
    "If `val` is absent, the exit condition is lo > hi, so we expect this to occur; by setting `lo`/`hi` to either `mid+1` or `mid-1` (rather than `mid` itself), we force `lo` and `hi` to intersect eventually. `val` can be absent in 3 ways:\n",
    "- `val < arr[0]`\n",
    "- `arr[-1] < val` \n",
    "- `arr[i] < val < arr[i+1]` for some `0 <= i < len(arr)-1` "
   ]
  },
  {
   "cell_type": "code",
   "execution_count": 17,
   "metadata": {},
   "outputs": [],
   "source": [
    "def binary_search(arr, val):\n",
    "    lo, hi = 0, len(arr)-1\n",
    "\n",
    "    while lo <= hi:\n",
    "        mid = (hi+lo)//2\n",
    "        if arr[mid] == val:\n",
    "            return mid\n",
    "        lo, hi = (mid+1, hi) if arr[mid] < val else (lo, mid-1)\n",
    "    \n",
    "    return -1 # returning lo gives correct insertion index\n",
    "\n",
    "cases = [\n",
    "    ([], 10, -1), # Empty arr\n",
    "    ([10], 10, 0), # Singleton arr, val present\n",
    "    ([0], 10, -1), # Singleton arr, val missing\n",
    "    ([i for i in range(10)], 0, 0), # Even length array, value at lowest bound\n",
    "    ([i for i in range(10)], 5, 5), # Even length array, value between bounds\n",
    "    ([i for i in range(10)], 9, 9), # Even length array, value at highest bound    \n",
    "    ([i for i in range(10)], 67, -1), # Even length array, value missing\n",
    "    ([i for i in range(11)], 0, 0), # Odd length array, value at lowest bound\n",
    "    ([i for i in range(11)], 6, 6), # Odd length array, value between bounds\n",
    "    ([i for i in range(11)], 10, 10), # Odd length array, value at highest bound    \n",
    "    ([i for i in range(11)], 67, -1), # Odd length array, value missing\n",
    "]\n",
    "for arr, val, expected in cases:\n",
    "    actual = binary_search(arr, val)\n",
    "    assert actual == expected, f\"{arr},{val}: {expected} != {actual}\""
   ]
  },
  {
   "cell_type": "markdown",
   "metadata": {},
   "source": [
    "## Example: [ Search a 2D Matrix II](https://leetcode.com/problems/search-a-2d-matrix-ii/)\n",
    "\n",
    "We can leverage a binary search on each row for `O(m log(n))` performance. We can also prune out any rows or columns where `row[0] <= target <= row[-1]` does not hold, but since there are edge cases where we can prune only 1 or 2 out and we can't ensure we always prune out a certain factor of them, it's still `O(m log(n))`."
   ]
  },
  {
   "cell_type": "code",
   "execution_count": 19,
   "metadata": {},
   "outputs": [
    {
     "ename": "NameError",
     "evalue": "name 'List' is not defined",
     "output_type": "error",
     "traceback": [
      "\u001b[0;31m---------------------------------------------------------------------------\u001b[0m",
      "\u001b[0;31mNameError\u001b[0m                                 Traceback (most recent call last)",
      "\u001b[0;32m<ipython-input-19-12826c109575>\u001b[0m in \u001b[0;36m<module>\u001b[0;34m\u001b[0m\n\u001b[1;32m     11\u001b[0m     \u001b[0;32mreturn\u001b[0m \u001b[0mlo\u001b[0m\u001b[0;34m,\u001b[0m \u001b[0;32mFalse\u001b[0m\u001b[0;34m\u001b[0m\u001b[0;34m\u001b[0m\u001b[0m\n\u001b[1;32m     12\u001b[0m \u001b[0;34m\u001b[0m\u001b[0m\n\u001b[0;32m---> 13\u001b[0;31m \u001b[0;32mclass\u001b[0m \u001b[0mSolution\u001b[0m\u001b[0;34m:\u001b[0m\u001b[0;34m\u001b[0m\u001b[0;34m\u001b[0m\u001b[0m\n\u001b[0m\u001b[1;32m     14\u001b[0m     \u001b[0;32mdef\u001b[0m \u001b[0msearchMatrix\u001b[0m\u001b[0;34m(\u001b[0m\u001b[0mself\u001b[0m\u001b[0;34m,\u001b[0m \u001b[0mmatrix\u001b[0m\u001b[0;34m:\u001b[0m \u001b[0mList\u001b[0m\u001b[0;34m[\u001b[0m\u001b[0mList\u001b[0m\u001b[0;34m[\u001b[0m\u001b[0mint\u001b[0m\u001b[0;34m]\u001b[0m\u001b[0;34m]\u001b[0m\u001b[0;34m,\u001b[0m \u001b[0mval\u001b[0m\u001b[0;34m:\u001b[0m \u001b[0mint\u001b[0m\u001b[0;34m)\u001b[0m \u001b[0;34m->\u001b[0m \u001b[0mbool\u001b[0m\u001b[0;34m:\u001b[0m\u001b[0;34m\u001b[0m\u001b[0;34m\u001b[0m\u001b[0m\n\u001b[1;32m     15\u001b[0m         \u001b[0mlowest_row\u001b[0m\u001b[0;34m,\u001b[0m \u001b[0mfound\u001b[0m \u001b[0;34m=\u001b[0m \u001b[0mbinary_search\u001b[0m\u001b[0;34m(\u001b[0m\u001b[0;34m[\u001b[0m\u001b[0mrow\u001b[0m\u001b[0;34m[\u001b[0m\u001b[0;34m-\u001b[0m\u001b[0;36m1\u001b[0m\u001b[0;34m]\u001b[0m \u001b[0;32mfor\u001b[0m \u001b[0mrow\u001b[0m \u001b[0;32min\u001b[0m \u001b[0mmatrix\u001b[0m\u001b[0;34m]\u001b[0m\u001b[0;34m,\u001b[0m \u001b[0mval\u001b[0m\u001b[0;34m)\u001b[0m\u001b[0;34m\u001b[0m\u001b[0;34m\u001b[0m\u001b[0m\n",
      "\u001b[0;32m<ipython-input-19-12826c109575>\u001b[0m in \u001b[0;36mSolution\u001b[0;34m()\u001b[0m\n\u001b[1;32m     12\u001b[0m \u001b[0;34m\u001b[0m\u001b[0m\n\u001b[1;32m     13\u001b[0m \u001b[0;32mclass\u001b[0m \u001b[0mSolution\u001b[0m\u001b[0;34m:\u001b[0m\u001b[0;34m\u001b[0m\u001b[0;34m\u001b[0m\u001b[0m\n\u001b[0;32m---> 14\u001b[0;31m     \u001b[0;32mdef\u001b[0m \u001b[0msearchMatrix\u001b[0m\u001b[0;34m(\u001b[0m\u001b[0mself\u001b[0m\u001b[0;34m,\u001b[0m \u001b[0mmatrix\u001b[0m\u001b[0;34m:\u001b[0m \u001b[0mList\u001b[0m\u001b[0;34m[\u001b[0m\u001b[0mList\u001b[0m\u001b[0;34m[\u001b[0m\u001b[0mint\u001b[0m\u001b[0;34m]\u001b[0m\u001b[0;34m]\u001b[0m\u001b[0;34m,\u001b[0m \u001b[0mval\u001b[0m\u001b[0;34m:\u001b[0m \u001b[0mint\u001b[0m\u001b[0;34m)\u001b[0m \u001b[0;34m->\u001b[0m \u001b[0mbool\u001b[0m\u001b[0;34m:\u001b[0m\u001b[0;34m\u001b[0m\u001b[0;34m\u001b[0m\u001b[0m\n\u001b[0m\u001b[1;32m     15\u001b[0m         \u001b[0mlowest_row\u001b[0m\u001b[0;34m,\u001b[0m \u001b[0mfound\u001b[0m \u001b[0;34m=\u001b[0m \u001b[0mbinary_search\u001b[0m\u001b[0;34m(\u001b[0m\u001b[0;34m[\u001b[0m\u001b[0mrow\u001b[0m\u001b[0;34m[\u001b[0m\u001b[0;34m-\u001b[0m\u001b[0;36m1\u001b[0m\u001b[0;34m]\u001b[0m \u001b[0;32mfor\u001b[0m \u001b[0mrow\u001b[0m \u001b[0;32min\u001b[0m \u001b[0mmatrix\u001b[0m\u001b[0;34m]\u001b[0m\u001b[0;34m,\u001b[0m \u001b[0mval\u001b[0m\u001b[0;34m)\u001b[0m\u001b[0;34m\u001b[0m\u001b[0;34m\u001b[0m\u001b[0m\n\u001b[1;32m     16\u001b[0m         \u001b[0;32mif\u001b[0m \u001b[0mfound\u001b[0m\u001b[0;34m:\u001b[0m \u001b[0;32mreturn\u001b[0m \u001b[0mfound\u001b[0m\u001b[0;34m\u001b[0m\u001b[0;34m\u001b[0m\u001b[0m\n",
      "\u001b[0;31mNameError\u001b[0m: name 'List' is not defined"
     ]
    }
   ],
   "source": [
    "from typing import List\n",
    "\n",
    "def binary_search(row, val):\n",
    "    lo, hi = 0, len(row)-1\n",
    "    while lo <= hi:\n",
    "        mid = (hi+lo) // 2\n",
    "        if row[mid] == val:\n",
    "            return mid, True\n",
    "        elif row[mid] < val:\n",
    "            lo = mid + 1\n",
    "        else:\n",
    "            hi = mid - 1\n",
    "    return lo, False\n",
    "\n",
    "class Solution:\n",
    "    def searchMatrix(self, matrix: List[List[int]], val: int) -> bool:\n",
    "        # List construction here is O(n) and O(m), but we only do each\n",
    "        # once regardless of input size. \n",
    "        lowest_row, found = binary_search([row[-1] for row in matrix], val)\n",
    "        if found: return found\n",
    "        highest_row, found = binary_search([row[0] for row in matrix], val)\n",
    "        if found: return found\n",
    "        \n",
    "        # if lowest row == 0 and highest row == len(matrix)-1, this becomes\n",
    "        # O(nlog(m)) for n rows and m columns. \n",
    "        for y in range(lowest_row, highest_row):\n",
    "            _, found = binary_search(matrix[y], val)\n",
    "            if found: return found\n",
    "\n",
    "        return False\n",
    "\n",
    "cases = [\n",
    "    ([[1]], 1, True),\n",
    "    ([[6]], 1, False),\n",
    "    ([[1,4,7,11,15],[2,5,8,12,19],[3,6,9,16,22],[10,13,14,17,24],[18,21,23,26,30]],666, False), \n",
    "    ([[1,4,7,11,15],[2,5,8,12,19],[3,6,9,16,22],[10,13,14,17,24],[18,21,23,26,30]], 5, True),\n",
    "]\n",
    "s = Solution()\n",
    "for matrix, val, expected in cases:\n",
    "    actual = s.searchMatrix(matrix, val)\n",
    "    assert actual == expected, f\"{matrix,val}: {expected} != {actual}\""
   ]
  },
  {
   "cell_type": "markdown",
   "metadata": {},
   "source": [
    "## Example: [Search in Rotated Sorted Array](https://leetcode.com/problems/search-in-rotated-sorted-array/)"
   ]
  },
  {
   "cell_type": "markdown",
   "metadata": {},
   "source": [
    "## Example: [Kth missing positive number](https://leetcode.com/problems/kth-missing-positive-number/). \n",
    "There's a  O(n) solution where we enumerate every missing number until we find the k-th one. However, the array is strictly increasing, so `arr[i]-i-1` is the number of missing elements to the left of i, and we can use this to find the `k`-th missing:\n",
    "```\n",
    "     i =  [  0 1 2     3         4]\n",
    "    arr = [  2,3,4,    7,       11]\n",
    "missing = [1       5,6,  8,9,10,\n",
    "\n",
    "i arr[i] (arr[i]-i-1) = left missing   \n",
    "0   2      2-0-1 = 1\n",
    "1   3      3-1-1 = 1\n",
    "2   4      4-2-1 = 1\n",
    "3   7      7-3-1 = 3\n",
    "4   11    11-4-1 = 6\n",
    "\n",
    "k   i     arr[i] - (left missing - k) - 1 = kth missing\n",
    "5   4       11   - (   6   -       5) - 1 =   9     \n",
    "1   0        2   - (   1   -       1) - 1 =   2\n",
    "\n",
    "\n",
    "Note that because left missing = arr[i]-i-1:\n",
    "kth missing = arr[i] - (left missing - k) - 1\n",
    "            = arr[i] - (arr[i] - i - 1 - k) - 1 \n",
    "            = arr[i] - arr[i] + i + 1 + k - 1\n",
    "            = i + k\n",
    "```\n",
    "So with this, we can use a binary search to find the minimum `i` s.t. `k <= arr[i]-i-1`, from which we can then calculate the `k`-th missing. Note that the problem allows for `k` to fall outside of the array (`k=250` is valid for the above input), but we can handle this with a check before the binary search."
   ]
  },
  {
   "cell_type": "code",
   "execution_count": 21,
   "metadata": {},
   "outputs": [],
   "source": [
    "class Solution:\n",
    "    def findKthPositive(self, arr, k):\n",
    "\n",
    "\n",
    "sol = Solution()\n",
    "arr = [2,3,4,7,11]\n",
    "cases = [\n",
    "    (arr, 7, 12),\n",
    "    (arr, 6, 10),\n",
    "    (arr, 5, 9),\n",
    "    (arr, 4, 8),\n",
    "    (arr, 3, 6),\n",
    "    (arr, 2, 5),\n",
    "    (arr, 1, 1),\n",
    "]\n",
    "for k, expected in cases:\n",
    "    actual = sol.findKthPositive(arr, k)   \n",
    "    assert actual == expected, f\"{arr, k}: {expected} != {actual}\""
   ]
  }
 ],
 "metadata": {
  "kernelspec": {
   "display_name": "Python 3",
   "language": "python",
   "name": "python3"
  },
  "language_info": {
   "codemirror_mode": {
    "name": "ipython",
    "version": 3
   },
   "file_extension": ".py",
   "mimetype": "text/x-python",
   "name": "python",
   "nbconvert_exporter": "python",
   "pygments_lexer": "ipython3",
   "version": "3.8.5"
  }
 },
 "nbformat": 4,
 "nbformat_minor": 4
}
