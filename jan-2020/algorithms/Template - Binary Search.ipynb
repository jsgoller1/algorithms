{
 "cells": [
  {
   "cell_type": "markdown",
   "metadata": {},
   "source": [
    "# Template - Binary Search\n",
    "\n",
    "Binary search is a powerful array searching algorithm, but it's [notoriously tough to implement correctly](https://en.wikipedia.org/wiki/Binary_search_algorithm#Implementation_issues). When I've tried implementing the \"classical version\" from scratch, it usually breaks for various reasons (invalid `hi < lo` index, can't handle odd or even arrays, doesn't find the value at `arr[0]`/`arr[-1]`, etc). I make two changes to make it more robust.\n",
    "\n",
    "### Test lo and hi for adjacency, not gt/gte/lt/lte\n",
    "Writing the test as `while lo < hi-1` prevents overshooting and simplifies the exit condition. At the end, we can just test `arr[hi]` and `arr[lo]` for equality to `val` and return -1 otherwise.\n",
    "\n",
    "### Use a callbacks for calculating indexes and the return value\n",
    "When the problem needs a simple binary search (i.e. search for a val in an array of ints and return the index or -1), this isn't necessary. However, some problems require a more complicated condition to determine the next `lo` and `hi`, and in this case code can become ugly / complicated.\n",
    "\n",
    "Using callbacks and the modified comparison, the main body of binary search reduces to the following template:"
   ]
  },
  {
   "cell_type": "code",
   "execution_count": 1,
   "metadata": {},
   "outputs": [],
   "source": [
    "def binary_search(arr, val, cmp, ret):\n",
    "    if not arr:\n",
    "        return -1\n",
    "\n",
    "    lo, hi = 0, len(arr)-1\n",
    "    while lo < hi-1:\n",
    "        lo, hi = cmp(arr, lo, val, hi)\n",
    "    \n",
    "    return ret(arr, lo, val, hi)"
   ]
  },
  {
   "cell_type": "code",
   "execution_count": 2,
   "metadata": {},
   "outputs": [],
   "source": [
    "def default_cmp(arr, l,v,h):\n",
    "    m = (l+h)//2\n",
    "    return (l,m) if arr[m] > v else (m,h)\n",
    "\n",
    "def default_test(arr, l,v,h):\n",
    "    if arr[l] == v:\n",
    "        return l\n",
    "    if arr[h] == v:\n",
    "        return h\n",
    "    return -1"
   ]
  },
  {
   "cell_type": "code",
   "execution_count": 3,
   "metadata": {},
   "outputs": [],
   "source": [
    "cases = [\n",
    "    ([], 10, -1), # Empty arr\n",
    "    ([10], 10, 0), # Singleton arr, val present\n",
    "    ([0], 10, -1), # Singleton arr, val missing\n",
    "    ([i for i in range(10)], 0, 0), # Even length array, value at lowest bound\n",
    "    ([i for i in range(10)], 5, 5), # Even length array, value between bounds\n",
    "    ([i for i in range(10)], 9, 9), # Even length array, value at highest bound    \n",
    "    ([i for i in range(10)], 67, -1), # Even length array, value missing\n",
    "    ([i for i in range(11)], 0, 0), # Odd length array, value at lowest bound\n",
    "    ([i for i in range(11)], 6, 6), # Odd length array, value between bounds\n",
    "    ([i for i in range(11)], 10, 10), # Odd length array, value at highest bound    \n",
    "    ([i for i in range(11)], 67, -1), # Odd length array, value missing\n",
    "]\n",
    "for arr, val, expected in cases:\n",
    "    actual = binary_search(arr, val, default_cmp, default_test)\n",
    "    assert actual == expected, f\"{arr},{k}: {expected} != {actual}\""
   ]
  },
  {
   "cell_type": "markdown",
   "metadata": {},
   "source": [
    "Now, this becomes easily implemented and flexible for other cases. \n",
    "\n",
    "### Example: [Kth missing positive number](https://leetcode.com/problems/kth-missing-positive-number/). \n",
    "There's a  O(n) solution where we enumerate every missing number until we find the k-th one. However, the array is strictly increasing, so `arr[i]-i-1` is the number of missing elements to the left of i, and we can use this to find the `k`-th missing:\n",
    "```\n",
    "     i =  [  0 1 2     3         4]\n",
    "    arr = [  2,3,4,    7,       11]\n",
    "missing = [1       5,6,  8,9,10,\n",
    "\n",
    "i arr[i] (arr[i]-i-1) = left missing   \n",
    "0   2      2-0-1 = 1\n",
    "1   3      3-1-1 = 1\n",
    "2   4      4-2-1 = 1\n",
    "3   7      7-3-1 = 3\n",
    "4   11    11-4-1 = 6\n",
    "\n",
    "k   i     arr[i] - (left missing - k) - 1 = kth missing\n",
    "5   4       11   - (   6   -       5) - 1 =   9     \n",
    "1   0        2   - (   1   -       1) - 1 =   2\n",
    "\n",
    "\n",
    "Note that because left missing = arr[i]-i-1:\n",
    "kth missing = arr[i] - (left missing - k) - 1\n",
    "            = arr[i] - (arr[i] - i - 1 - k) - 1 \n",
    "            = arr[i] - arr[i] + i + 1 + k - 1\n",
    "            = i + k\n",
    "```\n",
    "So with this, we can use a binary search to find the minimum `i` s.t. `k <= arr[i]-i-1`, from which we can then calculate the `k`-th missing. Note that the problem allows for `k` to fall outside of the array (`k=250` is valid for the above input), but we can handle this with a check before the binary search."
   ]
  },
  {
   "cell_type": "code",
   "execution_count": 4,
   "metadata": {},
   "outputs": [],
   "source": [
    "arr = [2,3,4,7,11]\n",
    "\n",
    "def kth_missing_cmp(arr, lo, k ,hi):\n",
    "    mid = (hi+lo)//2\n",
    "    mid_missing_before = arr[mid] - mid - 1\n",
    "    return (mid, hi) if mid_missing_before < k else (lo, mid)\n",
    "        \n",
    "def kth_missing_ret(arr, lo, k, hi):\n",
    "    return hi if arr[lo] - lo - 1 < k else lo\n",
    "\n",
    "assert binary_search(arr, 6, kth_missing_cmp, kth_missing_ret) == 4\n",
    "assert binary_search(arr, 5, kth_missing_cmp, kth_missing_ret) == 4\n",
    "assert binary_search(arr, 4, kth_missing_cmp, kth_missing_ret) == 4\n",
    "assert binary_search(arr, 3, kth_missing_cmp, kth_missing_ret) == 3\n",
    "assert binary_search(arr, 2, kth_missing_cmp, kth_missing_ret) == 3\n",
    "assert binary_search(arr, 1, kth_missing_cmp, kth_missing_ret) == 0"
   ]
  },
  {
   "cell_type": "markdown",
   "metadata": {},
   "source": [
    "Then we can wrap this into the solution as follows:"
   ]
  },
  {
   "cell_type": "code",
   "execution_count": 21,
   "metadata": {},
   "outputs": [],
   "source": [
    "class Solution:\n",
    "    def findKthPositive(self, arr, k):\n",
    "        # k-th missing is greater than largest\n",
    "        if arr[-1] - len(arr) < k:\n",
    "            return  k + len(arr)\n",
    "\n",
    "        nearest_i = binary_search(arr, k, kth_missing_cmp, kth_missing_ret)\n",
    "        return k + nearest_i\n",
    "\n",
    "sol = Solution()\n",
    "arr = [2,3,4,7,11]\n",
    "cases = [\n",
    "    (arr, 7, 12),\n",
    "    (arr, 6, 10),\n",
    "    (arr, 5, 9),\n",
    "    (arr, 4, 8),\n",
    "    (arr, 3, 6),\n",
    "    (arr, 2, 5),\n",
    "    (arr, 1, 1),\n",
    "]\n",
    "for k, expected in cases:\n",
    "    actual = sol.findKthPositive(arr, k)   \n",
    "    assert actual == expected, f\"{arr, k}: {expected} != {actual}\""
   ]
  },
  {
   "cell_type": "code",
   "execution_count": null,
   "metadata": {},
   "outputs": [],
   "source": []
  }
 ],
 "metadata": {
  "kernelspec": {
   "display_name": "Python 3",
   "language": "python",
   "name": "python3"
  },
  "language_info": {
   "codemirror_mode": {
    "name": "ipython",
    "version": 3
   },
   "file_extension": ".py",
   "mimetype": "text/x-python",
   "name": "python",
   "nbconvert_exporter": "python",
   "pygments_lexer": "ipython3",
   "version": "3.8.5"
  }
 },
 "nbformat": 4,
 "nbformat_minor": 4
}
