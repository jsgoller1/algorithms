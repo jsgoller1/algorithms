{
 "cells": [
  {
   "cell_type": "markdown",
   "id": "explicit-emphasis",
   "metadata": {},
   "source": [
    "Suppose we have American coins (1,5,10,25,50, 100):\n",
    "\n",
    "\n",
    "Make 5 (2):\n",
    "- 1,1,1,1,1\n",
    "- 5\n",
    "\n",
    "Make 10 (4):\n",
    "- 1,1,1,...,1\n",
    "- 5,1,1,1,1\n",
    "- 5,5\n",
    "- 10\n",
    "\n",
    "Make 15 (6):\n",
    "- 1,1,1,...,1\n",
    "- 5,1,1,1,...1\n",
    "- 5,5,1,1,1,1,1\n",
    "- 5,5,5\n",
    "- 10,1,1,1,1,1\n",
    "- 10,5\n",
    "\n",
    "Can we say that the number of ways to make k is the ways(k-c1) + ways(k-c2) + ... + ways(k-cn)?\n",
    "\n",
    "How can we be sure to avoid counting (5,1,5) and (5,5,1)?\n",
    "    - If we always attempt to use the biggest coin possible\n",
    "    \n",
    "ways(15) = ways(15-10) + ways(15-5) + ways(15-1); here, ways(15-1) cannot use dimes or nickles"
   ]
  },
  {
   "cell_type": "markdown",
   "id": "owned-herald",
   "metadata": {},
   "source": [
    "<hr>"
   ]
  },
  {
   "cell_type": "markdown",
   "id": "enabling-announcement",
   "metadata": {},
   "source": [
    "- coins: 2 3 5\n",
    "\n",
    "Make 9:\n",
    "- 3 2 2 2\n",
    "- 3 3 3\n",
    "- 5 2 2\n",
    "\n",
    "Make 4:\n",
    "- 2 2\n",
    "\n",
    "Make 6:\n",
    "- 2 2 2\n",
    "- 3 3\n",
    "\n",
    "Make 7:\n",
    "- 5 2\n",
    "- 3 2 2\n",
    "\n"
   ]
  },
  {
   "cell_type": "markdown",
   "id": "imperial-weekly",
   "metadata": {},
   "source": [
    "<hr>"
   ]
  },
  {
   "cell_type": "markdown",
   "id": "genuine-greenhouse",
   "metadata": {},
   "source": [
    "- coins: 2 3 5\n",
    "\n",
    "Make 9:\n",
    "- 0 ways using 2\n",
    "- 2 ways using 3,2\n",
    "- 3 ways using 5,3,2\n",
    "\n",
    "Make 4:\n",
    "- 1 ways using 2\n",
    "\n",
    "Make 6:\n",
    "- 1 ways using 2\n",
    "- 2 ways using 3,2\n",
    "\n",
    "Make 7:\n",
    "- 0 ways using 2\n",
    "- 1 ways using 3,2\n",
    "- 2 ways using 5,3,2\n"
   ]
  },
  {
   "cell_type": "markdown",
   "id": "overall-mixer",
   "metadata": {},
   "source": [
    "<hr>"
   ]
  },
  {
   "cell_type": "markdown",
   "id": "wicked-brooklyn",
   "metadata": {},
   "source": [
    "- coins: 2 3 5\n",
    "\n",
    "Make 9:\n",
    "- 3 2 2 2\n",
    "- 3 3 3\n",
    "- 5 2 2\n",
    "\n",
    "\n",
    "Make 9:\n",
    "- Using 5, 3, 2 (3 ways)\n",
    "- Using 3, 2 (2 ways)\n",
    "- Using 2 (0 ways)\n",
    "\n",
    "\n",
    "Make 9 (each time either using top coin, or going down to the next highest coin):\n",
    "- Using 5\n",
    "    - Using 5, 5 -> (exceeds)\n",
    "    - Using 5, 3 -> (no solution)\n",
    "    - Using 5, 2 -> 1 way (5, 2, 2)\n",
    "- Using 3\n",
    "    - Using 3, 3 -> 1 way (3, 3, 3)\n",
    "    - Using 3, 2 -> 1 way (3, 2, 2, 2)\n",
    "- Using 2 -> x (no solution)\n",
    "\n",
    "\n",
    "\n",
    "\n",
    "\n",
    "count_ways(amount, coinset):\n",
    "    return count_ways(amount - biggest coin, coinset) + count_ways(amount, coinset without biggest)"
   ]
  }
 ],
 "metadata": {
  "kernelspec": {
   "display_name": "Python 3",
   "language": "python",
   "name": "python3"
  },
  "language_info": {
   "codemirror_mode": {
    "name": "ipython",
    "version": 3
   },
   "file_extension": ".py",
   "mimetype": "text/x-python",
   "name": "python",
   "nbconvert_exporter": "python",
   "pygments_lexer": "ipython3",
   "version": "3.9.16"
  }
 },
 "nbformat": 4,
 "nbformat_minor": 5
}
