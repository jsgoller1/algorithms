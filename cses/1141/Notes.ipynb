{
 "cells": [
  {
   "cell_type": "markdown",
   "id": "rational-empire",
   "metadata": {},
   "source": [
    "- Go through array, incrementing right idx\n",
    "- Each time right idx lands on a value we've already seen, if the most recent sighting is lt left, do nothing (it's not in the arr). If it's gte left, set left to the last sighting plus 1"
   ]
  }
 ],
 "metadata": {
  "kernelspec": {
   "display_name": "Python 3",
   "language": "python",
   "name": "python3"
  },
  "language_info": {
   "codemirror_mode": {
    "name": "ipython",
    "version": 3
   },
   "file_extension": ".py",
   "mimetype": "text/x-python",
   "name": "python",
   "nbconvert_exporter": "python",
   "pygments_lexer": "ipython3",
   "version": "3.9.16"
  }
 },
 "nbformat": 4,
 "nbformat_minor": 5
}
