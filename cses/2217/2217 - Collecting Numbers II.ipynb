{
 "cells": [
  {
   "cell_type": "markdown",
   "id": "intensive-championship",
   "metadata": {},
   "source": [
    "## Notes\n",
    "- Each time a number is found to the right of its successor, that incurs another pass. \n",
    "```\n",
    "5 3\n",
    "4 2 1 5 3 -> 3 (initial)\n",
    "2 3\n",
    "4 1 2 5 3 -> 2 \n",
    "1 5\n",
    "3 1 2 5 4 -> 3\n",
    "2 3\n",
    "3 2 1 5 4 -> 4\n",
    "```\n",
    "- This problem is the same as the previous, except with a dict / vect with one difference.\n",
    "- We will have up to `10**5` numbers and `10**5` swaps, so we cannot examine the entire array each swap (10 seconds in the worst case). \n",
    "\n",
    "- We cannot just assume each swap increases / decreases the number of sweeps by 1.\n",
    "    - 6 5 4 3 2 1 (6) -> 6 5 4 1 2 3 (4)\n",
    "\n",
    "- Why do we sometimes get a 2 sweep change, but other times 1?\n",
    "    - It's not based on how many exist between the swapped values\n",
    "        - 1 4 3 2 5 (3 sweeps) -> swap 2,4 -> 1,2,3,4,5 (1 sweep)\n",
    "        - 4 2 3 1 5 (3 sweeps) -> swap 1,4 -> 1,2,3,4,5\n",
    "        - 5 2 3 4 1 (3 sweeps) -> swap 1,5 -> 1,2,3,4,5\n",
    "    - 6 5 4 3 2 1 (6) -> 6 5 4 3 1 2 (5)\n",
    "    - 6 5 4 3 2 1 (6) -> 6 5 4 1 2 3 (4)\n",
    "    - 6 5 4 1 2 3 (4) -> 4,5,6,1,2,3 (2)\n",
    "    \n",
    "- Is it possible to get more than 2 sweeps added / reduced? \n",
    "    - Don't think so, but not confident\n",
    "\n",
    "## Failed approach: look for contiguous subarrays\n",
    "- Some situations:\n",
    "    - both swap in same contiguous array: \n",
    "        - [0,1,2,4] (1) -> 1,2 -> [0,2,1,4] (2); might require special handling for neighbors\n",
    "        - [0,1,2,4] (1) -> 0,4 -> [4,1,2,0] (3) \n",
    "    - swap from two different subarrays\n",
    "        - [5,6,0,1,2] (2 passes, 2 subarrays) -> 6,1 -> [5,1,0,6,2] (3 passes, 5 subarrays)\n",
    "        \n",
    "- Can we do one sweep for each ascending (contiguous or not) subarray in the array, then for each swap check if our swap creates or breaks ascending subarrays (need to check a pretty small number of values per swap, like 6-10 or so, and adjust sweep count.\n",
    "    - 6 5 4 1 2 3 -> 6 | 5 | 4 | 1 2 3 |\n",
    "    - | 6 | 5 | 4 | 3 | 2 | 1 -> | 6 | 5 | 4 | 1 2 3 | \n",
    "    - | 2 | 1 4 | 3 6 | 5 -> [1], [2,3], [4,5], [6]\n",
    "    - No: [5,2,1,6,3] (3 passes: [1], [2,3], [5,6]) (4 subarrays: [5], [2], [1,6], [3])\n",
    "\n",
    "## Solution\n",
    "- Do normal approach to count the initial number of sweeps\n",
    "- For each swap, check the following for both numbers involved:\n",
    "    - if the swapped number is in order with the one before it, decrement\n",
    "    - if swapped is in order with the one after it, decrement\n",
    "    - then do the opposite if it's out of order\n",
    "    \n"
   ]
  },
  {
   "cell_type": "code",
   "execution_count": 24,
   "id": "commercial-michael",
   "metadata": {},
   "outputs": [],
   "source": [
    "def do_pass(val, arr):\n",
    "    for i, item in enumerate(arr):\n",
    "        print(f\"Looking for {val} at {i}\")\n",
    "        if item == val:\n",
    "            print(f\"Found {val} at {i}\")\n",
    "            val += 1\n",
    "        if val > max(arr):\n",
    "            break\n",
    "    print(\"pass completed.\")\n",
    "    return val"
   ]
  },
  {
   "cell_type": "code",
   "execution_count": 16,
   "id": "given-savage",
   "metadata": {},
   "outputs": [],
   "source": [
    "def brute_force(arr):\n",
    "    passes = 0\n",
    "    val = min(arr)\n",
    "    while val <= max(arr):\n",
    "        if val not in arr:\n",
    "            val += 1\n",
    "        val = do_pass(val, arr)\n",
    "        passes +=1\n",
    "    return passes\n",
    "\n"
   ]
  },
  {
   "cell_type": "code",
   "execution_count": 18,
   "id": "expected-undergraduate",
   "metadata": {},
   "outputs": [],
   "source": [
    "def solve(arr):\n",
    "    places = {}\n",
    "    for i, val in enumerate(arr):\n",
    "        places[val] = i\n",
    "    passes = 1\n",
    "    keys = sorted(places.keys())\n",
    "    i = 0\n",
    "    j = 1\n",
    "    while j < len(keys):\n",
    "        val1 = keys[i]\n",
    "        val2 = keys[j]\n",
    "        if places[val1] > places[val2]:\n",
    "            passes +=1\n",
    "        i = j\n",
    "        j += 1\n",
    "    return passes"
   ]
  },
  {
   "cell_type": "code",
   "execution_count": 23,
   "id": "conscious-disaster",
   "metadata": {},
   "outputs": [
    {
     "name": "stdout",
     "output_type": "stream",
     "text": [
      "[1, 4, 5, 7, 8, 9, 11, 12, 13, 14, 16, 17, 18, 20, 21, 22, 23, 25, 26, 27, 30, 31, 32, 34, 35, 37, 38, 42, 43, 46, 47, 48, 50, 52, 53, 54, 56, 58, 60, 61, 64, 66, 67, 68, 69, 71, 72, 74, 75, 79, 80, 81, 83, 85, 87, 88, 89, 90, 92, 93, 94, 95, 98, 99, 100]\n",
      "36\n",
      "1\n"
     ]
    }
   ],
   "source": [
    "import random\n",
    "\n",
    "arr = list(set([random.randint(1, 100) for i in range(100)]))\n",
    "print(arr)\n",
    "print(brute_force(arr))\n",
    "print(solve(arr))"
   ]
  }
 ],
 "metadata": {
  "kernelspec": {
   "display_name": "Python 3",
   "language": "python",
   "name": "python3"
  },
  "language_info": {
   "codemirror_mode": {
    "name": "ipython",
    "version": 3
   },
   "file_extension": ".py",
   "mimetype": "text/x-python",
   "name": "python",
   "nbconvert_exporter": "python",
   "pygments_lexer": "ipython3",
   "version": "3.9.16"
  }
 },
 "nbformat": 4,
 "nbformat_minor": 5
}
