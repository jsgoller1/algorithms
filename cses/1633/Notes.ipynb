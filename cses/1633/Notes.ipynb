{
 "cells": [
  {
   "cell_type": "markdown",
   "id": "governing-royal",
   "metadata": {},
   "source": [
    "- Given n, how many ways can we make n with one or more dice throws?\n",
    "- 1 <= n <= 10^6\n",
    "- If n > 6, we need more than 1 dice throw\n",
    "- For each dice throw, we gain one new way to make n-1 through n-6 (n-1 plus 1, n-2 plus 2, etc). \n",
    "- So for n, sum all the ways to make n-1 through n-6?\n",
    "\n",
    "1: (1)\n",
    "2: (1) + 1, 2\n",
    "3: ((1) + 1) + 1, (2) + 1, (1) + 2, 3\n",
    "4: (((1) + 1) + 1) + 1, ((2) + 1) + 1, (1) + 2 + 1, 2 + 2, 3 + 1\n",
    "    - Note for 4 that we have two identical solutions, 2 + 1 + 1 and 1 + 2 + 1\n",
    "    \n",
    "- Coin approach\n",
    "    - how many ways can we make each if we only have a 1-roll? 1 (1 + 1 + 1 .... + 1). \n",
    "    - if we have a 1 and a 2 roll? 1 + 1 + 1 ... + 1, 2 + 1 + .. + 1, 2 + 2 + ... + 1, 2 + 2 + ... + 2. \n",
    "\n"
   ]
  },
  {
   "cell_type": "code",
   "execution_count": 1,
   "id": "western-pearl",
   "metadata": {},
   "outputs": [
    {
     "data": {
      "text/plain": [
       "1000000007"
      ]
     },
     "execution_count": 1,
     "metadata": {},
     "output_type": "execute_result"
    }
   ],
   "source": [
    "10**9 + 7"
   ]
  },
  {
   "cell_type": "code",
   "execution_count": 2,
   "id": "challenging-pulse",
   "metadata": {},
   "outputs": [
    {
     "data": {
      "text/plain": [
       "152715265"
      ]
     },
     "execution_count": 2,
     "metadata": {},
     "output_type": "execute_result"
    }
   ],
   "source": [
    "1230725361 & (10**9 + 7)"
   ]
  },
  {
   "cell_type": "code",
   "execution_count": null,
   "id": "expressed-banana",
   "metadata": {},
   "outputs": [],
   "source": []
  }
 ],
 "metadata": {
  "kernelspec": {
   "display_name": "Python 3",
   "language": "python",
   "name": "python3"
  },
  "language_info": {
   "codemirror_mode": {
    "name": "ipython",
    "version": 3
   },
   "file_extension": ".py",
   "mimetype": "text/x-python",
   "name": "python",
   "nbconvert_exporter": "python",
   "pygments_lexer": "ipython3",
   "version": "3.9.16"
  }
 },
 "nbformat": 4,
 "nbformat_minor": 5
}
