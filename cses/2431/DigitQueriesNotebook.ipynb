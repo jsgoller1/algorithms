{
 "cells": [
  {
   "cell_type": "code",
   "execution_count": 9,
   "id": "fossil-discretion",
   "metadata": {},
   "outputs": [],
   "source": [
    "# 1 - 9: 1*9 digits\n",
    "# 10 - 99: 2*90 digits\n",
    "# 100 - 999: 3*900 digits\n",
    "# 1000 - 9999: 4*9000 digits\n",
    "# 10000 - 99999: 5*9000 digits\n",
    "# 100000 - 999999: 6*90000 digits"
   ]
  },
  {
   "cell_type": "code",
   "execution_count": 86,
   "id": "under-sample",
   "metadata": {},
   "outputs": [
    {
     "name": "stdout",
     "output_type": "stream",
     "text": [
      "nums 1 to 9: 1 places * 9 nums = 9 digits (9 total)\n",
      "\n",
      "nums 10 to 99: 2 places * 90 nums = 180 digits (189 total)\n",
      "\n",
      "nums 100 to 999: 3 places * 900 nums = 2700 digits (2889 total)\n",
      "\n",
      "nums 1000 to 9999: 4 places * 9000 nums = 36000 digits (38889 total)\n",
      "\n",
      "nums 10000 to 99999: 5 places * 90000 nums = 450000 digits (488889 total)\n",
      "\n",
      "nums 100000 to 999999: 6 places * 900000 nums = 5400000 digits (5888889 total)\n",
      "\n",
      "nums 1000000 to 9999999: 7 places * 9000000 nums = 63000000 digits (68888889 total)\n",
      "\n",
      "nums 10000000 to 99999999: 8 places * 90000000 nums = 720000000 digits (788888889 total)\n",
      "\n",
      "nums 100000000 to 999999999: 9 places * 900000000 nums = 8100000000 digits (8888888889 total)\n",
      "\n",
      "nums 1000000000 to 9999999999: 10 places * 9000000000 nums = 90000000000 digits (98888888889 total)\n",
      "\n",
      "nums 10000000000 to 99999999999: 11 places * 90000000000 nums = 990000000000 digits (1088888888889 total)\n",
      "\n",
      "nums 100000000000 to 999999999999: 12 places * 900000000000 nums = 10800000000000 digits (11888888888889 total)\n",
      "\n",
      "nums 1000000000000 to 9999999999999: 13 places * 9000000000000 nums = 117000000000000 digits (128888888888889 total)\n",
      "\n",
      "nums 10000000000000 to 99999999999999: 14 places * 90000000000000 nums = 1260000000000000 digits (1388888888888889 total)\n",
      "\n",
      "nums 100000000000000 to 999999999999999: 15 places * 900000000000000 nums = 13500000000000000 digits (14888888888888889 total)\n",
      "\n",
      "nums 1000000000000000 to 9999999999999999: 16 places * 9000000000000000 nums = 144000000000000000 digits (158888888888888889 total)\n",
      "\n",
      "nums 10000000000000000 to 99999999999999999: 17 places * 90000000000000000 nums = 1530000000000000000 digits (1688888888888888889 total)\n",
      "\n"
     ]
    }
   ],
   "source": [
    "mappings = {}\n",
    "lo_pow = 0\n",
    "hi_pow = 1\n",
    "number_digits = 1\n",
    "total = 0\n",
    "\n",
    "\n",
    "while (total < 10**18):\n",
    "    lo = 10**lo_pow\n",
    "    hi = 9*((10**hi_pow)//9)\n",
    "    total += number_digits*(9*lo)\n",
    "    \n",
    "    print(f\"nums {lo} to {hi}: {number_digits} places * {9*lo} nums = {number_digits*9*lo} digits ({total} total)\")\n",
    "    print(\"\")\n",
    "    mappings[total] = hi\n",
    "    \n",
    "    lo_pow += 1\n",
    "    hi_pow += 1\n",
    "    number_digits += 1"
   ]
  },
  {
   "cell_type": "code",
   "execution_count": 87,
   "id": "median-arbor",
   "metadata": {},
   "outputs": [
    {
     "data": {
      "text/plain": [
       "{9: 9,\n",
       " 189: 99,\n",
       " 2889: 999,\n",
       " 38889: 9999,\n",
       " 488889: 99999,\n",
       " 5888889: 999999,\n",
       " 68888889: 9999999,\n",
       " 788888889: 99999999,\n",
       " 8888888889: 999999999,\n",
       " 98888888889: 9999999999,\n",
       " 1088888888889: 99999999999,\n",
       " 11888888888889: 999999999999,\n",
       " 128888888888889: 9999999999999,\n",
       " 1388888888888889: 99999999999999,\n",
       " 14888888888888889: 999999999999999,\n",
       " 158888888888888889: 9999999999999999,\n",
       " 1688888888888888889: 99999999999999999}"
      ]
     },
     "execution_count": 87,
     "metadata": {},
     "output_type": "execute_result"
    }
   ],
   "source": [
    "mappings"
   ]
  },
  {
   "cell_type": "code",
   "execution_count": 88,
   "id": "determined-claim",
   "metadata": {},
   "outputs": [],
   "source": [
    "# Mapping of the kth character of the string to the last integer value\n",
    "# appended (e.g. joining 1 to 99 makes a 189-character string). To solve a \n",
    "# query for digit m, start counting from the nearest k to m by mapping[k],\n",
    "# until we exceed or equal m. \n",
    "\n",
    "digits_to_last_value_mapping = {\n",
    " 9: 9,\n",
    " 189: 99,\n",
    " 2889: 999,\n",
    " 38889: 9999,\n",
    " 488889: 99999,\n",
    " 5888889: 999999,\n",
    " 68888889: 9999999,\n",
    " 788888889: 99999999,\n",
    " 8888888889: 999999999,\n",
    " 98888888889: 9999999999,\n",
    " 1088888888889: 99999999999,\n",
    " 11888888888889: 999999999999,\n",
    " 128888888888889: 9999999999999,\n",
    " 1388888888888889: 99999999999999,\n",
    " 14888888888888889: 999999999999999,\n",
    " 158888888888888889: 9999999999999999,\n",
    " 1688888888888888889: 99999999999999999}"
   ]
  },
  {
   "cell_type": "code",
   "execution_count": 116,
   "id": "appropriate-reliance",
   "metadata": {},
   "outputs": [
    {
     "name": "stdout",
     "output_type": "stream",
     "text": [
      "1449\n",
      "2169\n"
     ]
    }
   ],
   "source": [
    "# manually look for the 1776th character\n",
    "smaller_mapping = {\n",
    " 9: 9,\n",
    " 189: 99,\n",
    " 2889: 999\n",
    "}\n",
    "\n",
    "print((9 + 2889) // 2)\n",
    "# Mid is 1449; \n",
    "print((1449 + 2889) // 2)\n"
   ]
  },
  {
   "cell_type": "code",
   "execution_count": 108,
   "id": "applied-auction",
   "metadata": {},
   "outputs": [
    {
     "name": "stdout",
     "output_type": "stream",
     "text": [
      "549\n"
     ]
    }
   ],
   "source": [
    "string = \"\"\n",
    "for i in range(999):\n",
    "    string += str(i)\n",
    "    if len(string) >= 1539:\n",
    "        print(i)\n",
    "        break"
   ]
  },
  {
   "cell_type": "code",
   "execution_count": 109,
   "id": "broadband-catalog",
   "metadata": {},
   "outputs": [
    {
     "data": {
      "text/plain": [
       "'0123456789101112131415161718192021222324252627282930313233343536373839404142434445464748495051525354555657585960616263646566676869707172737475767778798081828384858687888990919293949596979899100101102103104105106107108109110111112113114115116117118119120121122123124125126127128129130131132133134135136137138139140141142143144145146147148149150151152153154155156157158159160161162163164165166167168169170171172173174175176177178179180181182183184185186187188189190191192193194195196197198199200201202203204205206207208209210211212213214215216217218219220221222223224225226227228229230231232233234235236237238239240241242243244245246247248249250251252253254255256257258259260261262263264265266267268269270271272273274275276277278279280281282283284285286287288289290291292293294295296297298299300301302303304305306307308309310311312313314315316317318319320321322323324325326327328329330331332333334335336337338339340341342343344345346347348349350351352353354355356357358359360361362363364365366367368369370371372373374375376377378379380381382383384385386387388389390391392393394395396397398399400401402403404405406407408409410411412413414415416417418419420421422423424425426427428429430431432433434435436437438439440441442443444445446447448449450451452453454455456457458459460461462463464465466467468469470471472473474475476477478479480481482483484485486487488489490491492493494495496497498499500501502503504505506507508509510511512513514515516517518519520521522523524525526527528529530531532533534535536537538539540541542543544545546547548549'"
      ]
     },
     "execution_count": 109,
     "metadata": {},
     "output_type": "execute_result"
    }
   ],
   "source": [
    "string"
   ]
  },
  {
   "cell_type": "code",
   "execution_count": 110,
   "id": "balanced-liability",
   "metadata": {},
   "outputs": [
    {
     "data": {
      "text/plain": [
       "1540"
      ]
     },
     "execution_count": 110,
     "metadata": {},
     "output_type": "execute_result"
    }
   ],
   "source": [
    "len(string)"
   ]
  },
  {
   "cell_type": "code",
   "execution_count": 111,
   "id": "forbidden-wrist",
   "metadata": {},
   "outputs": [
    {
     "data": {
      "text/plain": [
       "549"
      ]
     },
     "execution_count": 111,
     "metadata": {},
     "output_type": "execute_result"
    }
   ],
   "source": [
    "(999 + 99) // 2"
   ]
  },
  {
   "cell_type": "code",
   "execution_count": null,
   "id": "premium-professor",
   "metadata": {},
   "outputs": [],
   "source": []
  }
 ],
 "metadata": {
  "kernelspec": {
   "display_name": "Python 3",
   "language": "python",
   "name": "python3"
  },
  "language_info": {
   "codemirror_mode": {
    "name": "ipython",
    "version": 3
   },
   "file_extension": ".py",
   "mimetype": "text/x-python",
   "name": "python",
   "nbconvert_exporter": "python",
   "pygments_lexer": "ipython3",
   "version": "3.9.16"
  }
 },
 "nbformat": 4,
 "nbformat_minor": 5
}
