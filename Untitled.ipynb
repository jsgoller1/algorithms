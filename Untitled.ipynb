{
 "cells": [
  {
   "cell_type": "code",
   "execution_count": 13,
   "id": "85711dda",
   "metadata": {},
   "outputs": [
    {
     "name": "stdout",
     "output_type": "stream",
     "text": [
      "Clockwise\n"
     ]
    },
    {
     "ename": "AssertionError",
     "evalue": "",
     "output_type": "error",
     "traceback": [
      "\u001b[0;31m---------------------------------------------------------------------------\u001b[0m",
      "\u001b[0;31mAssertionError\u001b[0m                            Traceback (most recent call last)",
      "Input \u001b[0;32mIn [13]\u001b[0m, in \u001b[0;36m<cell line: 28>\u001b[0;34m()\u001b[0m\n\u001b[1;32m     24\u001b[0m         \u001b[38;5;28mprint\u001b[39m(\u001b[38;5;124m\"\u001b[39m\u001b[38;5;124mLinear\u001b[39m\u001b[38;5;124m\"\u001b[39m)\n\u001b[1;32m     25\u001b[0m         \u001b[38;5;28;01mreturn\u001b[39;00m \u001b[38;5;241m0\u001b[39m\n\u001b[0;32m---> 28\u001b[0m \u001b[38;5;28;01massert\u001b[39;00m orientation(Point(\u001b[38;5;241m0\u001b[39m, \u001b[38;5;241m0\u001b[39m), Point(\u001b[38;5;241m4\u001b[39m, \u001b[38;5;241m4\u001b[39m), Point(\u001b[38;5;241m0\u001b[39m, \u001b[38;5;241m8\u001b[39m)) \u001b[38;5;241m==\u001b[39m \u001b[38;5;241m2\u001b[39m\n",
      "\u001b[0;31mAssertionError\u001b[0m: "
     ]
    }
   ],
   "source": [
    "class Point:\n",
    "    def __init__(self, x, y):\n",
    "        self.x = x\n",
    "        self.y = y\n",
    "\n",
    "def wrong(p1, p2, p3):\n",
    "    sigma = (p2.y - p1.y)  / (p2.x - p1.x)\n",
    "    tau = (p3.y - p2.y) / (p3.x - p2.x)\n",
    "    return sigma - tau\n",
    "    \n",
    "def correct(p1, p2, p3):\n",
    "    return (p2.y - p1.y) * (p3.x - p2.x) - \\\n",
    "           (p3.y - p2.y) * (p2.x - p1.x)\n",
    "\n",
    "def orientation(p1, p2, p3):\n",
    "    val = wrong(p1, p2, p3)\n",
    "    if (val > 0):\n",
    "        print(\"Clockwise\")\n",
    "        return 1\n",
    "    elif (val < 0):\n",
    "        print(\"Counter\")\n",
    "        return 2\n",
    "    else: \n",
    "        print(\"Linear\")\n",
    "        return 0\n",
    "\n",
    "    \n",
    "assert orientation(Point(0, 0), Point(4, 4), Point(0, 8)) == 2"
   ]
  },
  {
   "cell_type": "code",
   "execution_count": null,
   "id": "37bf442f",
   "metadata": {},
   "outputs": [],
   "source": []
  }
 ],
 "metadata": {
  "kernelspec": {
   "display_name": "Python 3 (ipykernel)",
   "language": "python",
   "name": "python3"
  },
  "language_info": {
   "codemirror_mode": {
    "name": "ipython",
    "version": 3
   },
   "file_extension": ".py",
   "mimetype": "text/x-python",
   "name": "python",
   "nbconvert_exporter": "python",
   "pygments_lexer": "ipython3",
   "version": "3.10.6"
  }
 },
 "nbformat": 4,
 "nbformat_minor": 5
}
