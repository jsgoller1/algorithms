{
 "cells": [
  {
   "cell_type": "markdown",
   "metadata": {},
   "source": [
    "# Sliding Window (Two Pointers)\n",
    "\n",
    "Some problems call for finding a subarray within an array input. \"Sliding window\" refers to a technique using two pointers and moving them left-to-right to find the correct subarray (i.e. it's a `window` in the array, and it `slides`. This technique is tricky to get right, so here's a useful template:"
   ]
  },
  {
   "cell_type": "markdown",
   "metadata": {},
   "source": [
    "```python\n",
    "def sliding_window(arr):\n",
    "    left = 0\n",
    "    accumulation = 0\n",
    "    best = 0  # could be 1, inf, -inf, etc\n",
    "    for right, val in enumerate(arr):\n",
    "        condition() \n",
    "        accumulation += val\n",
    "        while !condition and left < len(arr):\n",
    "            left += 1\n",
    "            accumulation -= arr[left]\n",
    "        best = max(new best, best)  # Or min; might be shortest, biggest, etc.\n",
    "    return answer\n",
    "```    \n",
    "This `right-for-loop, condition(), left-while-loop` technique can cleanly handle several problems.\n",
    "- `condition()` or updating `best` may occur before, during, or after the `while()`.\n",
    "- `left == right` should mean a single element array; the entire length of the subarray should be `right-left+1`. \n",
    "- This technique works well for problems finding a single contiguous subarray but not for finding \"all possible subarrays\". "
   ]
  },
  {
   "cell_type": "markdown",
   "metadata": {},
   "source": [
    "## Example: Longest continuous subarray with sum = K\n",
    "\n",
    "Given an array of non-negative integers “nums” and an integer “target”, return the length of longest continuous subarray whose sum is equal to target.\n",
    "\n",
    "Example 1:\n",
    "```\n",
    "Input: nums = [10, 10, 30, 20, 10, 5, 5, 10, 40, 10], target = 50\n",
    "Output: 5\n",
    "```\n",
    "Example 2:\n",
    "```\n",
    "Input: nums = [10, 10, 30, 20, 10, 5, 5, 10, 40, 10], target = 11\n",
    "Output: 0\n",
    "```\n",
    "Example 3:\n",
    "```\n",
    "Input: nums = [10, 10, 30, 20, 10, 5, 5, 10, 40, 10], target = 10\n",
    "Output: 2\n",
    "```\n",
    "\n",
    "Constraints:\n",
    "- 1 <= nums.length <= 2 * 10^4\n",
    "- 0 <= nums[i] <= 1000\n",
    "- 0 <= target <= 10^7 \n",
    "- may not be solution (return 0)\n"
   ]
  },
  {
   "cell_type": "code",
   "execution_count": 69,
   "metadata": {},
   "outputs": [],
   "source": [
    "def max_subarr_eq_target(arr, target): \n",
    "    best = csum = left = 0\n",
    "    for right, val in enumerate(arr):\n",
    "        csum += val\n",
    "        while csum > target and left < len(arr):\n",
    "            csum -= arr[left]\n",
    "            left += 1 \n",
    "        best = max(right-left+1, best) if csum == target else best\n",
    "    return best\n",
    "\n",
    "cases = [\n",
    "    ([1], 50, 0),\n",
    "    ([50], 50, 1),\n",
    "    ([10, 50], 50, 1),\n",
    "    ([1,1,1,1], 50, 0),\n",
    "    ([100,100,100], 1, 0),\n",
    "    ([0, 25, 25, 0], 50, 4),\n",
    "    ([100,100,100,50,0,0], 50, 3),\n",
    "    ([10, 10, 30, 20, 10, 5, 5, 10, 40, 10], 50, 5)\n",
    "]\n",
    "for arr, target, expected in cases:\n",
    "    actual = max_subarr_eq_target(arr, target)\n",
    "    assert actual == expected, f\"{arr,target}; {expected} != {actual}\""
   ]
  },
  {
   "cell_type": "markdown",
   "metadata": {},
   "source": [
    "## [3. Longest Substring Without Repeating Characters](https://leetcode.com/problems/longest-substring-without-repeating-characters/)"
   ]
  },
  {
   "cell_type": "code",
   "execution_count": 5,
   "metadata": {},
   "outputs": [],
   "source": [
    "%run ../leetcode/3-longest-substring-without-repeating-characters/solution.3.py"
   ]
  },
  {
   "cell_type": "markdown",
   "metadata": {},
   "source": [
    "## [713. Subarray product less than K](https://leetcode.com/problems/subarray-product-less-than-k/)\n",
    "\n",
    "The key insight here is that if an array has `n` elements and the total product is less than `k`, then there are `n + n-1 + n-2 + ... + 1` valid subarrays whose total product is also less than `k`. With the sliding window approach, there may be overlap: for `k = 100, nums = [10,5,1,2,6]`, the two valid windows are `[10,5,1]` and `[5,1,2,6]`, so we can't count `[5], [1], [5,1]` twice. However, after some playing with it, I found that the differences of the indexes worked, i.e.`ans += r-l+1 if prod < k`"
   ]
  },
  {
   "cell_type": "code",
   "execution_count": 8,
   "metadata": {},
   "outputs": [],
   "source": [
    "%run ../leetcode/713-subarray-product-less-than-k/solution.py"
   ]
  },
  {
   "cell_type": "markdown",
   "metadata": {},
   "source": [
    "## [209. Minimum Size Subarray Sum](https://leetcode.com/problems/minimum-size-subarray-sum/)"
   ]
  },
  {
   "cell_type": "code",
   "execution_count": 6,
   "metadata": {},
   "outputs": [],
   "source": [
    "%run ../leetcode/209-minimum-size-subarray-sum/solution.py"
   ]
  }
 ],
 "metadata": {
  "kernelspec": {
   "display_name": "Python 3",
   "language": "python",
   "name": "python3"
  },
  "language_info": {
   "codemirror_mode": {
    "name": "ipython",
    "version": 3
   },
   "file_extension": ".py",
   "mimetype": "text/x-python",
   "name": "python",
   "nbconvert_exporter": "python",
   "pygments_lexer": "ipython3",
   "version": "3.8.5"
  }
 },
 "nbformat": 4,
 "nbformat_minor": 4
}
