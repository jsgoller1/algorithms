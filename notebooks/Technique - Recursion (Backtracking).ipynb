{
 "cells": [
  {
   "cell_type": "markdown",
   "metadata": {},
   "source": [
    "# Technique - Recursion (Backtracking)\n",
    "\n",
    "Backtracking is a recursive technique that can be used for exhaustive searching."
   ]
  },
  {
   "cell_type": "markdown",
   "metadata": {},
   "source": [
    "## Example [Restore IP Addresses](https://leetcode.com/problems/restore-ip-addresses/submissions/)\n",
    "\n",
    "This problem is an exhaustive search - we need to find all possible IP addresses from a given string of ints. We can solve it with backtracking, or with straightforward recursion.\n",
    "\n",
    "### Identifying a recurrence\n",
    "A valid IPv4 address is of the form `x.x.x.x` where `0 <= x 255`, and x has no leading `0` (unless `x == 0`). Let's say that we have three types of IPs:\n",
    "- A valid IP address, e.g. `24.123.54.4`\n",
    "- An invalid IP address:\n",
    "    - `525.1.2.4` (field exceeds 255)\n",
    "    - `01.1.24.5` (field has leading zero)\n",
    "    - `1..3.4` (empty field)\n",
    "    - `1.2.3.4.5` (too many fields)\n",
    "- An incomplete IP address, e.g. an IP that is only invalid because it has too few fields:\n",
    "    - `1.2.3` \n",
    "    - `1.2`\n",
    "    - `1.`\n",
    "    - `(empty string)`\n",
    "\n",
    "For any IP address `s` and a character `x` s.t. `0 <= x <= 9`, we can either try adding `x` as the final character of s, or appending `x` to the end of `s` as a new field:\n",
    "- If `s` is valid:\n",
    "    - We cannot append `x` as a new field, e.g. if `s = 1.2.3.4`, `1.2.3.4.x` is not valid. \n",
    "    - We can possibly appending `x` as a final character: `1.2.3.4x` is valid.\n",
    "- If `s` is invalid, there is no way to append `x` to produce a valid or incomplete IP. \n",
    "- If `s` is incomplete:\n",
    "    - Appending `x` as a field produces either a valid IP (`s = 1.2.3, x = 4, s.x = 1.2.3.4`) or another incomplete IP (`s = 1.2, x = 3, s.x = 1.2.3`)\n",
    "    - Appending `x` as a final character produces an incomplete IP (`s = 1.2.1, x = 4, sx = 1.2.14`) or an invalid IP (`s = 1.2.99, x = 1, sx = 1.2.991`). \n",
    "    \n",
    "So given an input `string` of int characters, our recurrence relationship is:\n",
    "```\n",
    "all valid IPs ending at string[i] =\n",
    "    any valid result of appending s[i] as a character to all valid IPs ending at string[i-1],    \n",
    "    any valid result of appending s[i] as a character to all incomplete IPs ending at string[i-1],\n",
    "    any valid result of appending s[i] as a field to all incomplete IPs ending at string[i-1]\n",
    "```\n",
    "\n",
    "## Base case and recursive case\n",
    "Because the problem says to use all characters in `string`, our base case will be: `current IP address is invalid, or current IP address is valid and i == len(string)`. The recursive case is `current IP is incomplete or i < len(string)`, and tries `append string[i] as character, go to i+1` and `append string[i] as a field, go to i+1)`."
   ]
  },
  {
   "cell_type": "code",
   "execution_count": 24,
   "metadata": {},
   "outputs": [],
   "source": [
    "from typing import List\n",
    "\n",
    "def ip_invalid(ip_list):\n",
    "    if not ip_list:\n",
    "        return False\n",
    "    return (len(ip_list) > 4) or \\\n",
    "           not (0 <= int(ip_list[-1]) <= 255) or \\\n",
    "           (ip_list[-1][0] == '0' and len(ip_list[-1]) > 1)\n",
    "                                    \n",
    "class Solution:\n",
    "    def restoreIpAddresses(self, s: str) -> List[str]:\n",
    "        valid_addrs = []\n",
    "        \n",
    "        def find_valid(i, curr):\n",
    "            if ip_invalid(curr):\n",
    "                return\n",
    "            if i >= len(s):\n",
    "                valid_addrs.append('.'.join(curr)) if len(curr) == 4 else None\n",
    "                return\n",
    "            find_valid(i+1, curr + [s[i]])\n",
    "            find_valid(i+1, curr[:-1] + [curr[-1] + s[i]]) if curr else None\n",
    "\n",
    "        find_valid(0, [])\n",
    "        return valid_addrs\n",
    "\n",
    "sol = Solution()\n",
    "cases = [\n",
    "    (\"25525511135\", [\"255.255.11.135\",\"255.255.111.35\"]),\n",
    "    (\"0000\", [\"0.0.0.0\"]),\n",
    "    (\"1111\", [\"1.1.1.1\"]),\n",
    "    (\"010010\", [\"0.10.0.10\",\"0.100.1.0\"]),\n",
    "    (\"101023\", [\"1.0.10.23\",\"1.0.102.3\",\"10.1.0.23\",\"10.10.2.3\",\"101.0.2.3\"])   \n",
    "]\n",
    "for s, expected in cases:\n",
    "    actual = sol.restoreIpAddresses(s)\n",
    "    assert sorted(actual) == sorted(expected), f\"{s}: {sorted(expected)} != {sorted(actual)}\""
   ]
  },
  {
   "cell_type": "code",
   "execution_count": null,
   "metadata": {},
   "outputs": [],
   "source": []
  }
 ],
 "metadata": {
  "kernelspec": {
   "display_name": "Python 3",
   "language": "python",
   "name": "python3"
  },
  "language_info": {
   "codemirror_mode": {
    "name": "ipython",
    "version": 3
   },
   "file_extension": ".py",
   "mimetype": "text/x-python",
   "name": "python",
   "nbconvert_exporter": "python",
   "pygments_lexer": "ipython3",
   "version": "3.8.5"
  }
 },
 "nbformat": 4,
 "nbformat_minor": 4
}
