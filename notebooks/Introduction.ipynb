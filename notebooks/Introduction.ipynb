{
 "cells": [
  {
   "cell_type": "markdown",
   "id": "90a36931",
   "metadata": {},
   "source": [
    "## Preface\n",
    "This ebook is about solving programming problems, mostly the ones focused on algorithms and data structures you'd encounter in coding interviews and programming competitions. \n",
    "\n",
    "## What this book is\n",
    "- A catalogue of what I have learned so far about solving programming problems, mostly derived from other sources\n",
    "- A collection of \"study notes\" for myself for when I need to review this subject (usually before a job interview)\n",
    "- A handful of tips I have learned about coding interviews\n",
    "\n",
    "## What this book is not\n",
    "- An academic textbook\n",
    "- A \"first course\" on programming, algorithms, data structures, or anything else\n",
    "\n",
    "I am making it public in hopes of it helping other people in the same way. Please note:\n",
    "- I am a professional software engineer, but not an academic or an official \"expert\" on this subject.\n",
    "- I presently do not have an editor, so there will be errata. \n",
    "- Any advice given here is based purely on my experiences and anecdotes from others; it is not truly empirical. "
   ]
  },
  {
   "cell_type": "markdown",
   "id": "489beb6f",
   "metadata": {},
   "source": [
    "## Comments, contributions, etc\n",
    "If you find this guide helpful, spot an error, or generally want to contact me about it, feel free to do so via `joshua.goller@hey.com`. Additionally, pull requests are totally welcome. "
   ]
  }
 ],
 "metadata": {
  "kernelspec": {
   "display_name": "Python 3 (ipykernel)",
   "language": "python",
   "name": "python3"
  },
  "language_info": {
   "codemirror_mode": {
    "name": "ipython",
    "version": 3
   },
   "file_extension": ".py",
   "mimetype": "text/x-python",
   "name": "python",
   "nbconvert_exporter": "python",
   "pygments_lexer": "ipython3",
   "version": "3.10.4"
  }
 },
 "nbformat": 4,
 "nbformat_minor": 5
}
