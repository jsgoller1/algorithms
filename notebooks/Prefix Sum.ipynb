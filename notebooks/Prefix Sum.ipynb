{
 "cells": [
  {
   "cell_type": "markdown",
   "metadata": {},
   "source": [
    "# Prefix Sums\n",
    "\n",
    "Prefix sums are a technique for obtaining cumulative sums of arrays. Given an array `A`, the prefix sum array `P` may store the following at `P[i]`:\n",
    "- Cumulative sum in `A` from `A[0]` to `A[i]`\n",
    "- Cumulative sum in `A` of all values left of `i`; `P[0] = 0` and `P[i] = A[0] + A[1] + ... + A[i-1]`. \n",
    "- Any of the above, but from the right, e.g. the sum from `A[i]` to `A[-1]`\n",
    "- Any of the above, but `P` stores a cumulative product or some other operation.\n",
    "\n",
    "Prefix sums are often useful in situations asking for a count of particular types of subarrays. Problems solvable with prefix sums can frequently also be solved with dynamic programming or sliding windows. \n",
    "\n",
    "A useful template for leveraging prefix sums is:\n",
    "```\n",
    "1. Generate required prefix sum array/s\n",
    "2. Traverse arrays and count instances of complements wrt the requested value\n",
    "\n",
    "```"
   ]
  },
  {
   "cell_type": "markdown",
   "metadata": {},
   "source": [
    "## [Subarray sum equals K](https://leetcode.com/problems/subarray-sum-equals-k/), [Binary subarrays with sum](https://leetcode.com/problems/binary-subarrays-with-sum/)\n",
    "\n",
    "These two problems are identical; using binary subarrays causes a subset of possible cases. To solve them, we can imagine a prefix sum array with `sum of values left of i`:\n",
    "\n",
    "```\n",
    "arr  = [4,-1, 1, 2, 3]\n",
    "pref = [0, 4, 3, 4, 6, 7]\n",
    "```\n",
    "To solve this, we need to find all indexes `i,j` with `i<j` where `arr[j] - arr[i] == k` or `arr[j] == arr[i] + k`. Each `pref[n]` can be a value of `j` if we've seen `pref[n]-k` previously in `pref`, and it can otherwise be a possible value for `i`. In the solution below, we compress some operations and don't keep an explicit prefixes array (rather a default dict). "
   ]
  },
  {
   "cell_type": "code",
   "execution_count": 5,
   "metadata": {},
   "outputs": [],
   "source": [
    "%run ../leetcode/560-subarray-sum-equals-k/solution.py"
   ]
  },
  {
   "cell_type": "code",
   "execution_count": 6,
   "metadata": {},
   "outputs": [],
   "source": [
    "%run ../leetcode/930-binary-subarrays-with-sum/solution.py"
   ]
  },
  {
   "cell_type": "markdown",
   "metadata": {},
   "source": [
    "## Example: [Product of Array Except Self](https://leetcode.com/problems/product-of-array-except-self/)\n",
    "\n",
    "This `O(n)` solution uses left and right prefix products and no division. `solution[i] =  left_prefix[i-1] * right_prefix[i+1]`."
   ]
  },
  {
   "cell_type": "code",
   "execution_count": 8,
   "metadata": {},
   "outputs": [],
   "source": [
    "%run ../leetcode/238-product-of-array-except-self/solution.3.py"
   ]
  },
  {
   "cell_type": "markdown",
   "metadata": {},
   "source": [
    "## Example: [Two sum](https://leetcode.com/problems/two-sum/)"
   ]
  },
  {
   "cell_type": "markdown",
   "metadata": {},
   "source": [
    "We don't need prefix sums here, but we can leverage `complementary elements` by computing a list of complements with regard to the target and then scanning it for the correct complement also in the list.\n",
    "```\n",
    "tgt = 9\n",
    "A: [2, 7, 11, 15]\n",
    "C: [7, 2, -2, -6] # C[i] = 9 - A[i]\n",
    "    ^  ^\n",
    "```\n",
    "However, we can compress this down to one pass storing the required complement for each `A[i]`; if `9 = a,b` for `a,b` in `C`, then by the time we find `b`, we will already know `a`:"
   ]
  },
  {
   "cell_type": "code",
   "execution_count": 10,
   "metadata": {},
   "outputs": [],
   "source": [
    "%run ../leetcode/1-two-sum/solution_v2.py"
   ]
  }
 ],
 "metadata": {
  "kernelspec": {
   "display_name": "Python 3",
   "language": "python",
   "name": "python3"
  },
  "language_info": {
   "codemirror_mode": {
    "name": "ipython",
    "version": 3
   },
   "file_extension": ".py",
   "mimetype": "text/x-python",
   "name": "python",
   "nbconvert_exporter": "python",
   "pygments_lexer": "ipython3",
   "version": "3.8.5"
  }
 },
 "nbformat": 4,
 "nbformat_minor": 4
}
