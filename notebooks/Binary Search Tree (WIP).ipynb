{
 "cells": [
  {
   "cell_type": "markdown",
   "metadata": {},
   "source": [
    "# Binary Search Tree"
   ]
  },
  {
   "cell_type": "markdown",
   "metadata": {},
   "source": [
    "A **binary search tree (BST)** is a special case of a binary tree, where for each node the binary search property holds for the node and its children (if any): `left.val <= val <= right.val`. BSTs may or may not contain nodes with duplicate values. These are binary search trees:\n",
    "```\n",
    "   1      2       3\n",
    "  / \\      \\\n",
    " 0   4      5\n",
    "```\n",
    "and these are binary trees that are not BSTs:\n",
    "```\n",
    "   1      2       \n",
    "  / \\      \\\n",
    " 3   -1      1\n",
    "```"
   ]
  },
  {
   "cell_type": "code",
   "execution_count": 1,
   "metadata": {},
   "outputs": [],
   "source": [
    "\"\"\"\n",
    "     4\n",
    "   /   \\\n",
    "  2     6\n",
    " / \\   / \\\n",
    "1   3 5   7\n",
    "\"\"\"\n",
    "class TreeNode:\n",
    "    def __init__(self, val=None, parent=None, left=None, right=None):\n",
    "        self.val = val\n",
    "        self.left = left\n",
    "        self.right = right\n",
    "        self.parent = parent # Some BSTs use nodes without references to parents\n",
    "\n",
    "        \n",
    "tree_dict = {val: TreeNode(val) for val in range(1,8)}\n",
    "tree_dict[4].left = tree_dict[2]\n",
    "tree_dict[4].right = tree_dict[6]\n",
    "tree_dict[2].left = tree_dict[1]\n",
    "tree_dict[2].right = tree_dict[3]\n",
    "tree_dict[6].left = tree_dict[5]\n",
    "tree_dict[6].right = tree_dict[7]\n",
    "tree_dict[1].parent = tree_dict[2]\n",
    "tree_dict[2].parent = tree_dict[4]\n",
    "tree_dict[3].parent = tree_dict[2]\n",
    "tree_dict[5].parent = tree_dict[6]\n",
    "tree_dict[6].parent = tree_dict[4]\n",
    "tree_dict[7].parent = tree_dict[6]\n",
    "\n",
    "root = tree_dict[4]\n",
    "\n",
    "tree_as_arr = [4,2,6,1,3,5,7]"
   ]
  },
  {
   "cell_type": "markdown",
   "metadata": {},
   "source": [
    "#### Exercise (CLRS 12.1-2)\n",
    "What is the difference between the binary-search-tree property and the min-heap property (see page 153)?  Can the min-heap property be used to print out the keys of an n-node tree in sorted order in O(n) time? Show how, or explain why not.\n",
    "\n",
    "</br>\n",
    "<details>\n",
    "<summary><b>Click to view solution.</b></summary>\n",
    "The min-heap property is a looser constraint in that for some node `v` with children `v_l` and `v_r`, `v.value <= v_l.value` and `v.value <= v_r.value`. Because of this, we know that parents and children have an ordered relationship, but left children and right children do not, unlike with a BST. A valid minheap can have multiple possible in-order traversals, whereas  As such, we'd need to do additional work to get a sorted ordering - the typical way with a minheap would be to continuously remove the minimum element. \n",
    "</details>\n"
   ]
  },
  {
   "cell_type": "markdown",
   "metadata": {},
   "source": [
    "## Operations"
   ]
  },
  {
   "cell_type": "markdown",
   "metadata": {},
   "source": [
    "The most common operations on binary trees and BSTs are:\n",
    "- Searching (for a value, minimum, maximum, successor, or predecessor)\n",
    "- Insertion\n",
    "- Deletion\n",
    "- Verification\n",
    "\n",
    "Traversals are also common, but discussed in a separate notebook."
   ]
  },
  {
   "cell_type": "markdown",
   "metadata": {},
   "source": [
    "### Searching"
   ]
  },
  {
   "cell_type": "markdown",
   "metadata": {},
   "source": [
    "#### Running Time\n",
    "`O(log(n))` for a BST of n nodes (`O(n)` for a binary tree). A BST search exploits the binary search property and excludes half of a node's subtree at each step, whereas a regular binary tree has no ordering so a regular traversal must be used. As with traversals, searches can be implemented recursively or iteratively, using a node class or array.\n",
    "\n",
    "#### key\n",
    "Find a specific key in the tree if it exists."
   ]
  },
  {
   "cell_type": "code",
   "execution_count": 7,
   "metadata": {},
   "outputs": [],
   "source": [
    "\"\"\"\n",
    "      5\n",
    "    /   \\\n",
    "   3     7 \n",
    "  / \\   / \\\n",
    " 1   4 6   8\n",
    "\"\"\"\n",
    "\n",
    "bst_dict = {val: TreeNode(val) for val in range(1,9)}\n",
    "bst_dict[5].left = bst_dict[3]\n",
    "bst_dict[5].right = bst_dict[7]\n",
    "bst_dict[3].left = bst_dict[1]\n",
    "bst_dict[3].right = bst_dict[4]\n",
    "bst_dict[7].left = bst_dict[6]\n",
    "bst_dict[7].right = bst_dict[8]\n",
    "bst_root = bst_dict[5]\n",
    "\n",
    "def bst_search(node: TreeNode, key: int):\n",
    "    if not node:\n",
    "        return False\n",
    "    if node.val == key:\n",
    "        return True\n",
    "    if node.val > key:\n",
    "        return bst_search(node.left, key)\n",
    "    else:\n",
    "        return bst_search(node.right, key)\n",
    "\n",
    "assert bst_search(bst_root, 3) \n",
    "assert not bst_search(bst_root, 42)\n",
    "\n",
    "bst_arr = [5,3,7,1,4,6,8]\n",
    "\n",
    "def bst_search(tree: List[int], i: int, key: int):\n",
    "    if not tree or i >= len(tree):\n",
    "        return False\n",
    "    if tree[i] == key:\n",
    "        return True\n",
    "    if tree[i] > key:\n",
    "        return bst_search(tree, 2*i+1, key)\n",
    "    else:\n",
    "        return bst_search(tree, 2*i+2, key)\n",
    "\n",
    "assert bst_search(bst_arr, 0, 3) \n",
    "assert not bst_search(bst_arr, 0, 42)"
   ]
  },
  {
   "cell_type": "markdown",
   "metadata": {},
   "source": [
    "#### min/max\n",
    "Find the minimum or maximum value in the tree, by following the left or right child pointers from the root, respectively."
   ]
  },
  {
   "cell_type": "code",
   "execution_count": 8,
   "metadata": {},
   "outputs": [
    {
     "name": "stdout",
     "output_type": "stream",
     "text": [
      "1\n",
      "8\n"
     ]
    }
   ],
   "source": [
    "def bst_min(node):\n",
    "    if not node:\n",
    "        return\n",
    "    if not node.left:\n",
    "        return node.val\n",
    "    return bst_min(node.left)\n",
    "\n",
    "print(bst_min(bst_root))\n",
    "\n",
    "def bst_max(node):\n",
    "    if not node:\n",
    "        return\n",
    "    if not node.right:\n",
    "        return node.val\n",
    "    return bst_max(node.right)\n",
    "\n",
    "print(bst_max(bst_root))"
   ]
  },
  {
   "cell_type": "markdown",
   "metadata": {},
   "source": [
    "#### predecessor / successor\n",
    "For a given node `n` in the tree, find elelment `m` in the tree that immediately follows `n` in an in-order traversal (if such element exists).\n",
    "- If `n` has a right child, `bst_min(n.right)`; the minimal element of the right subtree is the successor.\n",
    "- If `n` has no right child, search upwards until we reach a node `l` who is the left of child of its parent; `l.parent` is the successor."
   ]
  },
  {
   "cell_type": "markdown",
   "metadata": {},
   "source": [
    "### Insertion\n",
    "- Insertion into a binary tree can be done in O(1) time with an array or log(n) time with TreeNode, since there's no order. \n",
    "- BST insertion takes log(n) time so that the ordering can be preserved. "
   ]
  },
  {
   "cell_type": "markdown",
   "metadata": {},
   "source": [
    "### Deletion\n",
    "WIP"
   ]
  },
  {
   "cell_type": "markdown",
   "metadata": {},
   "source": [
    "### Validation\n",
    "\n",
    "[98. Validate binary search tree](https://leetcode.com/problems/validate-binary-search-tree/)\n",
    "\n",
    "</br>\n",
    "<details>\n",
    "<summary><b>Click for answer.</b></summary>\n",
    "For a leaf node `n` and internal node `m`, `m` is a right parent if `n` is in `m`'s right subtree, and a `left` parent if the opposite. In the tree below, `-2`'s `left ancestors` are `4`, `2`, and `0`, its only right ancestor is `-5`:\n",
    "```\n",
    "        4\n",
    "       / \\\n",
    "      2   6\n",
    "     /   / \\\n",
    "   -5   5   7\n",
    "     \\\n",
    "      0\n",
    "     /\n",
    "   -2  \n",
    "```\n",
    "Recurrence: A node is valid if the BST property holds for it and its children, and if `max(right ancestors) < node.val < min(left ancestors)`.\n",
    "Base case: A root node; check if the BST property holds for the children and the node.\n",
    "Recursive case: Check the BST property, `max(right ancestors) < node.val < min(left ancestors)`\n",
    "\n",
    "An alternative approach is to do an in-order traversal and confirm that the node order is sorted, which is also implemented below.\n",
    "</details>\n",
    "\n"
   ]
  },
  {
   "cell_type": "code",
   "execution_count": 1,
   "metadata": {},
   "outputs": [],
   "source": [
    "# Has no tests, but passes on LeetCode\n",
    "%run ../leetcode/98-validate-binary-search-tree/solution.2.py"
   ]
  }
 ],
 "metadata": {
  "kernelspec": {
   "display_name": "Python 3 (ipykernel)",
   "language": "python",
   "name": "python3"
  },
  "language_info": {
   "codemirror_mode": {
    "name": "ipython",
    "version": 3
   },
   "file_extension": ".py",
   "mimetype": "text/x-python",
   "name": "python",
   "nbconvert_exporter": "python",
   "pygments_lexer": "ipython3",
   "version": "3.8.10"
  }
 },
 "nbformat": 4,
 "nbformat_minor": 4
}
