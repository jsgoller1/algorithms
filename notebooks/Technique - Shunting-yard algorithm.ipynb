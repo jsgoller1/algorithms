{
 "cells": [
  {
   "cell_type": "markdown",
   "metadata": {},
   "source": [
    "# Technique - Shunting-yard algorithm\n",
    "\n",
    "A common interview problem asks the candidate to implement a parser and calculator for arithmetic expressions. The difficulty of the question lies in what operators are allowed - the simplest example involves just \"+\",\"-\", and digits, whereas harder versions allow for parentheses, negative numbers, and exponents, and the most sadistic interviewers may include expressions with scientific notation, floating point values, and trigonometric functions. \n",
    "\n",
    "Thankfully though, everyone's favorite Dutchman has already delivered us from evil by inventing the Shunting-yard algorithm (in addition to sacrificing his physical body to atone for all programmers who actually use computers). Of course, salvation is only promised to those who can spell his name without randomly bashing the `i`,`j`, and `k` keys repeatedly and hoping for the spell-checker to catch it. "
   ]
  },
  {
   "cell_type": "markdown",
   "metadata": {},
   "source": [
    "## [Basic Calculator](https://leetcode.com/problems/basic-calculator/)"
   ]
  },
  {
   "cell_type": "code",
   "execution_count": 41,
   "metadata": {},
   "outputs": [],
   "source": [
    "def push(stack, token):\n",
    "    if token == \"\":\n",
    "        return\n",
    "    if token not in [\"+\", \"-\"]:\n",
    "        token = int(token)\n",
    "    if len(stack) == 1 and stack[0] == \"-\":\n",
    "        stack.pop()\n",
    "        token *= -1\n",
    "    if len(stack) == 2:\n",
    "        oper = stack.pop()\n",
    "        op1 = int(stack.pop())\n",
    "        op2 = int(token)\n",
    "        token = op1 + op2 if oper == \"+\" else op1 - op2\n",
    "    stack.append(token)\n",
    "    \n",
    "\n",
    "def pop(stack):\n",
    "    return stack.pop() if stack else None\n",
    "\n",
    "def _calculate(s: str, i: int = 0) -> (int, int):\n",
    "    stack = []\n",
    "    token = \"\"\n",
    "    while i < len(s):\n",
    "        if s[i] == '(':\n",
    "            val, i = _calculate(s, i+1)\n",
    "            push(stack, val)\n",
    "        elif s[i] == ')':\n",
    "            push(stack, token)\n",
    "            return pop(stack), i+1\n",
    "        elif s[i] in ['+', '-']:\n",
    "            push(stack, token)\n",
    "            push(stack, s[i])\n",
    "            token = \"\"\n",
    "            i += 1\n",
    "        elif s[i] == \" \":\n",
    "            i += 1\n",
    "        else:\n",
    "            token += s[i]\n",
    "            i += 1\n",
    "\n",
    "    push(stack, token)\n",
    "    return pop(stack), i\n",
    "                \n",
    "\n",
    "class Solution:\n",
    "    def calculate(self, s: str) -> int:\n",
    "        return _calculate(s)[0]\n",
    "    \n",
    "s = Solution()\n",
    "cases = [\n",
    "    \"(7)-(0)+(4)\",\n",
    "    \"-2+ 1\",\n",
    "    \"-(2+1)\",\n",
    "    \"2+(-1)\",\n",
    "    \"2-(-1)\",\n",
    "    \"11\",\n",
    "    \"1 + 1\",\n",
    "    \" 2-1 + 2 \",\n",
    "    \"(1+2)\",\n",
    "    \"(1+2)+3\",\n",
    "    \"((1+2)+3)+4\",\n",
    "    \"(1+(4+5+2)-3)+(6+8)\",\n",
    "    #\"()\",\n",
    "    #\"(())\",\n",
    "    \"(11)\",\n",
    "]\n",
    "for expr in cases:\n",
    "    assert s.calculate(expr) == eval(expr), f\"{expr}: {eval(expr)} != {s.calculate(expr)}\""
   ]
  },
  {
   "cell_type": "code",
   "execution_count": 4,
   "metadata": {},
   "outputs": [
    {
     "data": {
      "text/plain": [
       "0"
      ]
     },
     "execution_count": 4,
     "metadata": {},
     "output_type": "execute_result"
    }
   ],
   "source": [
    "eval(\"(0)\")"
   ]
  },
  {
   "cell_type": "code",
   "execution_count": null,
   "metadata": {},
   "outputs": [],
   "source": []
  }
 ],
 "metadata": {
  "kernelspec": {
   "display_name": "Python 3",
   "language": "python",
   "name": "python3"
  },
  "language_info": {
   "codemirror_mode": {
    "name": "ipython",
    "version": 3
   },
   "file_extension": ".py",
   "mimetype": "text/x-python",
   "name": "python",
   "nbconvert_exporter": "python",
   "pygments_lexer": "ipython3",
   "version": "3.8.5"
  }
 },
 "nbformat": 4,
 "nbformat_minor": 4
}
