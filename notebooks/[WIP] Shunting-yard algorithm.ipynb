{
 "cells": [
  {
   "cell_type": "markdown",
   "metadata": {},
   "source": [
    "# [WIP] Shunting-yard algorithm\n",
    "\n",
    "A common interview problem asks the candidate to implement a parser and calculator for arithmetic expressions. The difficulty of the question lies in what operators are allowed - the simplest example involves just \"+\",\"-\", and digits, whereas harder versions allow for parentheses, negative numbers, and exponents, and the most sadistic interviewers may include expressions with scientific notation, floating point values, and trigonometric functions. \n",
    "\n",
    "Thankfully though, everyone's favorite Dutchman has already delivered us from evil by inventing the [Shunting-yard algorithm](https://en.wikipedia.org/wiki/Shunting-yard_algorithm) (in addition to sacrificing his physical body to atone for all programmers who actually use computers). Of course, salvation is only promised to those who can spell his name without randomly bashing the `i`,`j`, and `k` keys repeatedly and hoping for the spell-checker to catch it. "
   ]
  },
  {
   "cell_type": "code",
   "execution_count": null,
   "metadata": {},
   "outputs": [],
   "source": []
  }
 ],
 "metadata": {
  "kernelspec": {
   "display_name": "Python 3",
   "language": "python",
   "name": "python3"
  },
  "language_info": {
   "codemirror_mode": {
    "name": "ipython",
    "version": 3
   },
   "file_extension": ".py",
   "mimetype": "text/x-python",
   "name": "python",
   "nbconvert_exporter": "python",
   "pygments_lexer": "ipython3",
   "version": "3.8.5"
  }
 },
 "nbformat": 4,
 "nbformat_minor": 4
}
