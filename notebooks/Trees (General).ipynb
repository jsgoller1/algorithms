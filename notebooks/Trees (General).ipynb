{
 "cells": [
  {
   "cell_type": "markdown",
   "id": "devoted-accounting",
   "metadata": {},
   "source": [
    "## Trees (General)\n",
    "\n",
    "A tree is a graph data structure containing no cycles:\n",
    "- Each node has zero to many outgoing edges to other nodes (called **children**)\n",
    "- Each node has at most one incoming edge from another node (called the **parent**). \n",
    "- The tree should have only one node with no parent, called the **root**. \n",
    "- A graph may be able to be re-arranged into different trees, depending on its structure. \n",
    "\n",
    "Trees have a **height**, which is the longest possible distance from the root to a leaf node:\n",
    "- An empty tree has height -1\n",
    "- A single node tree has height 0. \n",
    "\n",
    "The following trees have height 0, 1, and 2 respectively:\n",
    "```\n",
    "   0\n",
    "\n",
    "   1 \n",
    "  / \\\n",
    " 3   4 \n",
    "\n",
    "     0\n",
    "    / \\\n",
    "   1   2\n",
    "  /   / \n",
    " 3   5   \n",
    "```"
   ]
  },
  {
   "cell_type": "markdown",
   "id": "eligible-classification",
   "metadata": {},
   "source": [
    "## Binary Trees\n",
    "\n",
    "**m-ary** trees are trees where no node has more than m children. The most common case of this in CS are **binary trees**, where m=2. The above trees are binary trees (each node has at most 2 children) and both have height 2. A binary tree is **full** or **complete** if all non-leaf nodes have 2 children, and no leaf nodes exist on a higher level than the height of the tree (except if there are insufficent nodes) the leftmost nodes would be filled first):\n",
    "```\n",
    "      0\n",
    "    /   \\\n",
    "   1     2\n",
    "  / \\   / \\\n",
    " 3   4 5   6\n",
    "```\n",
    "\n",
    "- A binary tree with height `h` has between (2^h)+1 and 2^(h+1)-1 nodes.\n",
    "\n",
    "Binary trees are typically be constructed either with custom types for nodes or as an array (though there are many other representations). For example, we can represent the above tree using a custom types:"
   ]
  },
  {
   "cell_type": "code",
   "execution_count": 3,
   "id": "imported-aruba",
   "metadata": {},
   "outputs": [],
   "source": [
    "class TreeNode:\n",
    "    def __init__(self, val=None, parent=None, left=None, right=None):\n",
    "        self.val = val\n",
    "        self.left = left\n",
    "        self.right = right\n",
    "        self.parent = parent # Some BSTs use nodes without references to parents\n",
    "\n",
    "        \n",
    "tree_dict = {val: TreeNode(val) for val in range(7)}\n",
    "tree_dict[0].left = tree_dict[1]\n",
    "tree_dict[0].right = tree_dict[2]\n",
    "tree_dict[1].left = tree_dict[3]\n",
    "tree_dict[1].right = tree_dict[4]\n",
    "tree_dict[1].parent = tree_dict[0]\n",
    "tree_dict[2].left = tree_dict[5]\n",
    "tree_dict[2].right = tree_dict[6]\n",
    "tree_dict[2].parent = tree_dict[0]\n",
    "tree_dict[3].parent = tree_dict[1]\n",
    "tree_dict[4].parent = tree_dict[1]\n",
    "tree_dict[5].parent = tree_dict[2]\n",
    "tree_dict[6].parent = tree_dict[2]\n",
    "root = tree_dict[0]"
   ]
  },
  {
   "cell_type": "markdown",
   "id": "packed-donor",
   "metadata": {},
   "source": [
    "Or we can use an array; when representing a tree with an array, the root is put at index 0. The left and right child of a node at index i are 2i+1 and 2i+2. This format can be more compact and easy to work with:"
   ]
  },
  {
   "cell_type": "code",
   "execution_count": 4,
   "id": "aggregate-adult",
   "metadata": {},
   "outputs": [],
   "source": [
    "tree_as_arr = [0,1,2,3,4,5,6]"
   ]
  }
 ],
 "metadata": {
  "kernelspec": {
   "display_name": "Python 3",
   "language": "python",
   "name": "python3"
  },
  "language_info": {
   "codemirror_mode": {
    "name": "ipython",
    "version": 3
   },
   "file_extension": ".py",
   "mimetype": "text/x-python",
   "name": "python",
   "nbconvert_exporter": "python",
   "pygments_lexer": "ipython3",
   "version": "3.8.5"
  }
 },
 "nbformat": 4,
 "nbformat_minor": 5
}
