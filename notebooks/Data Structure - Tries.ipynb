{
 "cells": [
  {
   "cell_type": "markdown",
   "metadata": {},
   "source": [
    "# Data Structure - Tries"
   ]
  },
  {
   "cell_type": "markdown",
   "metadata": {},
   "source": [
    "## [211. Design Add and Search Words Data Structure](https://leetcode.com/problems/design-add-and-search-words-data-structure/)"
   ]
  },
  {
   "cell_type": "code",
   "execution_count": 12,
   "metadata": {},
   "outputs": [],
   "source": [
    "class TrieNode:\n",
    "    def __init__(self):\n",
    "        self.children = {}\n",
    "        self.is_leaf = False\n",
    "\n",
    "class WordDictionary:\n",
    "    def __init__(self):\n",
    "        \"\"\"\n",
    "        Initialize your data structure here.\n",
    "        \"\"\"\n",
    "        self.root = TrieNode()\n",
    "\n",
    "    def addWord(self, word: str) -> None:\n",
    "        node = self.root\n",
    "        for letter in word:\n",
    "            if letter in node.children:\n",
    "                node = node.children[letter]\n",
    "            else:\n",
    "                new_node = TrieNode()\n",
    "                node.children[letter] = new_node\n",
    "                node = new_node\n",
    "        node.is_leaf = True\n",
    "\n",
    "    def _search(self, word, i, node):\n",
    "        if i == len(word):\n",
    "            return node.is_leaf\n",
    "        if word[i] == \".\":\n",
    "            for child in node.children.values():\n",
    "                if self._search(word, i+1, child):\n",
    "                    return True\n",
    "            return False\n",
    "        if word[i] not in node.children:\n",
    "            return False\n",
    "        return self._search(word, i+1, node.children[word[i]])\n",
    "\n",
    "    def search(self, word: str) -> bool:\n",
    "        return self._search(word, 0, self.root)\n",
    "\n",
    "null, true, false = None, True, False\n",
    "cases = [\n",
    "    [\n",
    "        [\"addWord\",\"addWord\",\"search\",\"search\",\"search\",\"search\",\"search\",\"search\",\"search\",\"search\"],\n",
    "        [[\"a\"],[\"ab\"],[\"a\"],[\"a.\"],[\"ab\"],[\".a\"],[\".b\"],[\"ab.\"],[\".\"],[\"..\"]],\n",
    "        [null,null,true,true,true,false,true,false,true,true]\n",
    "    ]\n",
    "]\n",
    "wd = WordDictionary()\n",
    "for commands, args, expecteds in cases:\n",
    "    for i, _ in enumerate(commands):\n",
    "        command = commands[i]\n",
    "        arg = args[i][0]\n",
    "        expected = expecteds[i]\n",
    "        if command == \"addWord\":\n",
    "            wd.addWord(arg)\n",
    "        else:\n",
    "            actual = wd.search(arg)\n",
    "            assert expected == actual, f\"{command,arg}: {expected} != {actual}\"\n",
    "        \n"
   ]
  },
  {
   "cell_type": "markdown",
   "metadata": {},
   "source": [
    "## [421. Maximum XOR of Two Numbers in an Array](https://leetcode.com/problems/maximum-xor-of-two-numbers-in-an-array/)\n",
    "\n",
    "This one uses a bitwise trie, which is really a kind of binary tree.\n",
    "    "
   ]
  },
  {
   "cell_type": "code",
   "execution_count": 109,
   "metadata": {},
   "outputs": [],
   "source": [
    "from typing import List\n",
    "\n",
    "def flipped(bit):\n",
    "    return '0' if bit == '1' else '1'\n",
    "\n",
    "class Solution:\n",
    "    def findMaximumXOR(self, nums: List[int]) -> int:\n",
    "        root = {}\n",
    "        required = len(bin(max(nums))[2:])\n",
    "        bitstrs = [bin(val)[2:].zfill(required) for val in nums]\n",
    "        for bitstr in bitstrs:\n",
    "            node = root\n",
    "            for bit in bitstr:\n",
    "                if bit not in node:\n",
    "                    node[bit] = {}\n",
    "                node = node[bit]\n",
    "            \n",
    "        best_xor = 0\n",
    "        for bitstr in bitstrs:\n",
    "            curr_xor = ''\n",
    "            node = root\n",
    "            for bit in bitstr:\n",
    "                next_bit = flipped(bit) if flipped(bit) in node else bit\n",
    "                curr_xor += '1' if next_bit != bit else '0'\n",
    "                node = node[next_bit]\n",
    "            best_xor = max(best_xor, int(curr_xor,2))\n",
    "        return best_xor\n",
    "    \n",
    "s = Solution()\n",
    "cases = [\n",
    "    ([3,10,5,25,2,8], 28),\n",
    "    ([0], 0),\n",
    "    ([2,4], 6),\n",
    "    ([8,10,2], 10),\n",
    "    ([14,70,53,83,49,91,36,80,92,51,66,70], 127),\n",
    "    ([32,18,33,42,29,20,26,36,15,46], 62)\n",
    "]\n",
    "for vals, expected in cases:\n",
    "    actual = s.findMaximumXOR(vals)\n",
    "    assert actual == expected, f\"{vals}: {expected} != {actual}\""
   ]
  }
 ],
 "metadata": {
  "kernelspec": {
   "display_name": "Python 3",
   "language": "python",
   "name": "python3"
  },
  "language_info": {
   "codemirror_mode": {
    "name": "ipython",
    "version": 3
   },
   "file_extension": ".py",
   "mimetype": "text/x-python",
   "name": "python",
   "nbconvert_exporter": "python",
   "pygments_lexer": "ipython3",
   "version": "3.8.5"
  }
 },
 "nbformat": 4,
 "nbformat_minor": 4
}
