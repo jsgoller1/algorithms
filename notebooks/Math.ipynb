{
 "cells": [
  {
   "cell_type": "markdown",
   "id": "c201e415",
   "metadata": {},
   "source": [
    "# Math"
   ]
  },
  {
   "cell_type": "markdown",
   "id": "b025c510",
   "metadata": {},
   "source": [
    "## Sum of powers\n",
    "\n",
    "$$\n",
    "\\sum_{k=1}^{n}{k} = 1 + 2 + ... + n = \\frac{n(n+1)}{2} \\\\\n",
    "\\sum_{k=1}^{n}{k^2} = 1^2 + 2^2 + 3^2 + ... + n^2 = \\frac{1}{6} n (n+1)(2n+1) \\\\\n",
    "\\sum{k^3} = (\\sum{k})^2 = (1 + 2 + 3 + ... + n)^2  = (\\frac{1}{2}n(n+1))^2\n",
    "$$"
   ]
  },
  {
   "cell_type": "code",
   "execution_count": 8,
   "id": "c10be753",
   "metadata": {},
   "outputs": [],
   "source": [
    "def sum_of_squares_slow(n):\n",
    "    total = 0\n",
    "    for k in range(1, n+1):\n",
    "        total += k*k\n",
    "    return total\n",
    "\n",
    "def sum_of_cubes_slow(n):\n",
    "    total = 0\n",
    "    for k in range(1, n+1):\n",
    "        total += k*k*k\n",
    "    return total\n",
    "\n",
    "def sum_of_squares(n):\n",
    "    return (n*(n+1)*((2*n)+1))/6\n",
    "\n",
    "def sum_of_cubes(n):\n",
    "    return ((n*(n+1))/2)**2\n",
    "\n",
    "for i in range(100):\n",
    "    assert sum_of_squares_slow(i) == sum_of_squares(i), i\n",
    "    assert sum_of_cubes_slow(i) == sum_of_cubes(i), i"
   ]
  },
  {
   "cell_type": "markdown",
   "id": "a5dd45d3",
   "metadata": {},
   "source": [
    "## Exponentiation\n",
    "\n",
    "Note that $n^8 = (n^4)^2$. We can exploit this (and caching) to perform fast exponentiation:\n",
    "$$\n",
    "a^n = \n",
    "\\begin{cases} \n",
    "1  & \\quad \\text{if } n = 0 \\\\\n",
    "a & \\quad \\text{if } n = 1 \\\\\n",
    "(a^{n/2})^2 & \\quad \\text{if } n \\text{ is even} \\\\\n",
    "a(a^{(n-1)/2})^2 & \\quad \\text{if } n \\text{ is odd} \\\\\n",
    "\\end{cases}\n",
    "$$"
   ]
  },
  {
   "cell_type": "code",
   "execution_count": 50,
   "id": "5c710313",
   "metadata": {},
   "outputs": [],
   "source": [
    "def pow_slow(a, n):\n",
    "    t = 1\n",
    "    for i in range(n):\n",
    "        t *= a\n",
    "    return t\n",
    "\n",
    "#def fast_exp(base, exponent):\n",
    "#    if exponent == 0:\n",
    "#        return 1\n",
    "#    elif exponent == 1:\n",
    "#        return base\n",
    "#    elif exponent % 2 == 0:\n",
    "#        return fast_exp(base, exponent/2)*fast_exp(base, exponent/2)\n",
    "#    else: \n",
    "#        return base * fast_exp(base, (exponent-1)/2) * fast_exp(base, (exponent-1)/2) \n",
    "    \n",
    "def fast_exp_cached(base, exponent):\n",
    "    cache = {}\n",
    "    def solve(base, exponent):\n",
    "        if (base, exponent) in cache:\n",
    "            return cache[(base, exponent)]\n",
    "        if exponent == 0:\n",
    "            return 1\n",
    "        elif exponent == 1:\n",
    "            return base\n",
    "        elif exponent % 2 == 0:\n",
    "            cache[(base, exponent)] = fast_exp(base, exponent/2)*fast_exp(base, exponent/2)\n",
    "        else:\n",
    "            cache[(base, exponent)] = base * fast_exp(base, (exponent-1)/2) * fast_exp(base, (exponent-1)/2) \n",
    "        return cache[(base, exponent)]\n",
    "    return solve(base, exponent)\n",
    "   \n",
    "def power(a, n):\n",
    "    if n == 0:\n",
    "        return 1\n",
    "    elif n == 1:\n",
    "        return a\n",
    "    else:\n",
    "        t  = power(a, n//2)\n",
    "        return t * t* power(a, n%2)\n"
   ]
  },
  {
   "cell_type": "code",
   "execution_count": 52,
   "id": "25f915e4",
   "metadata": {},
   "outputs": [],
   "source": [
    "for base in range(100):\n",
    "    for exp in range(100):\n",
    "        assert pow_slow(base, exp) == power(base, exp) == fast_exp_cached(base, exp)"
   ]
  },
  {
   "cell_type": "markdown",
   "id": "bbcef15e",
   "metadata": {},
   "source": [
    "## References / Credits\n",
    "- [CS 97 maths](https://web.stanford.edu/class/cs97si/02-mathematics.pdf)"
   ]
  }
 ],
 "metadata": {
  "kernelspec": {
   "display_name": "Python 3",
   "language": "python",
   "name": "python3"
  },
  "language_info": {
   "codemirror_mode": {
    "name": "ipython",
    "version": 3
   },
   "file_extension": ".py",
   "mimetype": "text/x-python",
   "name": "python",
   "nbconvert_exporter": "python",
   "pygments_lexer": "ipython3",
   "version": "3.9.16"
  }
 },
 "nbformat": 4,
 "nbformat_minor": 5
}
