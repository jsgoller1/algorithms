{
 "cells": [
  {
   "cell_type": "markdown",
   "id": "4cbf3968",
   "metadata": {},
   "source": [
    "# Strings - Manacher's Algorithm (Longest Palindromic Substring)"
   ]
  },
  {
   "cell_type": "markdown",
   "id": "9066ebeb",
   "metadata": {},
   "source": [
    "## Problem Statement\n",
    "**Input**: String $s$ of length $0 <= n$ (it fits reasonably in memory)\n",
    "\n",
    "**Output**: The longest contiguous substring $s'$ of $s$ such that $s'[i] = s'[n-1-i]$ for $0 <= i < n$, i.e. $s'[0] = s'[n-1]$, $s'[1] = s'[n-2]$, etc. If multiple are possible, any are valid.\n",
    "\n",
    "**Examples**:\n",
    "- If `s = \"zabad\"`, `s' = \"aba\"`\n",
    "- If `s = \"aabaa\"`, `s' = \"aabaa\"`.\n",
    "- If `s = \"abaxcbc\"`, `s' = \"aba\"` or `\"cbc\"`\n",
    "- If `s = \"cab\"`, `s' = \"c\"` or `\"a\"` or `b\"`\n",
    "- If `s = \"\"`, `s' = \"\"`"
   ]
  },
  {
   "cell_type": "code",
   "execution_count": 1,
   "id": "cc0465db",
   "metadata": {},
   "outputs": [],
   "source": [
    "import time\n",
    "\n",
    "def test(fn):\n",
    "    test_start = time.time_ns()\n",
    "    cases = [\n",
    "        (\"aabaa\", [\"aabaa\"]),\n",
    "        (\"zabad\", [\"aba\"]),\n",
    "        (\"abaxcbc\", [ \"aba\", \"cbc\"]),\n",
    "        (\"cab\", [\"c\",\"a\",\"b\"]),\n",
    "        (\"\", [\"\"]),\n",
    "        ((\"ab\"*100) + \"zzzzzzzzzz\"*100 + (\"gm\"*100), [\"zzzzzzzzzz\"*100])\n",
    "    ]\n",
    "    case_times = {}\n",
    "    for i, test_case in enumerate(cases):\n",
    "        given, allowed = test_case\n",
    "        case_start = time.time_ns()\n",
    "        actual = fn(given)\n",
    "        assert actual in allowed, f\"Allowed: {[item for item in allowed]}\\nActual: {actual}\"\n",
    "        case_end = time.time_ns()\n",
    "        case_times[i] = case_end - case_start\n",
    "    test_end = time.time_ns()\n",
    "    for case, case_time in case_times.items():\n",
    "        print(f\"Case {case}: {case_time} nsec\")\n",
    "    print(f\"Total test time: {round(test_end - test_start,2)} nsec\")"
   ]
  },
  {
   "cell_type": "markdown",
   "id": "c13382b7",
   "metadata": {},
   "source": [
    "## Details\n",
    "There are virtually no good explanations of this problem; I've looked over a few resources and all of them are either poorly written or hard to follow. Here's three different approaches (and I'm sure there are more)."
   ]
  },
  {
   "cell_type": "markdown",
   "id": "e419d9c0",
   "metadata": {},
   "source": [
    "## Brute force - every possible substring\n",
    "\n",
    "The simplest way to find the longest palindromic substring is just to test every possible substring of $s$ to see if it's a palindrome, and then return the largest one we find. There are $n \\cdot n-1 = n^2$ possible substrings of $s$, each of which must be verified in $O(n)$ time, so the overall algorithm will have a runtime complexity of $O(n^3)$. If we only keep track of the starting and ending indices of our longest substring, we can have $O(c)$ space usage."
   ]
  },
  {
   "cell_type": "code",
   "execution_count": 2,
   "id": "72110d97",
   "metadata": {},
   "outputs": [
    {
     "name": "stdout",
     "output_type": "stream",
     "text": [
      "Case 0: 26522 nsec\n",
      "Case 1: 14966 nsec\n",
      "Case 2: 21666 nsec\n",
      "Case 3: 6627 nsec\n",
      "Case 4: 1398 nsec\n",
      "Case 5: 9737761630 nsec\n",
      "Total test time: 9737845494 nsec\n"
     ]
    }
   ],
   "source": [
    "def is_palindrome(s, l, r):\n",
    "    while l <= r:\n",
    "        if s[l] != s[r]:\n",
    "            return False\n",
    "        l += 1\n",
    "        r -= 1\n",
    "    return True\n",
    "\n",
    "def brute_force(s):\n",
    "    best_l, best_r = 0, 0\n",
    "    for l, _ in enumerate(s):\n",
    "        for r in range(l, len(s)):\n",
    "            if is_palindrome(s, l, r) and (r-l > best_r - best_l):\n",
    "                best_l, best_r = l, r\n",
    "    return s[best_l:best_r+1]\n",
    "\n",
    "test(brute_force)"
   ]
  },
  {
   "cell_type": "markdown",
   "id": "8a04dd4b",
   "metadata": {},
   "source": [
    "## Brute force v2 - every possible center\n",
    "The brute force strategy does unnecessary work. Suppose we run it for `s = \"aaxxxxbb\"`. The algorithm will test substrings `\"x\"` (there are 4 different ones), `\"xx\"` (3 different ones), and `\"xxx\"` (two different ones), then eventually find the actual answer `\"xxxx\"`. We wind up going over the same four characters numerous times. When I intuitively look at the string to check if it's a palindrome, my brain starts at the middle (a single character for odd-length strings and gap between characters for even length ones) and works outwards. We can do something similar with code to eliminate unnecessary work. We will insert mock characters between each actual character to make the idea of a \"center\" concrete, then do an \"outwards test\". \n",
    "\n",
    "This will test $2n+1$ possible centers, each of which takes $n$ time to verify, thus bringing us down to $O(n^2)$ runtime. Adding and removimg bogus \"center\" characters between each actual character in the string will add two separate $n$ time steps, but neither changes the overall $O(n^2)$ runtime of the program."
   ]
  },
  {
   "cell_type": "code",
   "execution_count": 3,
   "id": "66e30754",
   "metadata": {},
   "outputs": [
    {
     "name": "stdout",
     "output_type": "stream",
     "text": [
      "Case 0: 11477 nsec\n",
      "Case 1: 6815 nsec\n",
      "Case 2: 8103 nsec\n",
      "Case 3: 3718 nsec\n",
      "Case 4: 1711 nsec\n",
      "Case 5: 243329234 nsec\n",
      "Total test time: 243366882 nsec\n"
     ]
    }
   ],
   "source": [
    "def best_palindrome_lr(split_string, center):\n",
    "    l = r = center\n",
    "    while (1 < l) \\\n",
    "      and (r < len(split_string)-1) \\\n",
    "      and split_string[l-1] == split_string[r+1]:\n",
    "        l-=1\n",
    "        r+=1\n",
    "    return l, r\n",
    "    \n",
    "def better_brute_force(string):\n",
    "    split_string = f\"|{'|'.join(list(string))}|\"\n",
    "    best_l = best_r = 0\n",
    "    for center, _ in enumerate(split_string):\n",
    "        l,r = best_palindrome_lr(split_string, center)\n",
    "        if (r-l > best_r - best_l):\n",
    "            best_l, best_r = l, r\n",
    "    return \"\".join([c for c in split_string[best_l:best_r+1] if c != \"|\"])\n",
    "\n",
    "test(better_brute_force)"
   ]
  },
  {
   "cell_type": "markdown",
   "id": "3c3059b0",
   "metadata": {},
   "source": [
    "## Use the Force - Manacher's Algorithm\n",
    "\n",
    "So can we do better than $O(n^2)$? If so, it means that our brute force v2 is also doing unncessary work. Manacher's algorithm is $O(n)$ - from we can guess we probably only need to look at each character (or bogus \"center\" character) once. Where might the unnecessary work be happening? \n",
    "\n",
    "Consider `s = aaxxxxbb` (using `\".\"` as a center:  `'.a.a.x.x.x.x.b.b.'`):\n",
    "\n",
    "| . | a | . | a | . | x | . | x | . | x | . | x | . | b | . | b | . |\n",
    "|---|---|---|---|---|---|---|---|---|---|---|---|---|---|---|---|---|\n",
    "| 0 | 1 | 2 | 3 | 4 | 5 | 6 | 7 | 8 | 9 | 10| 11| 12| 13| 14| 15| 16|\n",
    "\n",
    "Suppose we used our \"middle-outward\" strategy and just checked `s[2]` as the center. The program would've halted after `l = 0, r = 4` and we'd then know about the palindrome-ness of that part of the string:\n",
    "\n",
    "| . | a | . | a | . | x | . | x | . | x | . | x | . | b | . | b | . |\n",
    "|---|---|---|---|---|---|---|---|---|---|---|---|---|---|---|---|---|\n",
    "| 0 | 1 | 2 | 3 | 4 | 5 | 6 | 7 | 8 | 9 | 10| 11| 12| 13| 14| 15| 16|\n",
    "| x | x | c | x | x |   |   |   |   |   |   |   |   |   |   |   |   |\n",
    "\n",
    "We can use this when we check for palindromes at `s[3]`. We can think of `.a.a.` as a palindrome `p` centered at `s[2]` with radius 2 (total length 5). A palindrome `q` centered at `s[3]` thus falls within `p`:\n",
    "\n",
    "| . | a | . | a | . | x | . | x | . | x | . | x | . | b | . | b | . |\n",
    "|---|---|---|---|---|---|---|---|---|---|---|---|---|---|---|---|---|\n",
    "| 0 | 1 | 2 | 3 | 4 | 5 | 6 | 7 | 8 | 9 | 10| 11| 12| 13| 14| 15| 16|\n",
    "| p | p | p | p | p |   |   |   |   |   |   |   |   |   |   |   |   |\n",
    "| ? | ? | ? | q | ? | ? | ? |...|   |   |   |   |   |   |   |   |   |\n",
    "\n",
    "so we \n"
   ]
  },
  {
   "cell_type": "code",
   "execution_count": 18,
   "id": "98287569",
   "metadata": {},
   "outputs": [],
   "source": [
    "def manacher(string):\n",
    "    pass"
   ]
  },
  {
   "cell_type": "markdown",
   "id": "cd526b35",
   "metadata": {},
   "source": [
    "## Resources\n",
    "- [Manacher's original paper](https://dl.acm.org/doi/pdf/10.1145/321892.321896)\n",
    "- [The Wikipedia page]() (warning: shitty)\n",
    "- [Fred Akalin's explanation](https://www.akalin.com/longest-palindrome-linear-time) of Manacher's algorithm \n",
    "- [Jewels of Stringology](https://www.amazon.com/Jewels-Stringology-Maxime-Crochemore/dp/9810247826), p. 114\n"
   ]
  },
  {
   "cell_type": "code",
   "execution_count": null,
   "id": "2c015da1",
   "metadata": {},
   "outputs": [],
   "source": [
    "\n",
    "string = '.a.a.x.x.x.x.b.b.'\n",
    "new = \"|\"\n",
    "for i, char in enumerate(string):\n",
    "    new += f\"{i}|\"\n",
    "print(new)\n",
    "\n",
    "f\"|{'|'.join(list(string))}|\""
   ]
  }
 ],
 "metadata": {
  "kernelspec": {
   "display_name": "Python 3 (ipykernel)",
   "language": "python",
   "name": "python3"
  },
  "language_info": {
   "codemirror_mode": {
    "name": "ipython",
    "version": 3
   },
   "file_extension": ".py",
   "mimetype": "text/x-python",
   "name": "python",
   "nbconvert_exporter": "python",
   "pygments_lexer": "ipython3",
   "version": "3.10.4"
  }
 },
 "nbformat": 4,
 "nbformat_minor": 5
}
