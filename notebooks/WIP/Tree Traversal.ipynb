{
 "cells": [
  {
   "cell_type": "markdown",
   "id": "892aedc0",
   "metadata": {},
   "source": [
    "# Tree traversal"
   ]
  },
  {
   "cell_type": "markdown",
   "id": "9de7f5ec",
   "metadata": {},
   "source": [
    "Tree traversal refers to visiting every node in the tree and processing its data. Depending on the goal of the traversal, \"processing\" can mean almost anything - the most basic example is just printing the value of the node. \n",
    "\n",
    "**Running time**: `O(n)` for `n` nodes in the tree; we must visit every node in the tree.\n",
    "\n",
    "Traversing the tree creates an ordering of its nodes; there are several possible orderings.\n",
    "- **Pre-order**: Process the current node, visit the left child, visit the right child.\n",
    "- **In-order**: Visit the left child, process the current node, visit the right child.\n",
    "- **Post-order**: Visit the left child, visit the right child, process the current node.\n",
    "- **Level-order**: All nodes at the given level are visited before any of their children.\n",
    "\n",
    "> The trace of a traversal is called a sequentialisation of the tree. The traversal trace is a list of each visited root. No one sequentialisation according to pre-, in- or post-order describes the underlying tree uniquely. Given a tree with distinct elements, either pre-order or post-order paired with in-order is sufficient to describe the tree uniquely. ([Wikipedia](https://en.wikipedia.org/wiki/Tree_traversal#In-order_(LNR)))\n",
    "\n",
    "The most straightforward way to implement pre/in/post-order traversals uses recursion. Note that below, we can easily change from pre- to in- or post- order by simply changing where we call to `print()`, and can reverse the order by swapping the left and right:"
   ]
  },
  {
   "cell_type": "code",
   "execution_count": 1,
   "id": "c7facd9b",
   "metadata": {},
   "outputs": [],
   "source": [
    "\"\"\"\n",
    "     4\n",
    "   /   \\\n",
    "  2     6\n",
    " / \\   / \\\n",
    "1   3 5   7\n",
    "\"\"\"\n",
    "class TreeNode:\n",
    "    def __init__(self, val=None, parent=None, left=None, right=None):\n",
    "        self.val = val\n",
    "        self.left = left\n",
    "        self.right = right\n",
    "        self.parent = parent # Some BSTs use nodes without references to parents\n",
    "\n",
    "        \n",
    "tree_dict = {val: TreeNode(val) for val in range(1,8)}\n",
    "tree_dict[4].left = tree_dict[2]\n",
    "tree_dict[4].right = tree_dict[6]\n",
    "tree_dict[2].left = tree_dict[1]\n",
    "tree_dict[2].right = tree_dict[3]\n",
    "tree_dict[6].left = tree_dict[5]\n",
    "tree_dict[6].right = tree_dict[7]\n",
    "tree_dict[1].parent = tree_dict[2]\n",
    "tree_dict[2].parent = tree_dict[4]\n",
    "tree_dict[3].parent = tree_dict[2]\n",
    "tree_dict[5].parent = tree_dict[6]\n",
    "tree_dict[6].parent = tree_dict[4]\n",
    "tree_dict[7].parent = tree_dict[6]\n",
    "root = tree_dict[4]"
   ]
  },
  {
   "cell_type": "code",
   "execution_count": 2,
   "id": "9b4a99f0",
   "metadata": {},
   "outputs": [
    {
     "name": "stdout",
     "output_type": "stream",
     "text": [
      "Pre-order 4 2 1 3 6 5 7  \n"
     ]
    }
   ],
   "source": [
    "def pre_order_recursive(node: TreeNode):\n",
    "    if not node: return\n",
    "    print(node.val, end=\" \")\n",
    "    pre_order_recursive(node.left)\n",
    "    pre_order_recursive(node.right) \n",
    "    \n",
    "print(f\"Pre-order\", end=\" \")\n",
    "pre_order_recursive(root)\n",
    "print(\" \")"
   ]
  },
  {
   "cell_type": "code",
   "execution_count": 3,
   "id": "e8ae4364",
   "metadata": {},
   "outputs": [
    {
     "name": "stdout",
     "output_type": "stream",
     "text": [
      "In-order: 1 2 3 4 5 6 7  \n"
     ]
    }
   ],
   "source": [
    "def in_order_recursive(node: TreeNode):\n",
    "    if not node: return\n",
    "    in_order_recursive(node.left)\n",
    "    print(node.val, end=\" \")\n",
    "    in_order_recursive(node.right)\n",
    "\n",
    "print(f\"In-order:\", end=\" \")\n",
    "in_order_recursive(root)\n",
    "print(\" \")"
   ]
  },
  {
   "cell_type": "code",
   "execution_count": 4,
   "id": "556baaca",
   "metadata": {},
   "outputs": [
    {
     "name": "stdout",
     "output_type": "stream",
     "text": [
      "Post-order: 1 3 2 5 7 6 4  \n"
     ]
    }
   ],
   "source": [
    "def post_order_recursive(node: TreeNode):\n",
    "    if not node: return\n",
    "    post_order_recursive(node.left)\n",
    "    post_order_recursive(node.right)\n",
    "    print(node.val, end=\" \")\n",
    "\n",
    "print(f\"Post-order:\", end=\" \")\n",
    "post_order_recursive(root)\n",
    "print(\" \")"
   ]
  },
  {
   "cell_type": "markdown",
   "id": "fa26b2df",
   "metadata": {},
   "source": [
    "Traversals can also be implemented explicitly using a stack. Iterative versions are not as straightforward and make for great interview questions:"
   ]
  },
  {
   "cell_type": "code",
   "execution_count": 5,
   "id": "ae07fc21",
   "metadata": {},
   "outputs": [
    {
     "name": "stdout",
     "output_type": "stream",
     "text": [
      "Pre-order: [4, 2, 1, 3, 6, 5, 7]\n"
     ]
    }
   ],
   "source": [
    "def pre_order_iterative(node: TreeNode):\n",
    "    traversal = []\n",
    "    stack = [node]\n",
    "    while stack:\n",
    "        curr = stack.pop()\n",
    "        if curr:\n",
    "            traversal.append(curr.val)\n",
    "            stack.append(curr.right)\n",
    "            stack.append(curr.left)\n",
    "    return traversal\n",
    "print(f\"Pre-order: {pre_order_iterative(root)}\") "
   ]
  },
  {
   "cell_type": "code",
   "execution_count": 6,
   "id": "de387e82",
   "metadata": {},
   "outputs": [
    {
     "name": "stdout",
     "output_type": "stream",
     "text": [
      "In-order: [1, 2, 3, 4, 5, 6, 7]\n"
     ]
    }
   ],
   "source": [
    "def in_order_iterative(node: TreeNode):\n",
    "    traversal = []\n",
    "    stack = []\n",
    "    while node or stack:\n",
    "        if node:\n",
    "            stack.append(node)\n",
    "            node = node.left\n",
    "        else:\n",
    "            node = stack.pop()\n",
    "            traversal.append(node.val)\n",
    "            node = node.right\n",
    "    return traversal        \n",
    "print(f\"In-order: {in_order_iterative(root)}\")"
   ]
  },
  {
   "cell_type": "code",
   "execution_count": 7,
   "id": "fdeb128f",
   "metadata": {},
   "outputs": [
    {
     "name": "stdout",
     "output_type": "stream",
     "text": [
      "Post-order: [1, 3, 2, 5, 7, 6, 4]\n"
     ]
    }
   ],
   "source": [
    "def post_order_iterative(node: TreeNode):\n",
    "    traversal = []\n",
    "    stack = []\n",
    "    prev_node = None\n",
    "    while stack or node:\n",
    "        if node:\n",
    "            stack.append(node)\n",
    "            node = node.left\n",
    "        else:\n",
    "            peek = stack[-1] \n",
    "            if peek.right and prev_node != peek.right:\n",
    "                node = peek.right\n",
    "            else:\n",
    "                traversal.append(peek.val)\n",
    "                prev_node = stack.pop()\n",
    "    return traversal\n",
    " \n",
    "print(f\"Post-order: {post_order_iterative(root)}\")"
   ]
  },
  {
   "cell_type": "markdown",
   "id": "b094dfcf",
   "metadata": {},
   "source": [
    "Level order traversal is implemented iteratively, but using a queue (most easily via `collections.deque()` in Python), and can be used for breadth-first searches:"
   ]
  },
  {
   "cell_type": "code",
   "execution_count": null,
   "id": "637bb88d",
   "metadata": {},
   "outputs": [],
   "source": [
    "from collections import deque\n",
    "\n",
    "def level_order_iterative(node: TreeNode):\n",
    "    q = deque([node])\n",
    "    while q:\n",
    "        curr = q.popleft()\n",
    "        print(curr.val, end =\" \")\n",
    "        q.append(curr.left) if curr.left else None\n",
    "        q.append(curr.right) if curr.right else None \n",
    "level_order_iterative(root)"
   ]
  },
  {
   "cell_type": "markdown",
   "id": "ecfe2dd3",
   "metadata": {},
   "source": [
    "Also, remember that each type of traversal can be implemented using an array instead of a node type if given, though this tends to be more wasteful if the BST isn't complete:"
   ]
  },
  {
   "cell_type": "code",
   "execution_count": 10,
   "id": "0fd7c3d6",
   "metadata": {},
   "outputs": [
    {
     "name": "stdout",
     "output_type": "stream",
     "text": [
      "4 2 1 3 6 5 7 "
     ]
    }
   ],
   "source": [
    "from typing import List\n",
    "\n",
    "tree_as_arr = [4,2,6,1,3,5,7]\n",
    "\n",
    "def pre_order_arr(tree: [int], i: int):\n",
    "    if not (0 <= i <=len(tree)-1):\n",
    "        return\n",
    "    print(tree[i], end =\" \")\n",
    "    pre_order_arr(tree, 2*i+1)\n",
    "    pre_order_arr(tree, 2*i+2)\n",
    "pre_order_arr(tree_as_arr, 0)"
   ]
  },
  {
   "cell_type": "markdown",
   "id": "7ebc95b3",
   "metadata": {},
   "source": [
    "#### Exercise (CLRS 12.1-3)\n",
    "Give a nonrecursive algorithm that performs an inorder tree walk. (Hint: An easy solution uses a stack as an auxiliary data structure.  A more complicated, but elegant, solution uses no stack but assumes that we can test two pointers for equality.)\n",
    "\n",
    "</br>\n",
    "<details>\n",
    "<summary><b>Click to view summary.</b></summary>\n",
    "The stack-based approach is shown above. For the two-pointer solution, CLRS makes a critical distinction in its definition of BSTs:\n",
    "> We can represent such a tree by a linked data structure in which each node is an object.  In addition to a key and satellite data, each node contains attributes `left`, `right`, and `p` that point to the nodes corresponding to its left child, its right child, and its parent, respectively. (p. 286-287)\n",
    "\n",
    "With a pointer to the parent, we can leverage the fact that the root of the tree is the only node without a parent, and use the following approach:\n",
    "```\n",
    "Start at the root node, and do the following until our current node is nil:\n",
    "    - If there's a left and we just came from the parent, go left.\n",
    "    - If there's no left or we just came from the left:\n",
    "        - print this node's value.\n",
    "        - If there is a right, go right\n",
    "    - If we just came from the right or there is no right:\n",
    "    - Otherwise Go to the parent\n",
    " ```\n",
    "    \n",
    "Implemented:\n",
    "```python3\n",
    "\"\"\"\n",
    "      0\n",
    "    /    \\\n",
    "   1      2\n",
    "  / \\    / \\ \n",
    " 3   4  5   6 \n",
    "\"\"\"\n",
    "\n",
    "def inorder_traversal(root):\n",
    "    current = root\n",
    "    past = None\n",
    "    while current:\n",
    "        # Go left if we just came from the parent and a left child exists.\n",
    "        if (past == current.parent) and current.left:\n",
    "            past = current\n",
    "            current = current.left\n",
    "            continue\n",
    "        # Print the current node's value if we just came from the left or can't go left.\n",
    "        if (past == current.left) or (not current.left):\n",
    "            print(current.val, end=\" \")\n",
    "        # Go right if we just came from the left and can go right.\n",
    "        if (past == current.left) and current.right:\n",
    "            past = current\n",
    "            current = current.right\n",
    "            continue\n",
    "        # Otherwise return to the parent \n",
    "        past = current\n",
    "        current = current.parent\n",
    "inorder_traversal(root)    \n",
    "```\n",
    "</details>"
   ]
  },
  {
   "cell_type": "code",
   "execution_count": null,
   "id": "9cf85b9d",
   "metadata": {},
   "outputs": [],
   "source": []
  }
 ],
 "metadata": {
  "kernelspec": {
   "display_name": "Python 3 (ipykernel)",
   "language": "python",
   "name": "python3"
  },
  "language_info": {
   "codemirror_mode": {
    "name": "ipython",
    "version": 3
   },
   "file_extension": ".py",
   "mimetype": "text/x-python",
   "name": "python",
   "nbconvert_exporter": "python",
   "pygments_lexer": "ipython3",
   "version": "3.10.4"
  }
 },
 "nbformat": 4,
 "nbformat_minor": 5
}
