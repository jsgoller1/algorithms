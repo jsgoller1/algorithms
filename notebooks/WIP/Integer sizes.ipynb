{
 "cells": [
  {
   "cell_type": "markdown",
   "id": "dec305a7",
   "metadata": {},
   "source": [
    "- https://docs.microsoft.com/en-us/cpp/c-language/cpp-integer-limits?view=msvc-170\n",
    "- https://en.wikipedia.org/wiki/Two%27s_complement\n",
    "- https://en.wikipedia.org/wiki/Signed_number_representations#Two's_complement\n",
    "- https://docs.microsoft.com/en-us/cpp/cpp/data-type-ranges?view=msvc-170\n",
    "- CS:APP - 2.2"
   ]
  },
  {
   "cell_type": "code",
   "execution_count": null,
   "id": "3f3e2e5d",
   "metadata": {},
   "outputs": [],
   "source": []
  }
 ],
 "metadata": {
  "kernelspec": {
   "display_name": "Python 3 (ipykernel)",
   "language": "python",
   "name": "python3"
  },
  "language_info": {
   "codemirror_mode": {
    "name": "ipython",
    "version": 3
   },
   "file_extension": ".py",
   "mimetype": "text/x-python",
   "name": "python",
   "nbconvert_exporter": "python",
   "pygments_lexer": "ipython3",
   "version": "3.10.4"
  }
 },
 "nbformat": 4,
 "nbformat_minor": 5
}
