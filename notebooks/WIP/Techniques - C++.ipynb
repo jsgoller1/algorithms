{
 "cells": [
  {
   "cell_type": "markdown",
   "id": "3f81e39a",
   "metadata": {},
   "source": [
    "Use `unordered_map` with inline initialization for hardcoded lookup tables:\n",
    "\n",
    "```cpp\n",
    "unordered_map<char, int> table = {\n",
    "            {'I', 1},\n",
    "            {'V', 5},\n",
    "            {'X', 10},\n",
    "            {'L', 50},\n",
    "            {'C', 100},\n",
    "            {'D', 500},\n",
    "            {'M', 1000}\n",
    "        };\n",
    "```"
   ]
  },
  {
   "cell_type": "code",
   "execution_count": null,
   "id": "3f3b2b1d",
   "metadata": {},
   "outputs": [],
   "source": []
  }
 ],
 "metadata": {
  "kernelspec": {
   "display_name": "Python 3 (ipykernel)",
   "language": "python",
   "name": "python3"
  },
  "language_info": {
   "codemirror_mode": {
    "name": "ipython",
    "version": 3
   },
   "file_extension": ".py",
   "mimetype": "text/x-python",
   "name": "python",
   "nbconvert_exporter": "python",
   "pygments_lexer": "ipython3",
   "version": "3.10.4"
  }
 },
 "nbformat": 4,
 "nbformat_minor": 5
}
