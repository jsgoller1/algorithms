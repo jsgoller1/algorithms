{
 "cells": [
  {
   "cell_type": "markdown",
   "id": "7bc9f383",
   "metadata": {},
   "source": [
    "# Sorting\n",
    "Sorting is a classical problem in computer science. Algorithms that solve this problem by comparing elements of `arr` to each other are called **comparison sorts**."
   ]
  },
  {
   "cell_type": "markdown",
   "id": "72632d61",
   "metadata": {},
   "source": [
    "## Problem statement\n",
    "- **Input**: A collection of `n` integers called `arr`.\n",
    "- **Output**: The same collection of `n` integers, rearranged so that for any `i` such that `0 <= i <= n-1`, `arr[i] < arr[i+1]` holds.\n",
    "- **Constraints**: \n",
    "    - `arr` contains only integers, which may be non-unique\n",
    "    - `-(2^31)-1 <= arr[i] <= (2^31)-1`\n",
    "    - `0 <= n <= 10^7`\n",
    "    - The input collection may be in any order (including already sorted!)"
   ]
  },
  {
   "cell_type": "markdown",
   "id": "a9b246bb",
   "metadata": {},
   "source": [
    "## Analysis\n",
    "For an array of $n$ elements, comparison-based sorting has a runtime lower bound of $O(n \\cdot log(n))$. CLRS gives a proof for this in 8.1, but the general gist of it is:\n",
    "\n",
    "Also:\n",
    "- We cannot be certain any array is completely sorted unless we look at every element at least once. So we will have to look at all $n$ elements.\n",
    "- As we look at each element `arr[i]`, we are going to need to compare it to some other element in the array to determine where `arr[i]` belongs in the sorted order. Some algorithms compare `arr[i]` to _every_ other element in `arr` (doing $n$ comparisons for each of $n$ elements, thus a $O(n^2)$ runtime). Other are cleverer and only do `\n"
   ]
  }
 ],
 "metadata": {
  "kernelspec": {
   "display_name": "Python 3 (ipykernel)",
   "language": "python",
   "name": "python3"
  },
  "language_info": {
   "codemirror_mode": {
    "name": "ipython",
    "version": 3
   },
   "file_extension": ".py",
   "mimetype": "text/x-python",
   "name": "python",
   "nbconvert_exporter": "python",
   "pygments_lexer": "ipython3",
   "version": "3.10.4"
  }
 },
 "nbformat": 4,
 "nbformat_minor": 5
}
