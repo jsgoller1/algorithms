{
 "cells": [
  {
   "cell_type": "markdown",
   "id": "58400cef",
   "metadata": {},
   "source": [
    "- Rule of 72\n",
    "    - https://www.investopedia.com/terms/r/ruleof72.asp\n",
    "- https://en.wikipedia.org/wiki/List_of_humorous_units_of_measurement#Nanocentury\n",
    "- https://en.wikipedia.org/wiki/Little%27s_law\n",
    "- https://en.wikipedia.org/wiki/Significant_figures"
   ]
  }
 ],
 "metadata": {
  "kernelspec": {
   "display_name": "Python 3 (ipykernel)",
   "language": "python",
   "name": "python3"
  },
  "language_info": {
   "codemirror_mode": {
    "name": "ipython",
    "version": 3
   },
   "file_extension": ".py",
   "mimetype": "text/x-python",
   "name": "python",
   "nbconvert_exporter": "python",
   "pygments_lexer": "ipython3",
   "version": "3.10.4"
  }
 },
 "nbformat": 4,
 "nbformat_minor": 5
}
