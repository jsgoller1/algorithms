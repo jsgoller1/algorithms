{
 "cells": [
  {
   "cell_type": "markdown",
   "id": "b9e66946",
   "metadata": {},
   "source": [
    "# Quicksort\n",
    "Quicksort is an in-place, divide-and-conquer sorting algorithm. Bentley devotes almost an entire column to it in _Programming Pearls_, stepping through several versions. Most of this section is just a rehashing of what he presents."
   ]
  },
  {
   "cell_type": "markdown",
   "id": "3473dae5",
   "metadata": {},
   "source": [
    "## Problem statement\n",
    "- **Input**: A collection of `n` integers called `arr`.\n",
    "- **Output**: The same collection of `n` integers, rearranged so that for any `i` such that `0 <= i <= n-1`, `arr[i] < arr[i+1]` holds.\n",
    "- **Constraints**: \n",
    "    - `arr` contains only integers, which may be non-unique\n",
    "    - `-(2^31)-1 <= arr[i] <= (2^31)-1`\n",
    "    - `0 <= n <= 10^7`\n",
    "    - The input collection may be in any order (including already sorted!)"
   ]
  },
  {
   "cell_type": "code",
   "execution_count": 74,
   "id": "e2b43df3",
   "metadata": {},
   "outputs": [],
   "source": [
    "import random\n",
    "import time\n",
    "\n",
    "INT_MAX = (2**31)-1\n",
    "INT_MIN = -(2**31)-1\n",
    "MAX_SIZE = 10**7\n",
    "\n",
    "def is_sorted(arr):\n",
    "    i, j = 0, 1\n",
    "    while j < len(arr):\n",
    "        if arr[i] > arr[j]:\n",
    "            print(f\"Unsorted: {arr[i]} before {arr[j]}\")\n",
    "            return False\n",
    "        i+=1\n",
    "        j+=1\n",
    "    return True\n",
    "    \n",
    "\n",
    "def sort_test(sort_fn, cases=None, use_max_size=True):\n",
    "    if not cases:\n",
    "        cases = {\n",
    "            \"Simple\": [random.randint(-9, 9) for i in range(15)],\n",
    "            \"Typical, no duplicates\": list(set([random.randint(INT_MIN, INT_MAX) for _ in range(1000)])),\n",
    "            \"Typical, with duplicates\": [random.randint(INT_MIN, INT_MAX) for _ in range(100)]*10,\n",
    "            \"Null\": [],         \n",
    "            \"Singleton\": [random.randint(INT_MIN, INT_MAX)],        \n",
    "            \"Even len\": [random.randint(INT_MIN, INT_MAX) for _ in range(10)],\n",
    "            \"Odd len\": [random.randint(INT_MIN, INT_MAX) for _ in range(11)],\n",
    "            \"All equal elements\": [1 for _ in range(1000)]\n",
    "        }\n",
    "        if use_max_size:\n",
    "            cases[\"Max size, duplicates allowed\"] = [random.randint(INT_MIN, INT_MAX) for _ in range(MAX_SIZE)] \n",
    "    for name, case in cases.items():\n",
    "        start = time.time_ns()\n",
    "        sort_fn(case)\n",
    "        end = time.time_ns()\n",
    "        assert is_sorted(case), f\"Failed: {name}\\n {case}\"\n",
    "        print(f\"Pass: {name} ({end-start} ns, n={len(case)}).\")\n",
    "    print(\"All tests pass!\")"
   ]
  },
  {
   "cell_type": "markdown",
   "id": "d129d2ae",
   "metadata": {},
   "source": [
    "## Analysis\n",
    "Quicksort is a comparison-based sort, so its runtime complexity has a lower bound of $n \\cdot log(n)$. "
   ]
  },
  {
   "cell_type": "markdown",
   "id": "2d315bf6",
   "metadata": {},
   "source": [
    "## Version 1 - Recursive, Lomuto partitioning\n",
    "\n",
    "This is the most basic version of quicksort. "
   ]
  },
  {
   "cell_type": "code",
   "execution_count": 75,
   "id": "7b66140a",
   "metadata": {},
   "outputs": [
    {
     "name": "stdout",
     "output_type": "stream",
     "text": [
      "Pass: Simple (19098 ns, n=15).\n",
      "Pass: Typical, no duplicates (1399372 ns, n=1000).\n",
      "Pass: Typical, with duplicates (1317790 ns, n=1000).\n",
      "Pass: Null (901 ns, n=0).\n",
      "Pass: Singleton (867 ns, n=1).\n",
      "Pass: Even len (7397 ns, n=10).\n",
      "Pass: Odd len (6983 ns, n=11).\n",
      "Pass: All equal elements (94377392 ns, n=1000).\n",
      "Pass: Max size, duplicates allowed (47222568069 ns, n=10000000).\n",
      "All tests pass!\n"
     ]
    }
   ],
   "source": [
    "\"\"\"\n",
    "lo := index of first / leftmost element in subarray\n",
    "hi := index of last / rightmost element in subarray\n",
    "mid := index maintaining invariant; at every iteration, \n",
    "       every element left of arr[mid] is less than arr[mid]\n",
    "\"\"\"\n",
    "\n",
    "def quicksort(arr: list[int]):   \n",
    "    def qsort(lo, hi: int):\n",
    "        if lo >= hi:\n",
    "            return\n",
    "        mid = lo\n",
    "        for i in range(lo+1, hi+1):\n",
    "            if arr[i] < arr[lo]:\n",
    "                mid += 1\n",
    "                arr[mid], arr[i] = arr[i], arr[mid]\n",
    "        arr[lo], arr[mid] = arr[mid], arr[lo]\n",
    "        qsort(lo, mid-1)\n",
    "        qsort(mid+1, hi)\n",
    "    qsort(0, len(arr)-1)\n",
    "    return\n",
    "\n",
    "sort_test(quicksort)"
   ]
  },
  {
   "cell_type": "markdown",
   "id": "5ec18af3",
   "metadata": {},
   "source": [
    "## Version 2 - Optimization for duplicate entries (two-sided partitioning)\n",
    "The above quicksort does very poorly on some edgecases, specifically when every element of the input array is equal. Bentley handles this with a different partitioning strategy; whenever we encounter a block of duplicate numbers, the below partitioning strategy \"jumps over them\" via swapping. This will do more swaps than necessary, but sidestep the $O(n^2)$ runtime."
   ]
  },
  {
   "cell_type": "code",
   "execution_count": 76,
   "id": "475aab77",
   "metadata": {},
   "outputs": [
    {
     "name": "stdout",
     "output_type": "stream",
     "text": [
      "Pass: Simple (4378 ns, n=15).\n",
      "Pass: Typical, no duplicates (144239 ns, n=1000).\n",
      "Pass: Typical, with duplicates (121938 ns, n=1000).\n",
      "Pass: Null (866 ns, n=0).\n",
      "Pass: Singleton (547 ns, n=1).\n",
      "Pass: Even len (1136 ns, n=10).\n",
      "Pass: Odd len (1201 ns, n=11).\n",
      "Pass: All equal elements (4247 ns, n=1000).\n",
      "All tests pass!\n"
     ]
    }
   ],
   "source": [
    "\"\"\"\n",
    "lo: leftmost / lowest index of subarray\n",
    "hi: rightmost / highest index of subarray\n",
    "i: left/lower pivot\n",
    "j: right / higher pivot\n",
    "t: target value; \n",
    "\"\"\"\n",
    "\n",
    "def quicksort_two_partitions(arr: list[int]):   \n",
    "    def qsort(lo, hi: int):\n",
    "        \n",
    "        \n",
    "        \n",
    "    qsort(0, len(arr)-1)\n",
    "    return\n",
    "\n",
    "sort_test(quicksort_two_partitions, use_max_size=False)"
   ]
  },
  {
   "cell_type": "markdown",
   "id": "1664ff9a",
   "metadata": {},
   "source": [
    "## Version 3 - Optimization for pre-sorted subarrays (random partition choice)\n",
    "Duplicated array entries isn't the only case of $O(n^2)$ performance. This can also occur when the array is already sorted. "
   ]
  },
  {
   "cell_type": "code",
   "execution_count": null,
   "id": "97e15dd4",
   "metadata": {},
   "outputs": [],
   "source": []
  }
 ],
 "metadata": {
  "kernelspec": {
   "display_name": "Python 3 (ipykernel)",
   "language": "python",
   "name": "python3"
  },
  "language_info": {
   "codemirror_mode": {
    "name": "ipython",
    "version": 3
   },
   "file_extension": ".py",
   "mimetype": "text/x-python",
   "name": "python",
   "nbconvert_exporter": "python",
   "pygments_lexer": "ipython3",
   "version": "3.10.4"
  }
 },
 "nbformat": 4,
 "nbformat_minor": 5
}
