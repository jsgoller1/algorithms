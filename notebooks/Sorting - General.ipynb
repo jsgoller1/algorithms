{
 "cells": [
  {
   "cell_type": "markdown",
   "id": "7bc9f383",
   "metadata": {},
   "source": [
    "# Sorting\n",
    "Sorting is a classical problem in computer science. Algorithms that solve this problem by comparing elements of `arr` to each other are called **comparison sorts**."
   ]
  },
  {
   "cell_type": "markdown",
   "id": "72632d61",
   "metadata": {},
   "source": [
    "## Problem statement\n",
    "- **Input**: A collection of `n` integers called `arr`.\n",
    "- **Output**: The same collection of `n` integers, rearranged so that for any `i` such that `0 <= i <= n-1`, `arr[i] < arr[i+1]` holds.\n",
    "- **Constraints**: \n",
    "    - `arr` contains only integers, which may be non-unique\n",
    "    - `-(2^31)-1 <= arr[i] <= (2^31)-1`\n",
    "    - `0 <= n <= 10^7`\n",
    "    - The input collection may be in any order (including already sorted!)"
   ]
  },
  {
   "cell_type": "markdown",
   "id": "a9b246bb",
   "metadata": {},
   "source": [
    "## Analysis\n",
    "For an array of $n$ elements, comparison-based sorting has a runtime lower bound of $O(n \\cdot log(n))$. CLRS gives a proof for this in 8.1. Also:\n",
    "- We cannot be certain any array is completely sorted unless we look at every element at least once. So we will have to look at all $n$ elements.\n",
    "- As we look at each element `arr[i]`, we are going to need to compare it to some other element in the array to determine where `arr[i]` belongs in the sorted order. Some algorithms compare `arr[i]` to _every_ other element in `arr` (doing $n$ comparisons for each of $n$ elements, thus a $O(n^2)$ runtime). Other are cleverer and do less work.\n"
   ]
  },
  {
   "cell_type": "markdown",
   "id": "matched-collective",
   "metadata": {},
   "source": [
    "## Test harness"
   ]
  },
  {
   "cell_type": "code",
   "execution_count": 14,
   "id": "lesser-weekend",
   "metadata": {},
   "outputs": [],
   "source": [
    "import random\n",
    "\n",
    "def sorting_test(sorting_fn, test_count=100, min_arr_size=0, max_arr_size=100):\n",
    "    def test(arr, case_name):\n",
    "        expected = sorted(arr)\n",
    "        actual = sorting_fn(arr)\n",
    "        assert actual == expected, f\"sorting failure: {case_name}!\\n\\nArr: {arr}\\n\\nExpected: {expected}\\n\\nActual: {actual}\"\n",
    "    \n",
    "    # Edge cases\n",
    "    test([], 'empty case')\n",
    "    test([1], 'singleton case')\n",
    "    test([1, 2], 'two-element case')\n",
    "    test([i for i in range(100)], 'pre-sorted case')\n",
    "    \n",
    "    # Average cases\n",
    "    for _ in range(test_count):\n",
    "        arr = [randint(-1000, 1000) for _ in range(random.randint(min_arr_size, max_arr_size))]\n",
    "        test(arr, 'average case (randomly generated)')\n"
   ]
  },
  {
   "cell_type": "markdown",
   "id": "brazilian-worthy",
   "metadata": {},
   "source": [
    "## $O(n^2)$ average time comparison sorts\n",
    "\n",
    "Most of these algorithms are done in place; however the implementations below return a sorted copy of the given list."
   ]
  },
  {
   "cell_type": "markdown",
   "id": "brutal-floating",
   "metadata": {},
   "source": [
    "### bubblesort\n",
    "\n",
    "Bubblesort is a straightforward algorithm that works by making multiple passes over the array and swapping elements to the right when they're out of order, effectively \"bubbling the largest elements up.\""
   ]
  },
  {
   "cell_type": "code",
   "execution_count": 19,
   "id": "younger-export",
   "metadata": {},
   "outputs": [],
   "source": [
    "def bubble_sort(arr):\n",
    "    arr = [val for val in arr]\n",
    "    \n",
    "    for end in range(len(arr), 0, -1):\n",
    "        for j in range(1,end):\n",
    "            i = j-1\n",
    "            if arr[i] > arr[j]:\n",
    "                arr[i], arr[j] = arr[j], arr[i]\n",
    "    return arr\n",
    "\n",
    "sorting_test(bubble_sort)"
   ]
  },
  {
   "cell_type": "markdown",
   "id": "parental-honduras",
   "metadata": {},
   "source": [
    "### insertion sort\n",
    "\n",
    "Insertion sort partitions the array into a sorted half on the left and unsorted half on the right by repeatedly inserting elements from the right into the correctly sorted position on the left until the entire array is sorted. "
   ]
  },
  {
   "cell_type": "code",
   "execution_count": 34,
   "id": "posted-worry",
   "metadata": {},
   "outputs": [],
   "source": [
    "def insertion_sort(arr):\n",
    "    if not arr:\n",
    "        return []\n",
    "    arr = arr.copy()\n",
    "    \n",
    "    for i in range(1, len(arr)):\n",
    "        key = arr[i]\n",
    "        j = i - 1\n",
    "        while key < arr[j] and 0 <= j:\n",
    "            arr[j+1] = arr[j]\n",
    "            j-=1\n",
    "        arr[j+1] = key\n",
    "    return arr\n",
    "    \n",
    "sorting_test(insertion_sort)"
   ]
  },
  {
   "cell_type": "markdown",
   "id": "decimal-mayor",
   "metadata": {},
   "source": [
    "## $O(n\\cdot log(n))$ average time"
   ]
  },
  {
   "cell_type": "markdown",
   "id": "constitutional-declaration",
   "metadata": {},
   "source": [
    "### mergesort\n",
    "\n",
    "Mergesort is a divide-and-conquer algorithm that splits the given array into smaller and smaller subarrays until there is only one element left per array. It then merges them into sorted order."
   ]
  },
  {
   "cell_type": "code",
   "execution_count": 41,
   "id": "harmful-lightning",
   "metadata": {},
   "outputs": [],
   "source": [
    "def merge(arr1, arr2):\n",
    "    merged = []\n",
    "    i = j = 0\n",
    "    while i < len(arr1) and j < len(arr2):\n",
    "        if arr1[i] <= arr2[j]:\n",
    "            merged.append(arr1[i])\n",
    "            i+=1\n",
    "        else:\n",
    "            merged.append(arr2[j])\n",
    "            j+=1\n",
    "    merged.extend(arr1[i:])\n",
    "    merged.extend(arr2[j:])\n",
    "    return merged\n",
    "\n",
    "def mergesort(arr):\n",
    "    if len(arr) <= 1:\n",
    "        return arr\n",
    "    left = mergesort(arr[:len(arr)//2])\n",
    "    right = mergesort(arr[len(arr)//2:])\n",
    "    return merge(left, right)\n",
    "    \n",
    "sorting_test(mergesort)"
   ]
  },
  {
   "cell_type": "markdown",
   "id": "virgin-dublin",
   "metadata": {},
   "source": [
    "### tree sort\n",
    "\n",
    "A tree sort takes every element of an array and inserts it into a binary search tree, then in-order walks the tree to get get the sorted ordering. "
   ]
  },
  {
   "cell_type": "code",
   "execution_count": 48,
   "id": "residential-crowd",
   "metadata": {},
   "outputs": [],
   "source": [
    "class BSTNode:\n",
    "    def __init__(self, val, left=None, right=None):\n",
    "        self.val = val\n",
    "        self.right = right\n",
    "        self.left = left \n",
    "    \n",
    "    def insert(self, val):\n",
    "        if val <= self.val:\n",
    "            if self.left:\n",
    "                self.left.insert(val)\n",
    "            else:\n",
    "                self.left = BSTNode(val)\n",
    "        else:\n",
    "            if self.right:\n",
    "                self.right.insert(val)\n",
    "            else:\n",
    "                self.right = BSTNode(val)\n",
    "    \n",
    "    def inorder_walk(self, traversal_arr):            \n",
    "        if self.left:\n",
    "            self.left.inorder_walk(traversal_arr)\n",
    "        \n",
    "        traversal_arr.append(self.val)\n",
    "        \n",
    "        if self.right:\n",
    "            self.right.inorder_walk(traversal_arr)\n",
    "                \n",
    "    \n",
    "\n",
    "def tree_sort(arr):\n",
    "    if not arr:\n",
    "        return arr\n",
    "    root = BSTNode(arr[0])\n",
    "    for val in arr[1:]:\n",
    "        root.insert(val)\n",
    "    traversal = []\n",
    "    root.inorder_walk(traversal)\n",
    "    return traversal\n",
    "\n",
    "sorting_test(tree_sort)"
   ]
  },
  {
   "cell_type": "markdown",
   "id": "systematic-sustainability",
   "metadata": {},
   "source": [
    "### heapsort\n",
    "A heap sort inserts every element into a min-heap and extracts them all one-by-one to get the sorted ordering. "
   ]
  },
  {
   "cell_type": "code",
   "execution_count": 43,
   "id": "original-vitamin",
   "metadata": {},
   "outputs": [],
   "source": [
    "from heapq import heappush, heappop\n",
    "\n",
    "def heapsort(arr):\n",
    "    heap = []\n",
    "    for val in arr:\n",
    "        heappush(heap, val)\n",
    "    return [heappop(heap) for _ in range(len(heap))]\n",
    "\n",
    "sorting_test(mergesort)"
   ]
  },
  {
   "cell_type": "code",
   "execution_count": null,
   "id": "educated-italic",
   "metadata": {},
   "outputs": [],
   "source": []
  }
 ],
 "metadata": {
  "kernelspec": {
   "display_name": "Python 3",
   "language": "python",
   "name": "python3"
  },
  "language_info": {
   "codemirror_mode": {
    "name": "ipython",
    "version": 3
   },
   "file_extension": ".py",
   "mimetype": "text/x-python",
   "name": "python",
   "nbconvert_exporter": "python",
   "pygments_lexer": "ipython3",
   "version": "3.9.16"
  }
 },
 "nbformat": 4,
 "nbformat_minor": 5
}
