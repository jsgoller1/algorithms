{
 "cells": [
  {
   "cell_type": "markdown",
   "metadata": {},
   "source": [
    "# Technique - Stacks \n"
   ]
  },
  {
   "cell_type": "markdown",
   "metadata": {},
   "source": [
    "- Can we use recursion any time we use stacks?\n",
    "- Can we use stacks to preserve ordering?"
   ]
  },
  {
   "cell_type": "markdown",
   "metadata": {},
   "source": [
    "## [Daily Temperatures](https://leetcode.com/problems/daily-temperatures/)"
   ]
  },
  {
   "cell_type": "code",
   "execution_count": 9,
   "metadata": {},
   "outputs": [],
   "source": [
    "from typing import List\n",
    "\n",
    "class Solution:\n",
    "    def dailyTemperatures(self, T: List[int]) -> List[int]:\n",
    "        solution = []\n",
    "        stack = []\n",
    "        for i in range(len(T)-1, -1, -1):\n",
    "            curr_temp = T[i]\n",
    "            while stack and stack[-1][0] <= curr_temp: stack.pop()\n",
    "            solution.append(0 if not stack else stack[-1][1]-i)\n",
    "            stack.append((curr_temp,i))\n",
    "        return solution[::-1]\n",
    "\n",
    "s = Solution()\n",
    "cases = [\n",
    "    ([73, 74, 75, 71, 69, 72, 76, 73], [1, 1, 4, 2, 1, 1, 0, 0]),\n",
    "    ([89,62,70,58,47,47,46,76,100,70], [8,1,5,4,3,2,1,1,0,0])\n",
    "]\n",
    "for temps, expected in cases:\n",
    "    actual = s.dailyTemperatures(temps)\n",
    "    assert actual == expected, f\"{temps}: {expected} != {actual}\""
   ]
  },
  {
   "cell_type": "markdown",
   "metadata": {},
   "source": [
    "## [Basic Calculator](https://leetcode.com/problems/basic-calculator/)"
   ]
  }
 ],
 "metadata": {
  "kernelspec": {
   "display_name": "Python 3",
   "language": "python",
   "name": "python3"
  },
  "language_info": {
   "codemirror_mode": {
    "name": "ipython",
    "version": 3
   },
   "file_extension": ".py",
   "mimetype": "text/x-python",
   "name": "python",
   "nbconvert_exporter": "python",
   "pygments_lexer": "ipython3",
   "version": "3.8.5"
  }
 },
 "nbformat": 4,
 "nbformat_minor": 4
}
