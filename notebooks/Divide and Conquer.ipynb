{
 "cells": [
  {
   "cell_type": "markdown",
   "metadata": {},
   "source": [
    "# Divide and Conquer\n",
    "\n",
    "- **Divide** into number of subproblems that are smaller instances of same problem\n",
    "- **Conquer** subproblems by solving them recursively; if they're small enough, they can be solved straightforwardly.\n",
    "- **Combine** solutions to solve original problem"
   ]
  },
  {
   "cell_type": "markdown",
   "metadata": {},
   "source": [
    "## Example: Mergesort\n",
    "\n",
    "Mergesort is the classical example of a divide and conquer algorithm. We divide a non-empty array into subarrays to sort; a single element array is considered sorted. Then we do a linear-time merging operation to put them into sorted order."
   ]
  },
  {
   "cell_type": "code",
   "execution_count": 1,
   "metadata": {},
   "outputs": [],
   "source": [
    "from copy import deepcopy\n",
    "from random import randint\n",
    "\n",
    "def merge(arr1, arr2):\n",
    "    merged = []\n",
    "    i = j = 0\n",
    "\n",
    "    while i < len(arr1) and j < len(arr2):\n",
    "        if arr1[i] <= arr2[j]:\n",
    "            merged.append(arr1[i])\n",
    "            i += 1\n",
    "        else:\n",
    "            merged.append(arr2[j])\n",
    "            j += 1\n",
    "    return merged + arr1[i:] + arr2[j:]\n",
    "        \n",
    "def mergesort(arr, lo, hi):\n",
    "    if lo == hi:\n",
    "        return [arr[lo]]\n",
    "    \n",
    "    mid = (hi+lo)//2\n",
    "    arr1 = mergesort(arr,lo,mid)\n",
    "    arr2 = mergesort(arr,mid+1,hi)\n",
    "    return merge(arr1, arr2)\n",
    "    \n",
    "\n",
    "for test_len in [1,100,101]:\n",
    "    unsorted_arr = [randint(-1000,1000) for i in range(test_len)]\n",
    "    unsorted_copy = deepcopy(unsorted_arr)\n",
    "    assert sorted(unsorted_copy) == mergesort(unsorted_arr, 0, len(unsorted_arr)-1)\n"
   ]
  },
  {
   "cell_type": "markdown",
   "metadata": {},
   "source": [
    "## [53. Maximum Subarray](https://leetcode.com/problems/maximum-subarray/) / [121. Best Time to Buy and Sell Stock](https://leetcode.com/problems/best-time-to-buy-and-sell-stock/)\n",
    "\n",
    "\"Best Time to Buy and Sell Stock\" becomes the Maximum Subarray problem when considering the array of daily changes in the stock price. The following implementation comes from CLRS 3rd ed. (p 71 and 73). Since the maximum subarray for any array is either found entirely left of mid, entirely right of mid, or crossing the mid, we do the following:\n",
    "\n",
    "- **Divide** - Examine three subarrays of the current array: the left from the mid, right from the mid, and crossing mid.\n",
    "- **Conquer** - Recurse into left and right until we hit the base case. Use a special O(n) procedure for calculating the sum of the crossing subarray.\n",
    "- **Combine** - Since each recursive step returns the sum and indices for the max subarray, pick whichever one is the greatest. \n",
    "\n",
    "```\n",
    "crossing_mid_procedure(arr, lo, mid, hi):\n",
    "   starting at mid and going to lo:\n",
    "     find biggest left subarr using running sum and its index\n",
    "   starting at mid+1 and going to hi:\n",
    "      find biggest right subarr using running sum and its index\n",
    "   return index for biggest left, index for biggest right, and their combined sums\n",
    "\n",
    "max_subarr(arr, lo, hi):\n",
    "   // Base case\n",
    "   if only one element in arr:\n",
    "      return (lo, hi, val of the element)\n",
    "   \n",
    "   // Recursion\n",
    "   get indices/amount of biggest subarr in bottom half \n",
    "   get indices/amount of biggest subarr in top half\n",
    "   get indices/amount of biggest subarr crossing mid using above procedure\n",
    "   \n",
    "   return indices/amount of biggest of three above subarrs\n",
    "```"
   ]
  },
  {
   "cell_type": "code",
   "execution_count": 2,
   "metadata": {},
   "outputs": [],
   "source": [
    "%run ../leetcode/53-maximum-subarray/solution-div-and-conq.py"
   ]
  },
  {
   "cell_type": "markdown",
   "metadata": {},
   "source": [
    "## [169. Majority Element](https://leetcode.com/problems/majority-element/)\n",
    "\n",
    "This problem can be trivially solved in O(N) time and space by just counting the elements:\n",
    "```python\n",
    "from collections import Counter\n",
    "\n",
    "def majorityElement(nums: List[int]) -> int:\n",
    "    return Counter(nums).most_common(1)[0][0]\n",
    "```\n",
    "\n",
    "A divide-and-conquer approach will potentially take O(nlogn) time and space; it's not the optimal solution, but this problem is good practice for the technique anyways:\n",
    "- **Divide** the array\n",
    "- **Conquer** subdivided elements in a straightforward manner; if len(arr) == 1, then the single element is the majority.\n",
    "- **Combine** the results - at each combine step, we can do a linear time operation since we will do at most log(n) combinations; in this case, we can just do the linear time counting to determine which element is the maximum for that subarray."
   ]
  },
  {
   "cell_type": "code",
   "execution_count": 3,
   "metadata": {},
   "outputs": [],
   "source": [
    "%run ../leetcode/169-majority-element/solution.py"
   ]
  },
  {
   "cell_type": "markdown",
   "metadata": {},
   "source": [
    "## [241. Different Ways to Add Parentheses](https://leetcode.com/problems/different-ways-to-add-parentheses/)\n",
    "\n",
    "In: string representing arithmetic expression (+,-,* only)\n",
    "Out: list of int values that can result when fully parenthesized \n",
    "\n",
    "Constraints: Not provided, other than operators \n",
    "\n",
    "Divide:\n",
    "Conquer (base case): single operator and 2 ints\n",
    "Linear combine: can evaluate an entire arithmetic expression\n",
    "\n",
    "\"2-1-1\"\n",
    "((2-1)-1) = 0 \n",
    "(2-(1-1)) = 2\n",
    "\n",
    "For n operators, there are n! orderings. Do we need to evaluate them all? Looks like it. \n",
    "\n",
    "- **Divide** - each possible operator can be split on\n",
    "- **Conquer** - compute each single operator / two operand expression\n",
    "- **Combine** - combine results "
   ]
  },
  {
   "cell_type": "code",
   "execution_count": 4,
   "metadata": {},
   "outputs": [],
   "source": [
    "%run ../leetcode/241-number-of-ways-to-add-parentheses/solution.2.py"
   ]
  },
  {
   "cell_type": "markdown",
   "metadata": {},
   "source": [
    "## [240. Search a 2D Matrix II](https://leetcode.com/problems/search-a-2d-matrix-ii/)\n",
    "\n",
    "This problem is obviously an ideal case for binary search, but it can also be solved via divide and conquer too. We can have two possible `O(1)` base cases:\n",
    "- In a 1x1 matrix, either the element matches the target or not.\n",
    "- if an nxm matrix, `matrix[0][0] <= target <= matrix[n-1][m-1]` must hold or the target isn't in the matrix.\n",
    "\n",
    "So armed with that, we can apply the following:\n",
    "```\n",
    "search_matrix(matrix, target, top_left, bottom_right):\n",
    "  if top_left == bottom_right:\n",
    "      return true if the element matches the target\n",
    "  if not matrix[top_left] <= target <= matrix[bottom_right]:\n",
    "      return false \n",
    "  otherwise:\n",
    "    top_left = search_matrix(matrix, target, top_left_subquadrant)\n",
    "    top_right = search_matrix(matrix, target, top_right_subquadrant)\n",
    "    bot_left = search_matrix(matrix, target, bottom_left_subquadrant)\n",
    "    bot_right = search_matrix(matrix, target, bottom_right_subquadrant)\n",
    "    return top_left or top_right or bot_left or bot_right\n",
    "```\n",
    "\n",
    "### Recursively subdividing arrays considered harmful (or at least tricky)\n",
    "In this approach, we risk `IndexError` in our subdivision - if we have a submatrix where x and y are equal and on the boundary, e.g. `(4,1), (4,2)`, then `mid = (max_y+min_y//2)+1` will be out of bounds. However, the correct way to subdivide `(4,1), (4,2)` is into two single element submatrixes containing only those points, so we can just use `min(mid, len(matrix[0])-1)`"
   ]
  },
  {
   "cell_type": "code",
   "execution_count": 5,
   "metadata": {},
   "outputs": [],
   "source": [
    "%run ../leetcode/240-search-a-2d-matrix-ii/solution-div-and-conq.py"
   ]
  }
 ],
 "metadata": {
  "kernelspec": {
   "display_name": "Python 3",
   "language": "python",
   "name": "python3"
  },
  "language_info": {
   "codemirror_mode": {
    "name": "ipython",
    "version": 3
   },
   "file_extension": ".py",
   "mimetype": "text/x-python",
   "name": "python",
   "nbconvert_exporter": "python",
   "pygments_lexer": "ipython3",
   "version": "3.8.5"
  }
 },
 "nbformat": 4,
 "nbformat_minor": 4
}
