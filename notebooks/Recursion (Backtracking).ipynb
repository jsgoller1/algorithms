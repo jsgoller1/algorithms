{
 "cells": [
  {
   "cell_type": "markdown",
   "metadata": {},
   "source": [
    "# Recursion (Backtracking)"
   ]
  },
  {
   "cell_type": "markdown",
   "metadata": {},
   "source": [
    "## [698. Partition to K Equal Sum Subsets](https://leetcode.com/problems/partition-to-k-equal-sum-subsets/)\n",
    "\n",
    "(Original solution [here](https://leetcode.com/problems/partition-to-k-equal-sum-subsets/discuss/146579/Easy-python-28-ms-beats-99.5))\n",
    "\n",
    "Each subset must be equal to `sum(nums)/k`, and there is only a solution if `sum(nums) % k == 0`. To start, we sort the numbers into descending order. \n",
    "\n"
   ]
  },
  {
   "cell_type": "code",
   "execution_count": 1,
   "metadata": {},
   "outputs": [],
   "source": [
    "class Solution(object):\n",
    "    def canPartitionKSubsets(self, nums, k):\n",
    "        nums.sort(reverse=True) \n",
    "        buck, kSum = [0] * k, sum(nums) // k\n",
    "        \n",
    "        def dfs(idx):\n",
    "            if idx == len(nums): \n",
    "                return len(set(buck)) == 1 # every bucket sums to target\n",
    "            for i in range(k):\n",
    "                buck[i] += nums[idx]\n",
    "                if buck[i] <= kSum and dfs(idx + 1): \n",
    "                    return True\n",
    "                buck[i] -= nums[idx]\n",
    "                if buck[i] == 0: \n",
    "                    break\n",
    "            return False\n",
    "        return dfs(0)\n",
    "\n",
    "    \n",
    "# Annotated and slower-but-clearer version of @jingkuan's solution based on @chemikadze's\n",
    "# solution using @chengyuge925's solution.\n",
    "class Solution:\n",
    "    def canPartitionKSubsets(self, nums, k):\n",
    "        buckets = [0]*k\n",
    "        target = sum(nums) // k\n",
    "\n",
    "        # We want to try placing larger numbers first\n",
    "        nums.sort(reverse=True)\n",
    "\n",
    "\n",
    "        # DFS determines which bucket to put the 'current element' (nums[idx] ) into\n",
    "        def dfs(idx):\n",
    "            # If we've placed all of the items, we're done;\n",
    "            # check if we correctly made k equal subsets of \n",
    "            # size sum(nums) // k\n",
    "            if idx == len(nums):\n",
    "                return set(buckets) == set([target])\n",
    "\n",
    "            # For each bucket\n",
    "            for i in range(k):\n",
    "                # Try adding the current element to it\n",
    "                buckets[i] += nums[idx]\n",
    "\n",
    "                # If it's a valid placement and we correctly placed the next element, we're\n",
    "                # done placing the current element.\n",
    "                if buckets[i] <= target and dfs(idx + 1):\n",
    "                    return True\n",
    "\n",
    "                # Otherwise, remove the current element from the ith bucket and \n",
    "                # try the next one. \n",
    "                buckets[i] -= nums[idx]\n",
    "\n",
    "                # This is an optimization that is not strictly necessary. \n",
    "                # If bucket[i] == 0, it means:\n",
    "                #   - We put nums[idx] into an empty bucket\n",
    "                #   - We tried placing every other element after and failed.\n",
    "                #   - We took nums[idx] out of the bucket, making it empty again. \n",
    "                # So trying to put nums[idx] into a _different_ empty bucket will not produce\n",
    "                # a correct solution; we will just waste time (we place elements left to right,\n",
    "                # so if this bucket is now empty, every one after it is too).\n",
    "                #\n",
    "                # Otherwise (bucket[i] > 0), we just go to the next bucket and \n",
    "                # try placing nums[idx] there. If none of them work out, we wind up\n",
    "                # breaking out of the loop when range(k) ends and returning False. \n",
    "                if buckets[i] == 0:\n",
    "                    break\n",
    "\n",
    "            # We couldn't place the current element anywhere that \n",
    "            # leads to a valid solution, so we will need to backtrack\n",
    "            # and try something else. \n",
    "            return False\n",
    "\n",
    "        # Start by trying to place nums[0]\n",
    "        return dfs(0)"
   ]
  }
 ],
 "metadata": {
  "kernelspec": {
   "display_name": "Python 3",
   "language": "python",
   "name": "python3"
  },
  "language_info": {
   "codemirror_mode": {
    "name": "ipython",
    "version": 3
   },
   "file_extension": ".py",
   "mimetype": "text/x-python",
   "name": "python",
   "nbconvert_exporter": "python",
   "pygments_lexer": "ipython3",
   "version": "3.8.5"
  }
 },
 "nbformat": 4,
 "nbformat_minor": 4
}
