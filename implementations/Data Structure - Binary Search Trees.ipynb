{
 "cells": [
  {
   "cell_type": "markdown",
   "metadata": {},
   "source": [
    "# Binary Search Trees"
   ]
  },
  {
   "cell_type": "markdown",
   "metadata": {},
   "source": [
    "## Trees\n",
    "\n",
    "A tree is a graph data structure containing no cycles:\n",
    "- Each node has zero to many outgoing edges to other nodes (called **children**)\n",
    "- Each node has at most one incoming edge from another node (called the **parent**). \n",
    "- The tree should have only one node with no parent, called the **root**. \n",
    "- A graph may be able to be re-arranged into different trees, depending on its structure. \n",
    "\n",
    "Trees have a **height**, which is the longest possible distance from the root to a leaf node:\n",
    "- An empty tree has height -1\n",
    "- A single node tree has height 0. \n",
    "\n",
    "The following trees have height 0, 1, and 2 respectively:\n",
    "```\n",
    "   0\n",
    "\n",
    "   1 \n",
    "  / \\\n",
    " 3   4 \n",
    "\n",
    "     0\n",
    "    / \\\n",
    "   1   2\n",
    "  /   / \n",
    " 3   5   \n",
    "```"
   ]
  },
  {
   "cell_type": "markdown",
   "metadata": {},
   "source": [
    "## Binary Trees\n",
    "\n",
    "**m-ary** trees are trees where no node has more than m children. The most common case of this in CS are **binary trees**, where m=2. The above trees are binary trees (each node has at most 2 children) and both have height 2. A binary tree is **full** or **complete** if all non-leaf nodes have 2 children, and no leaf nodes exist on a higher level than the height of the tree (except if there are insufficent nodes) the leftmost nodes would be filled first):\n",
    "```\n",
    "      0\n",
    "    /   \\\n",
    "   1     2\n",
    "  / \\   / \\\n",
    " 3   4 5   6\n",
    "```\n",
    "\n",
    "- A binary tree with height `h` has between (2^h)+1 and 2^(h+1)-1 nodes.\n",
    "\n",
    "Binary trees are typically be constructed either with custom types for nodes or as an array (though there are many other representations). For example, we can represent the above tree using a custom types:"
   ]
  },
  {
   "cell_type": "code",
   "execution_count": 1,
   "metadata": {},
   "outputs": [],
   "source": [
    "class TreeNode:\n",
    "    def __init__(self, val=None, parent=None, left=None, right=None):\n",
    "        self.val = val\n",
    "        self.left = left\n",
    "        self.right = right\n",
    "        self.parent = parent # Some BSTs use nodes without references to parents\n",
    "\n",
    "        \n",
    "tree_dict = {val: TreeNode(val) for val in range(7)}\n",
    "tree_dict[0].left = tree_dict[1]\n",
    "tree_dict[0].right = tree_dict[2]\n",
    "tree_dict[1].left = tree_dict[3]\n",
    "tree_dict[1].right = tree_dict[4]\n",
    "tree_dict[1].parent = tree_dict[0]\n",
    "tree_dict[2].left = tree_dict[5]\n",
    "tree_dict[2].right = tree_dict[6]\n",
    "tree_dict[2].parent = tree_dict[0]\n",
    "tree_dict[3].parent = tree_dict[1]\n",
    "tree_dict[4].parent = tree_dict[1]\n",
    "tree_dict[5].parent = tree_dict[2]\n",
    "tree_dict[6].parent = tree_dict[2]\n",
    "root = tree_dict[0]"
   ]
  },
  {
   "cell_type": "markdown",
   "metadata": {},
   "source": [
    "Or we can use an array; when representing a tree with an array, the root is put at index 0. The left and right child of a node at index i are 2i+1 and 2i+2. This format can be more compact and easy to work with:"
   ]
  },
  {
   "cell_type": "code",
   "execution_count": 2,
   "metadata": {},
   "outputs": [],
   "source": [
    "tree_as_arr = [0,1,2,3,4,5,6]"
   ]
  },
  {
   "cell_type": "markdown",
   "metadata": {},
   "source": [
    "## Binary search trees\n",
    "\n",
    "A **binary search tree (BST)** is a special case of a binary tree, where for each node the binary search property holds for the node and its children (if any): `left.val <= val <= right.val`. BSTs may or may not contain nodes with duplicate values. These are binary search trees:\n",
    "```\n",
    "   1      2       3\n",
    "  / \\      \\\n",
    " 0   4      5\n",
    "```\n",
    "and these are binary trees that are not BSTs:\n",
    "```\n",
    "   1      2       \n",
    "  / \\      \\\n",
    " 3   -1      1\n",
    "```"
   ]
  },
  {
   "cell_type": "markdown",
   "metadata": {},
   "source": [
    "#### Exercise (CLRS 12.1-2)\n",
    "What is the difference between the binary-search-tree property and the min-heap property (see page 153)?  Can the min-heap property be used to print out the keys of an n-node tree in sorted order in O(n) time? Show how, or explain why not,\n",
    "\n",
    "**Solution**\n",
    "\n",
    "The min-heap property is a looser constraint in that for some node `v` with children `v_l` and `v_r`, `v.value <= v_l.value` and `v.value <= v_r.value`. Because of this, we know that parents and children have an ordered relationship, but left children and right children do not, unlike with a BST. A valid minheap can have multiple possible in-order traversals, whereas  As such, we'd need to do additional work to get a sorted ordering - the typical way with a minheap would be to continuously remove the minimum element. "
   ]
  },
  {
   "cell_type": "markdown",
   "metadata": {},
   "source": [
    "## Operations"
   ]
  },
  {
   "cell_type": "markdown",
   "metadata": {},
   "source": [
    "The most common operations on binary trees and BSTs are:\n",
    "- Traversal\n",
    "- Searching (for a value, minimum, maximum, successor, or predecessor)\n",
    "- Insertion\n",
    "- Deletion\n",
    "- Verification"
   ]
  },
  {
   "cell_type": "markdown",
   "metadata": {},
   "source": [
    "### Traversal"
   ]
  },
  {
   "cell_type": "markdown",
   "metadata": {},
   "source": [
    "Tree traversal refers to visiting every node in the tree and processing its data. Depending on the goal of the traversal, \"processing\" can mean almost anything - the most basic example is just printing the value of the node. \n",
    "\n",
    "**Running time**: `O(n)` for `n` nodes in the tree; we must visit every node in the tree.\n",
    "\n",
    "Traversing the tree creates an ordering of its nodes; there are several possible orderings.\n",
    "- **Pre-order**: Process the current node, visit the left child, visit the right child.\n",
    "- **In-order**: Visit the left child, process the current node, visit the right child.\n",
    "- **Post-order**: Visit the left child, visit the right child, process the current node.\n",
    "- **Level-order**: All nodes at the given level are visited before any of their children.\n",
    "\n",
    "> The trace of a traversal is called a sequentialisation of the tree. The traversal trace is a list of each visited root. No one sequentialisation according to pre-, in- or post-order describes the underlying tree uniquely. Given a tree with distinct elements, either pre-order or post-order paired with in-order is sufficient to describe the tree uniquely. ([Wikipedia](https://en.wikipedia.org/wiki/Tree_traversal#In-order_(LNR)))\n",
    "\n",
    "Note that pre/in/post order traversals can be used to implement depth first searches, while level-order traversals can be used to implement breadth first searches. Orderings may be reversed by visiting the right child before the left. Depth-first traversals can be implemented iteratively using a stack or recursively (implicitly using the call stack):"
   ]
  },
  {
   "cell_type": "code",
   "execution_count": 3,
   "metadata": {},
   "outputs": [
    {
     "name": "stdout",
     "output_type": "stream",
     "text": [
      "0 1 3 4 2 5 6 \n",
      "--------------\n",
      "0 1 3 4 2 5 6 "
     ]
    }
   ],
   "source": [
    "from typing import List\n",
    "\"\"\"\n",
    "      0\n",
    "    /    \\\n",
    "   1      2\n",
    "  / \\    / \\ \n",
    " 3   4  5   6 \n",
    "\"\"\"\n",
    "\n",
    "def pre_order_recursive(node: TreeNode):\n",
    "    if not node:\n",
    "        return\n",
    "    print(node.val, end =\" \")\n",
    "    pre_order_recursive(node.left) if node.left else None\n",
    "    pre_order_recursive(node.right) if node.right else None\n",
    "pre_order_recursive(root)\n",
    "\n",
    "print(\"\\n\"+(\"-\"*14))\n",
    "\n",
    "def pre_order_recursive(tree: List[int], i: int):\n",
    "    if not (0 <= i <=len(tree)-1):\n",
    "        return\n",
    "    print(tree[i], end =\" \")\n",
    "    pre_order_recursive(tree, 2*i+1) if 2*i+1 < len(tree) else None\n",
    "    pre_order_recursive(tree, 2*i+2) if 2*i+2 < len(tree)  else None\n",
    "pre_order_recursive(tree_as_arr, 0)"
   ]
  },
  {
   "cell_type": "code",
   "execution_count": 4,
   "metadata": {},
   "outputs": [
    {
     "name": "stdout",
     "output_type": "stream",
     "text": [
      "0 1 3 4 2 5 6 \n",
      "--------------\n",
      "0 1 3 4 2 5 6 "
     ]
    }
   ],
   "source": [
    "def pre_order_iterative(node: TreeNode):\n",
    "    stack = [node]\n",
    "    while stack:\n",
    "        curr = stack.pop()\n",
    "        print(curr.val, end =\" \")\n",
    "        # Note that right is pushed first when using a stack explicitly,\n",
    "        # causing it to be evaluated after left.\n",
    "        stack.append(curr.right) if curr.right else None \n",
    "        stack.append(curr.left) if curr.left else None\n",
    "pre_order_iterative(root)\n",
    "\n",
    "print(\"\\n\"+(\"-\"*14))\n",
    "\n",
    "def pre_order_iterative(tree: List[int]):\n",
    "    if not tree:\n",
    "        return\n",
    "    stack = [0]\n",
    "    while stack:\n",
    "        i = stack.pop()\n",
    "        print(i, end =\" \")\n",
    "        stack.append(2*i+2) if 2*i+2 < len(tree) else None \n",
    "        stack.append(2*i+1) if 2*i+1 < len(tree)  else None\n",
    "pre_order_iterative(tree_as_arr)"
   ]
  },
  {
   "cell_type": "markdown",
   "metadata": {},
   "source": [
    "Note that in the above, we can easily change from pre- to in- or post- order by simply reordering the calls to \n",
    "`print()` and visitng the children."
   ]
  },
  {
   "cell_type": "code",
   "execution_count": 5,
   "metadata": {},
   "outputs": [
    {
     "name": "stdout",
     "output_type": "stream",
     "text": [
      "3 1 4 0 5 2 6 "
     ]
    }
   ],
   "source": [
    "def in_order_recursive(node: TreeNode):\n",
    "    if not node:\n",
    "        return\n",
    "    in_order_recursive(node.left) if node.left else None\n",
    "    print(node.val, end =\" \")\n",
    "    in_order_recursive(node.right) if node.right else None\n",
    "in_order_recursive(root)"
   ]
  },
  {
   "cell_type": "markdown",
   "metadata": {},
   "source": [
    "Level order traversal is implemented iteratively, but using a queue (most easily via `collections.deque()` in Python):"
   ]
  },
  {
   "cell_type": "code",
   "execution_count": 6,
   "metadata": {},
   "outputs": [
    {
     "name": "stdout",
     "output_type": "stream",
     "text": [
      "0 1 2 3 4 5 6 \n",
      "--------------\n",
      "0 1 2 3 4 5 6 "
     ]
    }
   ],
   "source": [
    "from collections import deque\n",
    "\n",
    "def level_order_iterative(node: TreeNode):\n",
    "    q = deque([node])\n",
    "    while q:\n",
    "        curr = q.popleft()\n",
    "        print(curr.val, end =\" \")\n",
    "        q.append(curr.left) if curr.left else None\n",
    "        q.append(curr.right) if curr.right else None \n",
    "level_order_iterative(root)\n",
    "\n",
    "print(\"\\n\"+(\"-\"*14))\n",
    "\n",
    "def level_order_iterative(tree: List[int]):\n",
    "    if not tree:\n",
    "        return\n",
    "    q = deque([0])\n",
    "    while q:\n",
    "        i = q.popleft()\n",
    "        print(i, end =\" \")\n",
    "        q.append(2*i+1) if 2*i+1 < len(tree) else None\n",
    "        q.append(2*i+2) if 2*i+2 < len(tree) else None \n",
    "level_order_iterative(tree_as_arr)"
   ]
  },
  {
   "cell_type": "markdown",
   "metadata": {},
   "source": [
    "#### Exercise (CLRS 12.1-3)\n",
    "Give a nonrecursive algorithm that performs an inorder tree walk. (Hint: An easy solution uses a stack as an auxiliary data structure.  A more complicated, but elegant, solution uses no stack but assumes that we can test two pointers for equality.)"
   ]
  },
  {
   "cell_type": "markdown",
   "metadata": {},
   "source": [
    "#### Solution\n",
    "The stack-based approach is shown above. For the two-pointer solution, CLRS makes a critical distinction in its definition of BSTs:\n",
    "> We can represent such a tree by a linked data structure in which each node is an object.  In addition to a key and satellite data, each node contains attributes `left`, `right`, and `p` that point to the nodes corresponding to its left child, its right child, and its parent, respectively. (p. 286-287)\n",
    "\n",
    "With a pointer to the parent, we can leverage the fact that the root of the tree is the only node without a parent, and use the following approach:\n",
    "```\n",
    "Start at the root node, and do the following until our current node is nil:\n",
    "    - If there's a left and we just came from the parent, go left.\n",
    "    - If there's no left or we just came from the left:\n",
    "        - print this node's value.\n",
    "        - If there is a right, go right\n",
    "    - If we just came from the right or there is no right:\n",
    "    - Otherwise Go to the parent\n",
    " ```"
   ]
  },
  {
   "cell_type": "code",
   "execution_count": 16,
   "metadata": {},
   "outputs": [
    {
     "name": "stdout",
     "output_type": "stream",
     "text": [
      "3 1 4 0 5 2 6 "
     ]
    }
   ],
   "source": [
    "\"\"\"\n",
    "      0\n",
    "    /    \\\n",
    "   1      2\n",
    "  / \\    / \\ \n",
    " 3   4  5   6 \n",
    "\"\"\"\n",
    "\n",
    "def inorder_traversal(root):\n",
    "    current = root\n",
    "    past = None\n",
    "    while current:\n",
    "        # Go left if we just came from the parent and a left child exists.\n",
    "        if (past == current.parent) and current.left:\n",
    "            past = current\n",
    "            current = current.left\n",
    "            continue\n",
    "        # Print the current node's value if we just came from the left or can't go left.\n",
    "        if (past == current.left) or (not current.left):\n",
    "            print(current.val, end=\" \")\n",
    "        # Go right if we just came from the left and can go right.\n",
    "        if (past == current.left) and current.right:\n",
    "            past = current\n",
    "            current = current.right\n",
    "            continue\n",
    "        # Otherwise return to the parent \n",
    "        past = current\n",
    "        current = current.parent\n",
    "inorder_traversal(root)"
   ]
  },
  {
   "cell_type": "markdown",
   "metadata": {},
   "source": [
    "### Searching"
   ]
  },
  {
   "cell_type": "markdown",
   "metadata": {},
   "source": [
    "#### Running Time\n",
    "`O(log(n))` for a BST of n nodes (`O(n)` for a binary tree). A BST search exploits the binary search property and excludes half of a node's subtree at each step, whereas a regular binary tree has no ordering so a regular traversal must be used. As with traversals, searches can be implemented recursively or iteratively, using a node class or array.\n",
    "\n",
    "#### key\n",
    "Find a specific key in the tree if it exists."
   ]
  },
  {
   "cell_type": "code",
   "execution_count": 17,
   "metadata": {},
   "outputs": [],
   "source": [
    "\"\"\"\n",
    "      5\n",
    "    /   \\\n",
    "   3     7 \n",
    "  / \\   / \\\n",
    " 1   4 6   8\n",
    "\"\"\"\n",
    "\n",
    "bst_dict = {val: TreeNode(val) for val in range(1,9)}\n",
    "bst_dict[5].left = bst_dict[3]\n",
    "bst_dict[5].right = bst_dict[7]\n",
    "bst_dict[3].left = bst_dict[1]\n",
    "bst_dict[3].right = bst_dict[4]\n",
    "bst_dict[7].left = bst_dict[6]\n",
    "bst_dict[7].right = bst_dict[8]\n",
    "bst_root = bst_dict[5]\n",
    "\n",
    "def bst_search(node: TreeNode, key: int):\n",
    "    if not node:\n",
    "        return False\n",
    "    if node.val == key:\n",
    "        return True\n",
    "    if node.val > key:\n",
    "        return bst_search(node.left, key)\n",
    "    else:\n",
    "        return bst_search(node.right, key)\n",
    "\n",
    "assert bst_search(bst_root, 3) \n",
    "assert not bst_search(bst_root, 42)\n",
    "\n",
    "bst_arr = [5,3,7,1,4,6,8]\n",
    "\n",
    "def bst_search(tree: List[int], i: int, key: int):\n",
    "    if not tree or i >= len(tree):\n",
    "        return False\n",
    "    if tree[i] == key:\n",
    "        return True\n",
    "    if tree[i] > key:\n",
    "        return bst_search(tree, 2*i+1, key)\n",
    "    else:\n",
    "        return bst_search(tree, 2*i+2, key)\n",
    "\n",
    "assert bst_search(bst_arr, 0, 3) \n",
    "assert not bst_search(bst_arr, 0, 42)"
   ]
  },
  {
   "cell_type": "markdown",
   "metadata": {},
   "source": [
    "#### min/max\n",
    "Find the minimum or maximum value in the tree, by following the left or right child pointers from the root, respectively."
   ]
  },
  {
   "cell_type": "code",
   "execution_count": 24,
   "metadata": {},
   "outputs": [
    {
     "name": "stdout",
     "output_type": "stream",
     "text": [
      "1\n",
      "8\n"
     ]
    }
   ],
   "source": [
    "def bst_min(node):\n",
    "    if not node:\n",
    "        return\n",
    "    if not node.left:\n",
    "        return node.val\n",
    "    return bst_min(node.left)\n",
    "\n",
    "print(bst_min(bst_root))\n",
    "\n",
    "def bst_max(node):\n",
    "    if not node:\n",
    "        return\n",
    "    if not node.right:\n",
    "        return node.val\n",
    "    return bst_max(node.right)\n",
    "\n",
    "print(bst_max(bst_root))"
   ]
  },
  {
   "cell_type": "markdown",
   "metadata": {},
   "source": [
    "#### predecessor / successor\n",
    "For a given node `n` in the tree, find elelment `m` in the tree that immediately follows `n` in an in-order traversal (if such element exists).\n",
    "- If `n` has a right child, `bst_min(n.right)`; the minimal element of the right subtree is the successor.\n",
    "- If `n` has no right child, search upwards until we reach a node `l` who is the left of child of its parent; `l.parent` is the successor."
   ]
  },
  {
   "cell_type": "markdown",
   "metadata": {},
   "source": []
  },
  {
   "cell_type": "markdown",
   "metadata": {},
   "source": [
    "### Insertion"
   ]
  },
  {
   "cell_type": "markdown",
   "metadata": {},
   "source": [
    "- Insertion into a binary tree can be done in O(1) time with an array or log(n) time with TreeNode, since there's no order. \n",
    "- BST insertion takes log(n) time so that the ordering can be preserved. "
   ]
  }
 ],
 "metadata": {
  "kernelspec": {
   "display_name": "Python 3",
   "language": "python",
   "name": "python3"
  },
  "language_info": {
   "codemirror_mode": {
    "name": "ipython",
    "version": 3
   },
   "file_extension": ".py",
   "mimetype": "text/x-python",
   "name": "python",
   "nbconvert_exporter": "python",
   "pygments_lexer": "ipython3",
   "version": "3.8.5"
  }
 },
 "nbformat": 4,
 "nbformat_minor": 4
}
