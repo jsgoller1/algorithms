{
 "cells": [
  {
   "cell_type": "markdown",
   "metadata": {},
   "source": [
    "# Data Structure - Graphs"
   ]
  },
  {
   "cell_type": "code",
   "execution_count": 4,
   "metadata": {},
   "outputs": [
    {
     "name": "stdout",
     "output_type": "stream",
     "text": [
      "1 [2, 3]\n",
      "2 [4, 5]\n",
      "4 [8, 9]\n",
      "8 []\n",
      "9 []\n",
      "5 [10]\n",
      "10 []\n",
      "3 [6, 7]\n",
      "6 [10]\n",
      "7 [11]\n",
      "11 []\n"
     ]
    }
   ],
   "source": [
    "from typing import Union, List\n",
    "\n",
    "class GraphNode:\n",
    "    def __init__(self, value: int = None, children: Union[List, None] = None):\n",
    "        self.children = children if children else []\n",
    "        self.value = value\n",
    "\n",
    "\n",
    "nodes = {val: GraphNode(value=val) for val in range(1,12)}\n",
    "nodes[1].children += [nodes[2], nodes[3]]\n",
    "nodes[2].children += [nodes[4], nodes[5]]\n",
    "nodes[3].children += [nodes[6], nodes[7]]\n",
    "nodes[4].children += [nodes[8], nodes[9]]\n",
    "nodes[5].children += [nodes[10]]\n",
    "nodes[6].children += [nodes[10]]\n",
    "nodes[7].children += [nodes[11]]\n",
    "root = nodes[1]\n",
    "\n",
    "def create_adj_list(root: GraphNode, adj_list: dict):\n",
    "    # Assume cycles may exist\n",
    "    if root in adj_list: return   \n",
    "    adj_list[root] = set()\n",
    "    \n",
    "    for child in root.children:\n",
    "        # set allows for checking if an edge exists in O(1) \n",
    "        adj_list[root].add(child) \n",
    "        create_adj_list(child, adj_list) if child not in adj_list else None\n",
    "\n",
    "adj_list = {}\n",
    "create_adj_list(root, adj_list)\n",
    "for node in adj_list:\n",
    "    print(node.value, [child.value for child in node.children])"
   ]
  },
  {
   "cell_type": "code",
   "execution_count": null,
   "metadata": {},
   "outputs": [],
   "source": []
  }
 ],
 "metadata": {
  "kernelspec": {
   "display_name": "Python 3",
   "language": "python",
   "name": "python3"
  },
  "language_info": {
   "codemirror_mode": {
    "name": "ipython",
    "version": 3
   },
   "file_extension": ".py",
   "mimetype": "text/x-python",
   "name": "python",
   "nbconvert_exporter": "python",
   "pygments_lexer": "ipython3",
   "version": "3.8.5"
  }
 },
 "nbformat": 4,
 "nbformat_minor": 4
}
