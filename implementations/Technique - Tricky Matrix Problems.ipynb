{
 "cells": [
  {
   "cell_type": "markdown",
   "metadata": {},
   "source": [
    "## Technique - Tricky Matrix Problems\n",
    "\n",
    "Python matrices are usually stored as lists of lists. I find iterating over rows and columns of matrices in any nonstandard way to be infuriatingly difficult in Python. I've developed two little heuristics to make it easier.\n",
    "\n",
    "### Use `enumerate()` with sensible variable names\n",
    "To traverse a matrix from left column to right column, top row to bottom row, the easiest way is:\n",
    "```python\n",
    "for y, row in enumerate(matrix):\n",
    "    for x, cell in enumerate(row):\n",
    "        ...\n",
    "```\n",
    "This makes it easy to refer to other cells with `matrix[y+d][x+d]`, and also gracefully handles empty matrices. \n",
    "\n",
    "### Use a \"cursor\"\n",
    "When you have to traverse a matrix any other way, avoid using loops; it gets hairy fast. Instead, think of a mouse cursor hovering over a cell:\n",
    "\n",
    "```python\n",
    "UP, DOWN, LEFT, RIGHT = (-1, 0), (1, 0), (0, -1), (0, 1)\n",
    "DIRECTIONS = [UP, DOWN, LEFT, RIGHT]\n",
    "\n",
    "current = (0,0)\n",
    "is_valid = lambda cell,matrix: 0 <= cell[0] < len(matrix) and 0 <= cell[1] < len(matrix[0])\n",
    "get_cell = lambda cell: matrix[cell[0]][cell[1]]\n",
    "move = lambda cell,d: (cell[0]+d[0], cell[1]+d[1])\n",
    "\n",
    "while some_condition:\n",
    "    if is_valid(move(current,UP)) and some_other_condition(move(current,UP)):\n",
    "        .... \n",
    "```\n"
   ]
  },
  {
   "cell_type": "code",
   "execution_count": null,
   "metadata": {},
   "outputs": [],
   "source": []
  }
 ],
 "metadata": {
  "kernelspec": {
   "display_name": "Python 3",
   "language": "python",
   "name": "python3"
  },
  "language_info": {
   "codemirror_mode": {
    "name": "ipython",
    "version": 3
   },
   "file_extension": ".py",
   "mimetype": "text/x-python",
   "name": "python",
   "nbconvert_exporter": "python",
   "pygments_lexer": "ipython3",
   "version": "3.8.5"
  }
 },
 "nbformat": 4,
 "nbformat_minor": 4
}
