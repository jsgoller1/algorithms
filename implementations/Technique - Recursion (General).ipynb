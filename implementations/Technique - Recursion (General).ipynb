{
 "cells": [
  {
   "cell_type": "markdown",
   "metadata": {},
   "source": [
    "# Technique - Recursion (General)\n",
    "\n",
    "Recursion refers to self-referential algorithms. Any algorithm that can be solved iteratively can be solved recursively and vice versa (though sometimes the iterative implementation requires a stack, as recursion implicitly invokes the call stack). Some problems are easier to implement with one or the other; go with whatever feels most natural. \n",
    "\n",
    "When considering a recursive solution, you must identify:\n",
    "- A recurrence relationship in the problem. It helps to write this out explicitly.\n",
    "- A base case; this is a case where no self-reference is needed to provide a result.\n",
    "- A recursive case; the cases where self reference is required. \n",
    "\n",
    "With this, you can then begin implementing a recursive function. Here's a simple template:\n",
    "```\n",
    "def recurse(value):\n",
    "    if base case:\n",
    "        return base value\n",
    "    else:\n",
    "        return recurse(next value) + recurse(other next value)\n",
    "\n",
    "def handler(input):\n",
    "    return recurse(first value)\n",
    "```\n",
    "\n",
    "If your language allows it, you can implement the recursive function inside the handler function. I find that this is helpful if the recursive function needs to access a global data structure, but it can complicate testing:\n",
    "```\n",
    "def handler(input):\n",
    "    def recurse(value):\n",
    "        if base case:\n",
    "            return base value\n",
    "        else:\n",
    "            return recurse(next value) + recurse(other next value)\n",
    "return recurse(first value)\n",
    "```\n",
    "\n",
    "Some common gotchas:\n",
    "- Not identifying the recurrence relationship completely before implementing the recursive function will cause confusion and possibly lead you to miss edge cases. \n",
    "- Every recursive call must eventually hit the base case; otherwise you will recurse forever. \n",
    "- A recursive function usually should return a concrete value in the base case or a combination of return values for recursive cases. A common mistake is to forget to return a recursive call's return value."
   ]
  },
  {
   "cell_type": "markdown",
   "metadata": {},
   "source": [
    "## [Letter Combinations of a Phone Number](https://leetcode.com/problems/letter-combinations-of-a-phone-number/)\n",
    "\n",
    "Recurrence: To get all strings for the `i`th number in the input string, combine all of the `i`th numbers digits with all strings associated with the `i-1`th number. \n",
    "\n",
    "Suppose we have the following functions:\n",
    "- `get_chars(i)` - returns characters associated with digit, e.g. `get_chars(2) -> ['a','b','c']`\n",
    "- `combine(c, strs)` - given a char `c` and list of strings `strs`, returns a list containing every string in `strs` with `c` appended.  \n",
    "- `get_combinations(s, i)` - a function that solves the problem, i.e. returns all letter combinations for an int string `s` of length `i`.\n",
    "\n",
    "Base case: A single number `i`; return `get_chars(i)`\n",
    "Recursive case: the `i`th number of our input string. `get_combinations(s, i) = combine(get_combinations(s, i-1), c) for c in get_chars(s[i])`\n",
    "\n",
    "I actually got this as an interview problem once (during a period of my life when I was incompetent at interviewing) and promptly failed it after attempting a solution on the whiteboard with multiple layers of nested loops. Despite the experience leaving me a scarred and broken man (most medical experts agree that whiteboards are a worldwide leading cause of early death), I somehow got an offer and the interviewer later became my manager."
   ]
  },
  {
   "cell_type": "code",
   "execution_count": 14,
   "metadata": {},
   "outputs": [
    {
     "name": "stdout",
     "output_type": "stream",
     "text": [
      "['ad', 'ae', 'af', 'bd', 'be', 'bf', 'cd', 'ce', 'cf']\n",
      "[]\n",
      "['a', 'b', 'c']\n"
     ]
    }
   ],
   "source": [
    "PHONE_PAD = {\n",
    "    '2': [\"a\",\"b\", \"c\"],\n",
    "    '3': [\"d\",\"e\",\"f\"],\n",
    "    '4': [\"g\",\"h\",\"i\"],\n",
    "    '5': [\"j\",\"k\",\"l\"],\n",
    "    '6': [\"m\",\"n\",\"o\"],\n",
    "    '7': [\"p\",\"q\",\"r\",\"s\"],\n",
    "    '8': [\"t\",\"u\",\"v\"],\n",
    "    '9': [\"w\",\"x\",\"y\",\"z\"],\n",
    "}\n",
    "\n",
    "def combine(c, strs):\n",
    "    return [c+string for string in strs] if strs else [c]\n",
    "\n",
    "def get_combinations(nums, i=0):\n",
    "    if i >= len(nums):\n",
    "        return []\n",
    "    solution = []\n",
    "    for c in PHONE_PAD[nums[i]]:\n",
    "        solution += combine(c, get_combinations(nums, i+1))\n",
    "    return solution\n",
    "\n",
    "print(get_combinations(\"23\"))\n",
    "print(get_combinations(\"\"))\n",
    "print(get_combinations(\"2\"))"
   ]
  },
  {
   "cell_type": "markdown",
   "metadata": {},
   "source": [
    "## [Validate binary search tree](https://leetcode.com/problems/validate-binary-search-tree/)"
   ]
  },
  {
   "cell_type": "markdown",
   "metadata": {},
   "source": [
    "For a leaf node `n` and internal node `m`, `m` is a right parent if `n` is in `m`'s right subtree, and a `left` parent if the opposite. In the tree below, `-2`'s `left ancestors` are `4`, `2`, and `0`, its only right ancestor is `-5`:\n",
    "```\n",
    "        4\n",
    "       / \\\n",
    "      2   6\n",
    "     /   / \\\n",
    "   -5   5   7\n",
    "     \\\n",
    "      0\n",
    "     /\n",
    "   -2  \n",
    "```\n",
    "Recurrence: A node is valid if the BST property holds for it and its children, and if `max(right ancestors) < node.val < min(left ancestors)`.\n",
    "Base case: A root node; check if the BST property holds for the children and the node.\n",
    "Recursive case: Check the BST property, `max(right ancestors) < node.val < min(left ancestors)`\n",
    "\n",
    "An alternative approach is to do an in-order traversal and confirm that the node order is sorted, which is also implemented below."
   ]
  },
  {
   "cell_type": "code",
   "execution_count": 19,
   "metadata": {},
   "outputs": [],
   "source": [
    "class TreeNode:\n",
    "    def __init__(self, val=0, left=None, right=None):\n",
    "        self.val = val\n",
    "        self.left = left\n",
    "        self.right = right\n",
    "\n",
    "class Solution:\n",
    "    def isValidBST(self, node: TreeNode, r_ancestor=None, l_ancestor=None) -> bool:\n",
    "        return not node or \\\n",
    "               (not node.left or node.left.val < node.val) and \\\n",
    "               (not node.right or node.val < node.right.val) and \\\n",
    "               (not r_ancestor or r_ancestor < node.val) and \\\n",
    "               (not l_ancestor or node.val < l_ancestor) and \\\n",
    "               self.isValidBST(node.left, r_ancestor, node.val) and \\\n",
    "               self.isValidBST(node.right, node.val, l_ancestor)\n",
    "\n",
    "class Solution:\n",
    "    def isValidBST(self, node: TreeNode) -> bool:\n",
    "        self.prev = -float('inf')\n",
    "        def in_order(node):\n",
    "            if not node: return True\n",
    "            valid = in_order(node.left)\n",
    "            valid &= self.prev  < node.val\n",
    "            self.prev  = node.val\n",
    "            valid &= in_order(node.right)\n",
    "            return valid\n",
    "        return in_order(node)\n",
    "            "
   ]
  },
  {
   "cell_type": "markdown",
   "metadata": {},
   "source": [
    "## [Split BST](https://leetcode.com/problems/split-bst/)\n",
    "\n",
    "An `O(N)` solution is possible and poorly explained on Leetcode. For a given tree T, we return `left` (every node in T where node.val <= V) and `right` (every node in T where node.val > V). Our base case is a single node - it either winds up in a left or right tree of one node, and the other tree is empty. For more than one node, we look at `root`. If `root` goes into `left`, we don't need to look at `root.left` since every value in the root's left subtree is also less than V, so we go on to look at `root.right`. Opposite logic applies if `root` goes into `right`; we go on to look at `root.left`. \n",
    "\n",
    "Let's say `V= 57` and we have this tree:\n",
    "```\n",
    "    0\n",
    "   / \\ \n",
    "-100  100\n",
    " / \\  / \\\n",
    "   ....\n",
    "```\n",
    "We don't need to examine `root.left` since every value in it is less than 0, so we recurse into `root.right`. We then have three trees: the original `root` at `0`, and the `left` and `right` on our recursive call `split(root.right)`. In this case, we could merge them by setting `root.right = left`; every value in `root`'s original right subtree was greater than `root`, so this preserves the BST property. Then the recursive call's right is `right` and the original root is `left`, and we return both. Again, opposite logic applies if we examine `root.left` in the first case. I won't bother stating the recurrence here since it's more confusing than it's worth."
   ]
  },
  {
   "cell_type": "code",
   "execution_count": 61,
   "metadata": {},
   "outputs": [],
   "source": [
    "class Solution:    \n",
    "    def splitBST(self, root: TreeNode, V: int) -> List[TreeNode]:\n",
    "        if not root: return [None, None]\n",
    "        if V >= root.val:\n",
    "            left = root\n",
    "            sub_left, right = self.splitBST(root.right, V)\n",
    "            left.right = sub_left\n",
    "        else:\n",
    "            right = root\n",
    "            left, sub_right = self.splitBST(root.left, V)\n",
    "            right.left = sub_right\n",
    "        return [left, right]"
   ]
  },
  {
   "cell_type": "markdown",
   "metadata": {},
   "source": [
    "An alternative, brute-force `O(nlogn)` solution is to pre-order traverse the input tree and insert every node into the new left or right subtree. "
   ]
  },
  {
   "cell_type": "code",
   "execution_count": 55,
   "metadata": {},
   "outputs": [],
   "source": [
    "class TreeNode:\n",
    "    def __init__(self, val=0, left=None, right=None):\n",
    "        self.val = val\n",
    "        self.left = left\n",
    "        self.right = right\n",
    "\n",
    "def insert(root, new_node):\n",
    "    if not root:\n",
    "        return new_node\n",
    "    if new_node.val <= root.val:\n",
    "        root.left = insert(root.left, new_node) \n",
    "    else:\n",
    "        root.right = insert(root.right, new_node)\n",
    "    return root\n",
    "    \n",
    "class Solution:    \n",
    "    def splitBST(self, root: TreeNode, V: int) -> List[TreeNode]:\n",
    "        self.ans = [None, None]\n",
    "\n",
    "        def preorder(root, V):\n",
    "            if not root: return\n",
    "            new_node = TreeNode(root.val)\n",
    "            if root.val <= V: \n",
    "                self.ans[0] = insert(self.ans[0], new_node)\n",
    "            else:\n",
    "                self.ans[1] = insert(self.ans[1], new_node)\n",
    "            preorder(root.left, V)\n",
    "            preorder(root.right, V)\n",
    "            \n",
    "        preorder(root, V)\n",
    "        return self.ans"
   ]
  },
  {
   "cell_type": "markdown",
   "metadata": {},
   "source": [
    "## [Merge Two Sorted Lists](https://leetcode.com/problems/merge-two-sorted-lists/)\n",
    "\n",
    "Can use an iterative mergesort merge here easily. How can we do this recursively?"
   ]
  },
  {
   "cell_type": "code",
   "execution_count": 28,
   "metadata": {},
   "outputs": [],
   "source": [
    "class ListNode:\n",
    "    def __init__(self, val, next):\n",
    "        self.val = val\n",
    "        self.next = next\n",
    "\n",
    "class Solution:\n",
    "    def mergeTwoLists(self, l1: ListNode, l2: ListNode) -> ListNode:\n",
    "        if not (l1 and l2):\n",
    "            return l1 if not l2 else l2\n",
    "        if l1.val <= l2.val: \n",
    "            next_node = l1\n",
    "            l1 = l1.next\n",
    "        else:\n",
    "            next_node = l2\n",
    "            l2 = l2.next\n",
    "        next_node.next = self.mergeTwoLists(l1,l2)\n",
    "        return next_node"
   ]
  },
  {
   "cell_type": "markdown",
   "metadata": {},
   "source": [
    "## [Swap Nodes in Pairs](https://leetcode.com/problems/swap-nodes-in-pairs/)\n",
    "\n",
    "For this one, our recurrence is: `swapped list of N nodes = 2nd node + 1st node + swapped list of N-2 nodes`, with base cases for zero and one node."
   ]
  },
  {
   "cell_type": "code",
   "execution_count": null,
   "metadata": {},
   "outputs": [],
   "source": [
    "class Solution:\n",
    "    def swapPairs(self, head: ListNode) -> ListNode:\n",
    "        if not head:\n",
    "            return None\n",
    "        second = head.next\n",
    "        if not second:\n",
    "            return head\n",
    "        head.next = self.swapPairs(second.next)\n",
    "        second.next = head\n",
    "        return second"
   ]
  },
  {
   "cell_type": "markdown",
   "metadata": {},
   "source": [
    "## [All Possible Full Binary Trees](https://leetcode.com/problems/all-possible-full-binary-trees/)"
   ]
  }
 ],
 "metadata": {
  "kernelspec": {
   "display_name": "Python 3",
   "language": "python",
   "name": "python3"
  },
  "language_info": {
   "codemirror_mode": {
    "name": "ipython",
    "version": 3
   },
   "file_extension": ".py",
   "mimetype": "text/x-python",
   "name": "python",
   "nbconvert_exporter": "python",
   "pygments_lexer": "ipython3",
   "version": "3.8.5"
  }
 },
 "nbformat": 4,
 "nbformat_minor": 4
}
