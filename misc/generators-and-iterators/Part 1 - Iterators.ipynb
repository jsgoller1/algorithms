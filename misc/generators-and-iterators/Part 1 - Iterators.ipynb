{
 "cells": [
  {
   "cell_type": "markdown",
   "id": "through-contribution",
   "metadata": {},
   "source": [
    "# Part 1 - Iterators"
   ]
  },
  {
   "cell_type": "markdown",
   "id": "insured-creator",
   "metadata": {},
   "source": [
    "## Intro"
   ]
  },
  {
   "cell_type": "markdown",
   "id": "ambient-porcelain",
   "metadata": {},
   "source": [
    "[Iterators](https://en.wikipedia.org/wiki/Iterator) in Python are a core part of the language and usually hidden / not obvious when used. Iterators are objects that allow for iteration over a collection and statefully keeping track of the iteration progress. Any object in Python can be an iterator by supporting two methods:\n",
    "- `__next__()` - get the next item in the collection. \n",
    "- `__iter__()` - returns an iterator object. Both the **iterable** (a collection supporting iteration) and the iterator object must support this method. When `__iter__()` is called on the iterator, it returns a reference to itself - this allows for reusing the same code with `for` regardless of whether you pass an iterator or an iterable. \n",
    "\n",
    "When iteration is complete, the iterator should raise `StopIteration`. "
   ]
  },
  {
   "cell_type": "code",
   "execution_count": 14,
   "id": "promotional-lighting",
   "metadata": {},
   "outputs": [],
   "source": [
    "class ListIterator:\n",
    "    def __init__(self, data):\n",
    "        if not isinstance(data, list):\n",
    "            raise TypeError(f\"This iterator is only for lists, not {type(data)}\")\n",
    "        self._data = data\n",
    "        self._idx = 0\n",
    "    \n",
    "    def __iter__(self):\n",
    "        return self\n",
    "    \n",
    "    def __next__(self):\n",
    "        if self._idx >= len(self._data):\n",
    "            raise StopIteration\n",
    "        val = self._data[self._idx]\n",
    "        self._idx += 1\n",
    "        return val "
   ]
  },
  {
   "cell_type": "code",
   "execution_count": 17,
   "id": "second-kuwait",
   "metadata": {},
   "outputs": [
    {
     "name": "stdout",
     "output_type": "stream",
     "text": [
      "1\n",
      "2\n",
      "3\n",
      "4\n",
      "5\n",
      "6\n"
     ]
    }
   ],
   "source": [
    "li = ListIterator([1,2,3,4,5,6])\n",
    "for i in li:\n",
    "    print(i)\n",
    " \n",
    "# Uncoment below to cause a TypeError\n",
    "# bad_li = ListIterator({1,2,3,4,5})"
   ]
  },
  {
   "cell_type": "markdown",
   "id": "treated-kitty",
   "metadata": {},
   "source": [
    "## `iter()`"
   ]
  },
  {
   "cell_type": "markdown",
   "id": "modular-cholesterol",
   "metadata": {},
   "source": [
    "Python also provides the `iter()` builtin for creating iterators from iterables. `iter()` works differently depending on use. If only the first argument (`object`) is given, it must be an object supporting either `__iter__()` or `__getitem__()`:\n"
   ]
  },
  {
   "cell_type": "code",
   "execution_count": 22,
   "id": "dominican-thing",
   "metadata": {},
   "outputs": [],
   "source": [
    "it = iter([1,2,3,4,5,6])\n",
    "it = iter(\"1,2,3,4\")\n",
    "it = iter((1,2,3,4))\n",
    "it = iter({1: 2, 3: 4})\n",
    "\n",
    "class NotIterable: \n",
    "    pass\n",
    "\n",
    "# Causes TypeError\n",
    "# it = iter(NotIterable())"
   ]
  },
  {
   "cell_type": "markdown",
   "id": "indie-organ",
   "metadata": {},
   "source": [
    "If the second argument (`sentinel`) is given, then the first argument is treated as a callable. Each time the iterator's `__next__()` is called, the iterator will call the object with no arguments until a value equal to `sentinel` is produced from the object, at which point the iterator raises `StopIteration`:"
   ]
  },
  {
   "cell_type": "code",
   "execution_count": 29,
   "id": "brown-printer",
   "metadata": {},
   "outputs": [
    {
     "name": "stdout",
     "output_type": "stream",
     "text": [
      "0\n",
      "1\n",
      "2\n",
      "3\n",
      "4\n",
      "5\n"
     ]
    }
   ],
   "source": [
    "class WeirdObj:\n",
    "    def __init__(self, limit=10):\n",
    "        self._curr = 0\n",
    "        self._limit = limit\n",
    "        \n",
    "    def __call__(self):\n",
    "        if self._curr == self._limit:\n",
    "            return None\n",
    "        val = self._curr\n",
    "        self._curr += 1\n",
    "        return val \n",
    "    \n",
    "for val in iter(WeirdObj(), 6):\n",
    "    print(val)"
   ]
  },
  {
   "cell_type": "markdown",
   "id": "informational-elements",
   "metadata": {},
   "source": [
    "## Custom iterators"
   ]
  },
  {
   "cell_type": "markdown",
   "id": "sealed-tattoo",
   "metadata": {},
   "source": [
    "Iterators don't necessarily need to end, e.g. **infinite iterators**:"
   ]
  },
  {
   "cell_type": "code",
   "execution_count": 34,
   "id": "popular-davis",
   "metadata": {},
   "outputs": [
    {
     "name": "stdout",
     "output_type": "stream",
     "text": [
      "1\n",
      "2\n",
      "4\n",
      "8\n",
      "16\n",
      "32\n",
      "64\n",
      "128\n",
      "256\n"
     ]
    }
   ],
   "source": [
    "class PowersOfTwo:\n",
    "    def __init__(self):\n",
    "        self._i = 0\n",
    "    def __iter__(self):\n",
    "        return self\n",
    "    def __next__(self):\n",
    "        val = 2**self._i\n",
    "        self._i += 1\n",
    "        return val\n",
    "    \n",
    "it = PowersOfTwo()\n",
    "print(next(it))\n",
    "print(next(it))\n",
    "print(next(it))\n",
    "print(next(it))\n",
    "print(next(it))\n",
    "print(next(it))\n",
    "print(next(it))\n",
    "print(next(it))\n",
    "print(next(it))"
   ]
  },
  {
   "cell_type": "markdown",
   "id": "fewer-blade",
   "metadata": {},
   "source": [
    "You can also implement the `__reversed__()` method on to allow your iterable to be iterated over in reverse order:"
   ]
  },
  {
   "cell_type": "code",
   "execution_count": 41,
   "id": "personalized-yugoslavia",
   "metadata": {},
   "outputs": [
    {
     "name": "stdout",
     "output_type": "stream",
     "text": [
      "1\n",
      "2\n",
      "3\n",
      "4\n",
      "5\n",
      "6\n",
      "6\n",
      "5\n",
      "4\n",
      "3\n",
      "2\n",
      "1\n"
     ]
    }
   ],
   "source": [
    "class ReversedListIterator:\n",
    "    def __init__(self, data):\n",
    "        if not isinstance(data, list):\n",
    "            raise TypeError(f\"This iterator is only for lists, not {type(data)}\")\n",
    "        self._data = data\n",
    "        self._idx = len(data)-1\n",
    "    \n",
    "    def __iter__(self):\n",
    "        return self\n",
    "    \n",
    "    def __next__(self):\n",
    "        if self._idx < 0: \n",
    "            raise StopIteration\n",
    "        val = self._data[self._idx]\n",
    "        self._idx -= 1\n",
    "        return val \n",
    "    \n",
    "class MyCustomContainer:\n",
    "    def __init__(self, data):\n",
    "        self._data = data\n",
    "    \n",
    "    def __iter__(self):\n",
    "        return ListIterator(self._data)\n",
    "    \n",
    "    def __reversed__(self):\n",
    "        return ReversedListIterator(self._data)\n",
    "    \n",
    "con = MyCustomContainer([1,2,3,4,5,6])\n",
    "for i in iter(con):\n",
    "    print(i)\n",
    "    \n",
    "for i in reversed(con):\n",
    "    print(i)"
   ]
  },
  {
   "cell_type": "code",
   "execution_count": null,
   "id": "stuck-picnic",
   "metadata": {},
   "outputs": [],
   "source": []
  }
 ],
 "metadata": {
  "kernelspec": {
   "display_name": "Python 3",
   "language": "python",
   "name": "python3"
  },
  "language_info": {
   "codemirror_mode": {
    "name": "ipython",
    "version": 3
   },
   "file_extension": ".py",
   "mimetype": "text/x-python",
   "name": "python",
   "nbconvert_exporter": "python",
   "pygments_lexer": "ipython3",
   "version": "3.9.18"
  }
 },
 "nbformat": 4,
 "nbformat_minor": 5
}
