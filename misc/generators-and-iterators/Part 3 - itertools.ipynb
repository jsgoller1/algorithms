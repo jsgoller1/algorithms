{
 "cells": [
  {
   "cell_type": "markdown",
   "id": "labeled-single",
   "metadata": {},
   "source": [
    "# Part 3 - Itertools"
   ]
  },
  {
   "cell_type": "markdown",
   "id": "israeli-knitting",
   "metadata": {},
   "source": [
    "The `itertools` library in Python implements a number of useful iterators out of the box."
   ]
  },
  {
   "cell_type": "markdown",
   "id": "spectacular-charles",
   "metadata": {},
   "source": [
    "## Infinite iterators"
   ]
  },
  {
   "cell_type": "code",
   "execution_count": 1,
   "id": "common-jacket",
   "metadata": {},
   "outputs": [],
   "source": [
    "import itertools\n",
    "import random\n",
    "\n",
    "def generate_random_array(max_len=1000):\n",
    "    data = []\n",
    "    for i in range(max_len):\n",
    "        data.append(random.randint(0, 1000))\n",
    "    return data\n",
    "\n",
    "def assert_same_iters(it1, it2, limit=None):\n",
    "    if limit == None:\n",
    "        for i, item1 in enumerate(it1):\n",
    "            item2 = next(it2)\n",
    "            assert item1 == item2, f\"iteration {i}: {item1} != {item2}\"\n",
    "    else:\n",
    "        for i in range(limit):\n",
    "            item1 = next(it1)\n",
    "            item2 = next(it2)\n",
    "            assert item1 == item2, f\"iteration {i}: {item1} != {item2}\""
   ]
  },
  {
   "cell_type": "code",
   "execution_count": 2,
   "id": "reserved-gasoline",
   "metadata": {},
   "outputs": [],
   "source": [
    "class Cycle:\n",
    "    def __init__(self, data):\n",
    "        self.data = data \n",
    "        self.i = 0\n",
    "    \n",
    "    def __iter__(self):\n",
    "        return self \n",
    "    \n",
    "    def __next__(self):\n",
    "        if not len(self.data):\n",
    "            raise StopIteration\n",
    "        \n",
    "        val = self.data[self.i]\n",
    "        self.i = (self.i + 1) % len(self.data)\n",
    "        return val\n",
    "\n",
    "arr = [1,2,3,4,5,6]\n",
    "assert_same_iters(itertools.cycle(arr), Cycle(arr), 10000)"
   ]
  },
  {
   "cell_type": "code",
   "execution_count": 3,
   "id": "derived-sucking",
   "metadata": {},
   "outputs": [],
   "source": [
    "class Count:\n",
    "    def __init__(self, start=0, step=1):\n",
    "        self.i = start\n",
    "        self.step = step\n",
    "    \n",
    "    def __iter__(self):\n",
    "        return self\n",
    "    \n",
    "    def __next__(self):\n",
    "        val = self.i\n",
    "        self.i += self.step\n",
    "        return val \n",
    "\n",
    "assert_same_iters(itertools.count(), Count(), 10000)\n",
    "assert_same_iters(itertools.count(10,3), Count(10, 3), 10000)"
   ]
  },
  {
   "cell_type": "markdown",
   "id": "operating-satin",
   "metadata": {},
   "source": [
    "## Terminating iterators"
   ]
  },
  {
   "cell_type": "code",
   "execution_count": 5,
   "id": "offensive-involvement",
   "metadata": {},
   "outputs": [],
   "source": [
    "class Accumulate:\n",
    "    def __init__(self, data):\n",
    "        self.data = data\n",
    "        self.total = 0\n",
    "        self.i = 0\n",
    "    \n",
    "    def __iter__(self):\n",
    "        return self\n",
    "    \n",
    "    def __next__(self):\n",
    "        if self.i == len(self.data):\n",
    "            raise StopIteration\n",
    "        self.total += self.data[self.i]\n",
    "        self.i += 1\n",
    "        return self.total\n",
    "\n",
    "vals = generate_random_array()\n",
    "assert_same_iters(itertools.accumulate(vals), Accumulate(vals))"
   ]
  },
  {
   "cell_type": "code",
   "execution_count": 31,
   "id": "focused-citation",
   "metadata": {},
   "outputs": [
    {
     "name": "stdout",
     "output_type": "stream",
     "text": [
      "('a', 'b', 'c', 'd', 'e', 'f', 'g')\n"
     ]
    }
   ],
   "source": [
    "class Batched:\n",
    "    def __init__(self, data, n):\n",
    "        if n <= 0:\n",
    "            raise ValueError(\"n must be greater than 0.\")\n",
    "        self.data = data\n",
    "        self.n = n\n",
    "        self.i = 0\n",
    "    \n",
    "    def __iter__(self):\n",
    "        return self\n",
    "    \n",
    "    def __next__(self):\n",
    "        ret = []\n",
    "        for j in range(self.n):            \n",
    "            if (self.i == len(self.data)):\n",
    "                if ret:\n",
    "                    return tuple(ret)\n",
    "                else:\n",
    "                    raise StopIteration\n",
    "            ret.append(self.data[self.i])\n",
    "            self.i += 1\n",
    "        return tuple(ret)\n",
    "\n",
    "vals = \"abcdefg\"\n",
    "for t in Batched(vals, 15):\n",
    "    print(t)"
   ]
  },
  {
   "cell_type": "code",
   "execution_count": 36,
   "id": "played-understanding",
   "metadata": {},
   "outputs": [
    {
     "name": "stdout",
     "output_type": "stream",
     "text": [
      "h\n",
      "e\n",
      "l\n",
      "l\n",
      "o\n",
      "m\n",
      "y\n",
      "g\n",
      "o\n",
      "o\n",
      "d\n",
      "f\n",
      "r\n",
      "i\n",
      "e\n",
      "n\n",
      "d\n"
     ]
    }
   ],
   "source": [
    "class Chain:\n",
    "    def __init__(self, iterables):\n",
    "        self.iterables = iterables\n",
    "        self.i = 0\n",
    "        self.j = 0\n",
    "    \n",
    "    def __iter__(self):\n",
    "        return self \n",
    "    \n",
    "    def __next__(self):\n",
    "        if self.j == len(self.iterables[self.i]):\n",
    "            self.i += 1\n",
    "            self.j = 0\n",
    "        if self.i == len(self.iterables):\n",
    "            raise StopIteration\n",
    "        curr = self.iterables[self.i]\n",
    "        c = curr[self.j]\n",
    "        self.j += 1\n",
    "        return c\n",
    "\n",
    "iterables = [\"hello\", \"my\", \"good\", \"friend\"]\n",
    "for c in Chain(iterables):\n",
    "    print(c)"
   ]
  },
  {
   "cell_type": "markdown",
   "id": "minute-israel",
   "metadata": {},
   "source": [
    "## Combinatoric iterators"
   ]
  },
  {
   "cell_type": "code",
   "execution_count": 8,
   "id": "conscious-township",
   "metadata": {},
   "outputs": [
    {
     "name": "stdout",
     "output_type": "stream",
     "text": [
      "sys.version_info(major=3, minor=9, micro=18, releaselevel='final', serial=0)\n"
     ]
    }
   ],
   "source": [
    "import sys\n",
    "print(sys.version_info)"
   ]
  },
  {
   "cell_type": "code",
   "execution_count": null,
   "id": "suitable-jimmy",
   "metadata": {},
   "outputs": [],
   "source": []
  }
 ],
 "metadata": {
  "kernelspec": {
   "display_name": "Python 3",
   "language": "python",
   "name": "python3"
  },
  "language_info": {
   "codemirror_mode": {
    "name": "ipython",
    "version": 3
   },
   "file_extension": ".py",
   "mimetype": "text/x-python",
   "name": "python",
   "nbconvert_exporter": "python",
   "pygments_lexer": "ipython3",
   "version": "3.9.18"
  }
 },
 "nbformat": 4,
 "nbformat_minor": 5
}
