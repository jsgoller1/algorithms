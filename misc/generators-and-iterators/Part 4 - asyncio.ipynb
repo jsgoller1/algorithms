{
 "cells": [
  {
   "cell_type": "markdown",
   "id": "retired-boundary",
   "metadata": {},
   "source": [
    "# Part 4 - asyncio"
   ]
  },
  {
   "cell_type": "markdown",
   "id": "prescription-split",
   "metadata": {},
   "source": [
    "## Intro"
   ]
  },
  {
   "cell_type": "markdown",
   "id": "public-laugh",
   "metadata": {},
   "source": [
    "A **coroutine**\n",
    "\n",
    "`asyncio` is a builtin Python library for writing asynchronous code using coroutines. We cannot execute asynchronous code directly via Jupyter, so we will write out to files and then launch shell commands to execute them. "
   ]
  },
  {
   "cell_type": "code",
   "execution_count": 4,
   "id": "trained-lodge",
   "metadata": {},
   "outputs": [
    {
     "name": "stdout",
     "output_type": "stream",
     "text": [
      "Writing asyncio_demo.py\n"
     ]
    }
   ],
   "source": [
    "%%writefile asyncio_demo.py\n",
    "\n",
    "import asyncio \n",
    "\n",
    "async def main():\n",
    "    print(\"Hello\")\n",
    "    await asyncio.sleep(1)\n",
    "    print(\"World\")\n",
    "\n",
    "asyncio.run(main())"
   ]
  },
  {
   "cell_type": "code",
   "execution_count": 5,
   "id": "adjustable-nicholas",
   "metadata": {},
   "outputs": [
    {
     "name": "stdout",
     "output_type": "stream",
     "text": [
      "Hello\n",
      "World\n"
     ]
    }
   ],
   "source": [
    "!python3 asyncio_demo.py"
   ]
  },
  {
   "cell_type": "code",
   "execution_count": 6,
   "id": "radical-berkeley",
   "metadata": {},
   "outputs": [
    {
     "name": "stdout",
     "output_type": "stream",
     "text": [
      "Writing asyncio_demo_sync_download.py\n"
     ]
    }
   ],
   "source": [
    "%%writefile asyncio_demo_sync_download.py\n",
    "\n",
    "import time\n",
    "\n",
    "def download_file(file_number):\n",
    "    print(f\"Downloading file {file_number}...\")\n",
    "    time.sleep(2)  # Simulating a download delay\n",
    "    print(f\"File {file_number} downloaded.\")\n",
    "\n",
    "def main_sync():\n",
    "    for i in range(1, 4):\n",
    "        download_file(i)\n",
    "\n",
    "start_time = time.time()\n",
    "main_sync()\n",
    "end_time = time.time()\n",
    "print(f\"Synchronous download time: {end_time - start_time} seconds\")\n"
   ]
  },
  {
   "cell_type": "code",
   "execution_count": 8,
   "id": "posted-leonard",
   "metadata": {},
   "outputs": [
    {
     "name": "stdout",
     "output_type": "stream",
     "text": [
      "Downloading file 1...\n",
      "File 1 downloaded.\n",
      "Downloading file 2...\n",
      "File 2 downloaded.\n",
      "Downloading file 3...\n",
      "File 3 downloaded.\n",
      "Synchronous download time: 6.007537841796875 seconds\n"
     ]
    }
   ],
   "source": [
    "!python3 asyncio_demo_sync_download.py"
   ]
  },
  {
   "cell_type": "code",
   "execution_count": 10,
   "id": "arranged-secretary",
   "metadata": {},
   "outputs": [
    {
     "name": "stdout",
     "output_type": "stream",
     "text": [
      "Overwriting asyncio_demo_async_download.py\n"
     ]
    }
   ],
   "source": [
    "%%writefile asyncio_demo_async_download.py\n",
    "\n",
    "import time\n",
    "import asyncio\n",
    "\n",
    "async def download_file_async(file_number):\n",
    "    print(f\"Downloading file {file_number} asynchronously...\")\n",
    "    await asyncio.sleep(2)  # Simulating a download delay\n",
    "    print(f\"File {file_number} downloaded asynchronously.\")\n",
    "\n",
    "async def main_async():\n",
    "    await asyncio.gather(\n",
    "        download_file_async(1),\n",
    "        download_file_async(2),\n",
    "        download_file_async(3)\n",
    "    )\n",
    "\n",
    "async def run_async():\n",
    "    start_time = time.time()\n",
    "    await main_async()\n",
    "    end_time = time.time()\n",
    "    print(f\"Asynchronous download time: {end_time - start_time} seconds\")\n",
    "\n",
    "# Running the asynchronous function\n",
    "asyncio.run(run_async())"
   ]
  },
  {
   "cell_type": "code",
   "execution_count": 11,
   "id": "sixth-dining",
   "metadata": {},
   "outputs": [
    {
     "name": "stdout",
     "output_type": "stream",
     "text": [
      "Downloading file 1 asynchronously...\n",
      "Downloading file 2 asynchronously...\n",
      "Downloading file 3 asynchronously...\n",
      "File 1 downloaded asynchronously.\n",
      "File 2 downloaded asynchronously.\n",
      "File 3 downloaded asynchronously.\n",
      "Asynchronous download time: 2.0004642009735107 seconds\n"
     ]
    }
   ],
   "source": [
    "!python3 asyncio_demo_async_download.py"
   ]
  },
  {
   "cell_type": "code",
   "execution_count": null,
   "id": "beginning-persian",
   "metadata": {},
   "outputs": [],
   "source": []
  }
 ],
 "metadata": {
  "kernelspec": {
   "display_name": "Python 3",
   "language": "python",
   "name": "python3"
  },
  "language_info": {
   "codemirror_mode": {
    "name": "ipython",
    "version": 3
   },
   "file_extension": ".py",
   "mimetype": "text/x-python",
   "name": "python",
   "nbconvert_exporter": "python",
   "pygments_lexer": "ipython3",
   "version": "3.9.18"
  }
 },
 "nbformat": 4,
 "nbformat_minor": 5
}
