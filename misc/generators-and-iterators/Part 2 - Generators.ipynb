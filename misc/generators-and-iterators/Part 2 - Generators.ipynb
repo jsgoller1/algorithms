{
 "cells": [
  {
   "cell_type": "markdown",
   "id": "mounted-producer",
   "metadata": {},
   "source": [
    "# Part 2 - Generators"
   ]
  },
  {
   "cell_type": "markdown",
   "id": "medical-trading",
   "metadata": {},
   "source": [
    "## Intro"
   ]
  },
  {
   "cell_type": "markdown",
   "id": "nasty-american",
   "metadata": {},
   "source": [
    "In Python, generators are an abstraction that allows for creating iterators that have some very useful properties for dealing with large datasets:\n",
    "- **lazy evaluation**: generators don't require all data to be held in memory. \n",
    "- **stateful iterator**: generators implicitly remember \"where\" they are in the sequence they generate.\n",
    "- **`yield`**: generators have a very simple \"drop-in\" syntax; using the `yield` or `yield from` keywords will cause whatever function using them to become a generator, and implements the iterator protocol. \n",
    "\n",
    "Let's say you wanted to generate an arbitrary number of powers of two. Here are three ways you could do it:"
   ]
  },
  {
   "cell_type": "code",
   "execution_count": 7,
   "id": "thirty-recipe",
   "metadata": {},
   "outputs": [
    {
     "name": "stdout",
     "output_type": "stream",
     "text": [
      "[1, 2, 4, 8, 16, 32, 64, 128, 256, 512]\n",
      "[1, 2, 4, 8, 16, 32, 64, 128, 256, 512]\n",
      "[1, 2, 4, 8, 16, 32, 64, 128, 256, 512]\n"
     ]
    }
   ],
   "source": [
    "# This way takes up linear memory; unless we need all these powers at the same time, this is wasteful.\n",
    "def generate_pow2(n):\n",
    "    pows = []\n",
    "    for i in range(n):\n",
    "        pows.append(2**i)\n",
    "    return pows\n",
    "print(generate_pow2(10))\n",
    "\n",
    "# This iterator only uses O(c) memory by contrast, but it's a lot of code for such a simple task.\n",
    "class Pow2Iterator:\n",
    "    def __init__(self, n):\n",
    "        self.n = n\n",
    "        self.i = 0\n",
    "    \n",
    "    def __iter__(self):\n",
    "        return self\n",
    "    \n",
    "    def __next__(self):\n",
    "        if self.i == self.n:\n",
    "            raise StopIteration\n",
    "        val = 2**self.i\n",
    "        self.i += 1\n",
    "        return val\n",
    "print(list(Pow2Iterator(10)))\n",
    "\n",
    "# Finally, this implementation uses a generator; it also uses O(c) memory, and is only a few lines of code\n",
    "def gen_pow2(n):\n",
    "    for i in range(n):\n",
    "        yield 2**i\n",
    "print(list(gen_pow2(10)))"
   ]
  },
  {
   "cell_type": "markdown",
   "id": "accepting-sculpture",
   "metadata": {},
   "source": [
    "## Nesting generators"
   ]
  },
  {
   "cell_type": "markdown",
   "id": "determined-wales",
   "metadata": {},
   "source": [
    "Generators can be used within other generators, which can be made quite concise with `yield from`. For instance, let's say we wanted to flatten an arbitrarily-deep nested list (which can contain empty sublists). Doing this with nested generators and recursion is very straightforward. Recursion works well here because of the nesting structure. And because the generators are stateful, they \"remember\" where they left off after each yield so we don't need to keep track of a stack or explicit iteration variables. "
   ]
  },
  {
   "cell_type": "code",
   "execution_count": 9,
   "id": "suitable-missile",
   "metadata": {},
   "outputs": [
    {
     "data": {
      "text/plain": [
       "[1, 2, 3, 4, 5, 6, 7, 8, 9, 10, 11, 12, 13]"
      ]
     },
     "execution_count": 9,
     "metadata": {},
     "output_type": "execute_result"
    }
   ],
   "source": [
    "nested_list = [[1,2,3], 4, [5,[6,7]], [[[8]]], [9], [10,[11,[12,[13]]]]]\n",
    "\n",
    "def list_flattener(arr):\n",
    "    for item in arr:\n",
    "        if isinstance(item, list):\n",
    "            yield from list_flattener(item)\n",
    "        else:\n",
    "            yield item\n",
    "\n",
    "list(list_flattener(nested_list))\n"
   ]
  },
  {
   "cell_type": "markdown",
   "id": "national-martial",
   "metadata": {},
   "source": [
    "Note though that even though generators are very memory efficient due to lazy evaluation, this approach is still O(n) for memory - each recursion triggers a new stack frame, and we recurse each time we go to the next nested list. The worst case looks like `[[[[[[[[[[[ ... [1] ...]]]]]]]]]]]`. "
   ]
  },
  {
   "cell_type": "markdown",
   "id": "interracial-protection",
   "metadata": {},
   "source": [
    "## `send()`"
   ]
  },
  {
   "cell_type": "markdown",
   "id": "upset-governor",
   "metadata": {},
   "source": [
    "`send()` allows you to send data back to the generator. Generators must be structured specifically to make use of this - not every generator can be interacted with via `send()`. The trick here is that `yield` can also be used to recieve data from `send()`, in addition to returning data to the callee. "
   ]
  },
  {
   "cell_type": "code",
   "execution_count": 30,
   "id": "sweet-defendant",
   "metadata": {},
   "outputs": [
    {
     "name": "stdout",
     "output_type": "stream",
     "text": [
      "1\n",
      "2\n",
      "1024\n",
      "2048\n",
      "2\n",
      "4\n",
      "8\n",
      "16\n"
     ]
    }
   ],
   "source": [
    "def sendable_pow2(n):\n",
    "    i = 0\n",
    "    while i < n:\n",
    "        # This line is doing 2 things:\n",
    "        # - actually yielding the value to the caller\n",
    "        # - yield can also recieve a value from send() when used\n",
    "        #   outside the generator.\n",
    "        exponent = yield 2**i\n",
    "        \n",
    "        # So here, if we recieved a value from send(), save it\n",
    "        # as i.\n",
    "        if exponent is not None:\n",
    "            i = exponent\n",
    "        else:\n",
    "            # Otherwise, just increment i as normal. \n",
    "            i += 1\n",
    "            \n",
    "# This generator can still be used as normal\n",
    "list(sendable_pow2(10))\n",
    "\n",
    "# But now we can do this:\n",
    "it = sendable_pow2(100)\n",
    "print(next(it))     # 2^0 = 1\n",
    "print(next(it))     # 2^1 = 2\n",
    "print(it.send(10))  # 2^10 = 1024\n",
    "print(next(it))     # 2^11 = 2048\n",
    "print(it.send(1))\n",
    "print(next(it))\n",
    "print(next(it))\n",
    "print(next(it))"
   ]
  },
  {
   "cell_type": "code",
   "execution_count": null,
   "id": "intended-canvas",
   "metadata": {},
   "outputs": [],
   "source": []
  }
 ],
 "metadata": {
  "kernelspec": {
   "display_name": "Python 3",
   "language": "python",
   "name": "python3"
  },
  "language_info": {
   "codemirror_mode": {
    "name": "ipython",
    "version": 3
   },
   "file_extension": ".py",
   "mimetype": "text/x-python",
   "name": "python",
   "nbconvert_exporter": "python",
   "pygments_lexer": "ipython3",
   "version": "3.9.18"
  }
 },
 "nbformat": 4,
 "nbformat_minor": 5
}
